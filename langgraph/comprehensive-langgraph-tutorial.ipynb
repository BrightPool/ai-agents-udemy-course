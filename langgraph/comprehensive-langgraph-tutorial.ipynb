{
 "cells": [
  {
   "cell_type": "markdown",
   "id": "main-title",
   "metadata": {},
   "source": [
    "# Comprehensive LangGraph Tutorial: Build Intelligent AI Agents\n",
    "\n",
    "Welcome to this comprehensive tutorial on LangGraph! In this notebook, you'll learn how to build increasingly sophisticated AI agents, from a basic chatbot to advanced agents with tools, memory, and complex workflows.\n",
    "\n",
    "## What You'll Learn\n",
    "\n",
    "This tutorial is divided into three comprehensive chapters:\n",
    "\n",
    "1. **Chapter 1: Build a Basic Chatbot** - Learn the fundamentals of LangGraph by creating a simple conversational agent\n",
    "2. **Chapter 2: Add Tools** - Extend your chatbot with web search capabilities using Tavily\n",
    "3. **Chapter 3: Advanced State Management** - Build a sophisticated agent with custom tools and state tracking\n",
    "\n",
    "By the end of this tutorial, you'll understand:\n",
    "- How to create and manage state graphs\n",
    "- How to add nodes and edges to control agent flow\n",
    "- How to integrate external tools\n",
    "- How to implement conditional logic\n",
    "- How to track and manage complex state\n",
    "\n",
    "Let's get started! 🚀"
   ]
  },
  {
   "cell_type": "markdown",
   "id": "setup-section",
   "metadata": {},
   "source": [
    "## Setup and Installation\n",
    "\n",
    "First, let's install all the required packages. We'll need:\n",
    "- `langgraph`: The core library for building stateful agents\n",
    "- `langsmith`: For tracing and debugging (optional but highly recommended)\n",
    "- `langchain-openai`: For OpenAI integration\n",
    "- `langchain-anthropic`: For Anthropic integration (alternative)\n",
    "- `langchain-tavily`: For web search capabilities\n",
    "- `langchain-core`: Core utilities"
   ]
  },
  {
   "cell_type": "code",
   "execution_count": 1,
   "id": "install-packages",
   "metadata": {},
   "outputs": [],
   "source": [
    "%%capture --no-stderr\n",
    "%pip install -U langgraph langsmith langchain-openai langchain-anthropic langchain-tavily langchain-core langchain-community"
   ]
  },
  {
   "cell_type": "markdown",
   "id": "api-keys-section",
   "metadata": {},
   "source": [
    "### Configure API Keys\n",
    "\n",
    "Now let's set up your API keys. This secure approach ensures your keys aren't hardcoded in the notebook.\n",
    "\n",
    "You'll need:\n",
    "- An **OpenAI API key** (get one at https://platform.openai.com/api-keys)\n",
    "- A **LangSmith API key** (optional, get one at https://smith.langchain.com)\n",
    "- A **Tavily API key** for Chapter 2 (get one at https://tavily.com)"
   ]
  },
  {
   "cell_type": "code",
   "execution_count": 2,
   "id": "setup-env",
   "metadata": {},
   "outputs": [],
   "source": [
    "import getpass\n",
    "import os\n",
    "\n",
    "def _set_env(var: str):\n",
    "    \"\"\"Helper function to securely set environment variables\"\"\"\n",
    "    if not os.environ.get(var):\n",
    "        os.environ[var] = getpass.getpass(f\"{var}: \")\n",
    "\n",
    "# Set OpenAI API key\n",
    "_set_env(\"OPENAI_API_KEY\")"
   ]
  },
  {
   "cell_type": "markdown",
   "id": "langsmith-section",
   "metadata": {},
   "source": [
    "### Optional: Enable LangSmith Tracing\n",
    "\n",
    "LangSmith is a powerful tool for debugging and monitoring your LangGraph applications. It lets you:\n",
    "- Visualize the execution flow of your agents\n",
    "- Debug issues by examining traces\n",
    "- Monitor performance and token usage\n",
    "- Test and evaluate your agents\n",
    "\n",
    "If you have a LangSmith account, run the cell below to enable tracing:"
   ]
  },
  {
   "cell_type": "code",
   "execution_count": 3,
   "id": "setup-langsmith",
   "metadata": {},
   "outputs": [],
   "source": [
    "# Optional: Enable LangSmith tracing\n",
    "_set_env(\"LANGSMITH_API_KEY\")\n",
    "os.environ[\"LANGCHAIN_TRACING_V2\"] = \"true\"\n",
    "os.environ[\"LANGCHAIN_PROJECT\"] = \"LangGraph Comprehensive Tutorial\""
   ]
  },
  {
   "cell_type": "markdown",
   "id": "chapter1-title",
   "metadata": {},
   "source": [
    "---\n",
    "# Chapter 1: Build a Basic Chatbot\n",
    "\n",
    "In this chapter, you'll build your first LangGraph agent - a simple chatbot that can hold conversations. This will introduce you to the core concepts of LangGraph.\n",
    "\n",
    "## Key Concepts\n",
    "\n",
    "### 1. State\n",
    "State is the information that flows through your graph. It's defined as a TypedDict and can contain any data your agent needs. In our case, we'll track messages.\n",
    "\n",
    "### 2. StateGraph\n",
    "A StateGraph is a state machine that defines how your agent processes information. It consists of:\n",
    "- **Nodes**: Units of work (functions that process the state)\n",
    "- **Edges**: Connections between nodes that define the flow\n",
    "\n",
    "### 3. Reducers\n",
    "Reducers control how state updates are applied. The `add_messages` reducer appends new messages instead of overwriting them.\n",
    "\n",
    "Let's build our chatbot step by step!"
   ]
  },
  {
   "cell_type": "markdown",
   "id": "step1-state",
   "metadata": {},
   "source": [
    "## Step 1: Define the State\n",
    "\n",
    "First, we need to define what information our chatbot will track. For a basic chatbot, we'll track a list of messages.\n",
    "\n",
    "Notice the `add_messages` annotation - this tells LangGraph to append new messages to the list rather than replacing the entire list."
   ]
  },
  {
   "cell_type": "code",
   "execution_count": null,
   "id": "chapter1-state",
   "metadata": {},
   "outputs": [
    {
     "name": "stdout",
     "output_type": "stream",
     "text": [
      "✓ State defined successfully!\n",
      "\n",
      "Our state tracks:\n",
      "  - messages: list of conversation messages (with add_messages reducer)\n"
     ]
    }
   ],
   "source": [
    "from typing import Annotated\n",
    "from typing_extensions import TypedDict\n",
    "from langgraph.graph import StateGraph, START, END\n",
    "from langgraph.graph.message import add_messages\n",
    "\n",
    "class State(TypedDict):\n",
    "    \"\"\"\n",
    "    The State of our chatbot.\n",
    "\n",
    "    Attributes:\n",
    "        messages: A list of messages in the conversation.\n",
    "                  The add_messages reducer appends new messages instead of overwriting.\n",
    "    \"\"\"\n",
    "    messages: Annotated[list, add_messages]\n",
    "    test: str\n",
    "\n",
    "print(\"✓ State defined successfully!\")\n",
    "print(\"\\nOur state tracks:\")\n",
    "print(\"  - messages: list of conversation messages (with add_messages reducer)\")"
   ]
  },
  {
   "cell_type": "markdown",
   "id": "step2-graph",
   "metadata": {},
   "source": [
    "## Step 2: Create the StateGraph\n",
    "\n",
    "Now we'll create a StateGraph object. This is the foundation of our chatbot - it defines the structure of our agent as a state machine."
   ]
  },
  {
   "cell_type": "code",
   "execution_count": 4,
   "id": "chapter1-graph",
   "metadata": {},
   "outputs": [
    {
     "name": "stdout",
     "output_type": "stream",
     "text": [
      "✓ StateGraph created!\n",
      "\n",
      "The graph builder is ready to:\n",
      "  1. Accept nodes (units of work)\n",
      "  2. Connect nodes with edges (define the flow)\n",
      "  3. Compile into a runnable graph\n"
     ]
    }
   ],
   "source": [
    "# Create the graph builder\n",
    "graph_builder = StateGraph(State)\n",
    "\n",
    "print(\"✓ StateGraph created!\")\n",
    "print(\"\\nThe graph builder is ready to:\")\n",
    "print(\"  1. Accept nodes (units of work)\")\n",
    "print(\"  2. Connect nodes with edges (define the flow)\")\n",
    "print(\"  3. Compile into a runnable graph\")"
   ]
  },
  {
   "cell_type": "markdown",
   "id": "step3-llm",
   "metadata": {},
   "source": [
    "## Step 3: Initialize the Language Model\n",
    "\n",
    "We'll use OpenAI's GPT-4 for our chatbot. The `init_chat_model` function provides a unified interface for different LLM providers."
   ]
  },
  {
   "cell_type": "code",
   "execution_count": 5,
   "id": "chapter1-llm",
   "metadata": {},
   "outputs": [
    {
     "name": "stdout",
     "output_type": "stream",
     "text": [
      "✓ Language model initialized!\n",
      "\n",
      "Using model: GPT-4o\n",
      "Temperature: 0 (deterministic responses)\n"
     ]
    }
   ],
   "source": [
    "from langchain.chat_models import init_chat_model\n",
    "\n",
    "# Initialize the language model\n",
    "# You can also use \"anthropic:claude-3-5-sonnet-latest\" or other models\n",
    "llm = init_chat_model(\"openai:gpt-5\", temperature=0)\n",
    "\n",
    "print(\"✓ Language model initialized!\")\n",
    "print(f\"\\nUsing model: GPT-4o\")\n",
    "print(\"Temperature: 0 (deterministic responses)\")"
   ]
  },
  {
   "cell_type": "markdown",
   "id": "step4-node",
   "metadata": {},
   "source": [
    "## Step 4: Create the Chatbot Node\n",
    "\n",
    "Nodes are functions that do the actual work. Our chatbot node will:\n",
    "1. Receive the current state (with all messages)\n",
    "2. Send the messages to the LLM\n",
    "3. Return the LLM's response as a state update\n",
    "\n",
    "Notice the pattern: the function receives `state` and returns a dictionary with updates to apply."
   ]
  },
  {
   "cell_type": "code",
   "execution_count": null,
   "id": "chapter1-node",
   "metadata": {},
   "outputs": [
    {
     "name": "stdout",
     "output_type": "stream",
     "text": [
      "✓ Chatbot node created and added to graph!\n",
      "\n",
      "Node function:\n",
      "  Input: Current state with message history\n",
      "  Process: Send messages to LLM\n",
      "  Output: LLM response as new message\n"
     ]
    }
   ],
   "source": [
    "def chatbot(state: State):\n",
    "    \"\"\"\n",
    "    The chatbot node that processes messages.\n",
    "\n",
    "    Args:\n",
    "        state: The current state containing the message history\n",
    "\n",
    "    Returns:\n",
    "        A dictionary with the new message to add to the state\n",
    "    \"\"\"\n",
    "    # Invoke the LLM with the current message history\n",
    "    response = llm.invoke(state[\"messages\"])\n",
    "\n",
    "    # 1. First copy the state:\n",
    "    # state_copy_test = state['test']\n",
    "    # 2. Then update the copy:#\n",
    "    # new_state_test = state_copy_test + ' test'\n",
    "    #\n",
    "    # Return the response as a state update\n",
    "    # The add_messages reducer will append this to the message list\n",
    "    #  3. Then return the updated copy:\n",
    "    return {\"messages\": [response]} #'test': new_state_test}\n",
    "\n",
    "# Add the node to our graph\n",
    "# First argument: unique node name\n",
    "# Second argument: the function to call\n",
    "graph_builder.add_node(\"chatbot\", chatbot)\n",
    "\n",
    "print(\"✓ Chatbot node created and added to graph!\")\n",
    "print(\"\\nNode function:\")\n",
    "print(\"  Input: Current state with message history\")\n",
    "print(\"  Process: Send messages to LLM\")\n",
    "print(\"  Output: LLM response as new message\")"
   ]
  },
  {
   "cell_type": "markdown",
   "id": "step5-edges",
   "metadata": {},
   "source": [
    "## Step 5: Define the Flow with Edges\n",
    "\n",
    "Now we need to tell the graph:\n",
    "1. Where to start (entry point)\n",
    "2. Where to end (exit point)\n",
    "\n",
    "Edges connect nodes and define the execution flow."
   ]
  },
  {
   "cell_type": "code",
   "execution_count": 7,
   "id": "chapter1-edges",
   "metadata": {},
   "outputs": [
    {
     "name": "stdout",
     "output_type": "stream",
     "text": [
      "✓ Graph flow defined!\n",
      "\n",
      "Execution flow:\n",
      "  START → chatbot → END\n",
      "\n",
      "This creates a simple linear flow where:\n",
      "  1. Execution starts\n",
      "  2. Chatbot processes the input\n",
      "  3. Execution ends\n"
     ]
    }
   ],
   "source": [
    "# Define the entry point: start at the chatbot node\n",
    "graph_builder.add_edge(START, \"chatbot\")\n",
    "\n",
    "# Define the exit point: end after the chatbot responds\n",
    "graph_builder.add_edge(\"chatbot\", END)\n",
    "\n",
    "print(\"✓ Graph flow defined!\")\n",
    "print(\"\\nExecution flow:\")\n",
    "print(\"  START → chatbot → END\")\n",
    "print(\"\\nThis creates a simple linear flow where:\")\n",
    "print(\"  1. Execution starts\")\n",
    "print(\"  2. Chatbot processes the input\")\n",
    "print(\"  3. Execution ends\")"
   ]
  },
  {
   "cell_type": "markdown",
   "id": "step6-compile",
   "metadata": {},
   "source": [
    "## Step 6: Compile the Graph\n",
    "\n",
    "Before we can use our graph, we need to compile it. This creates a `CompiledGraph` that we can invoke."
   ]
  },
  {
   "cell_type": "code",
   "execution_count": 8,
   "id": "chapter1-compile",
   "metadata": {},
   "outputs": [
    {
     "name": "stdout",
     "output_type": "stream",
     "text": [
      "✓ Graph compiled successfully!\n",
      "\n",
      "The graph is now ready to use!\n",
      "You can:\n",
      "  - invoke() for single responses\n",
      "  - stream() for streaming responses\n",
      "  - visualize it with draw_mermaid_png()\n"
     ]
    }
   ],
   "source": [
    "# Compile the graph into a runnable object\n",
    "graph = graph_builder.compile()\n",
    "\n",
    "print(\"✓ Graph compiled successfully!\")\n",
    "print(\"\\nThe graph is now ready to use!\")\n",
    "print(\"You can:\")\n",
    "print(\"  - invoke() for single responses\")\n",
    "print(\"  - stream() for streaming responses\")\n",
    "print(\"  - visualize it with draw_mermaid_png()\")"
   ]
  },
  {
   "cell_type": "markdown",
   "id": "step7-visualize",
   "metadata": {},
   "source": [
    "## Step 7: Visualize the Graph (Optional)\n",
    "\n",
    "LangGraph allows you to visualize your agent's structure. This is incredibly helpful for understanding and debugging complex workflows."
   ]
  },
  {
   "cell_type": "code",
   "execution_count": 26,
   "id": "chapter1-visualize",
   "metadata": {},
   "outputs": [
    {
     "data": {
      "image/png": "[encoded data removed]",
      "text/plain": [
       "<IPython.core.display.Image object>"
      ]
     },
     "metadata": {},
     "output_type": "display_data"
    },
    {
     "name": "stdout",
     "output_type": "stream",
     "text": [
      "\n",
      "✓ Graph visualization displayed above!\n"
     ]
    }
   ],
   "source": [
    "from IPython.display import Image, display\n",
    "\n",
    "try:\n",
    "    display(Image(graph.get_graph().draw_mermaid_png()))\n",
    "    print(\"\\n✓ Graph visualization displayed above!\")\n",
    "except Exception as e:\n",
    "    print(f\"Could not display graph visualization: {e}\")\n",
    "    print(\"This is optional and requires additional dependencies.\")"
   ]
  },
  {
   "cell_type": "markdown",
   "id": "step8-test",
   "metadata": {},
   "source": [
    "## Step 8: Test the Chatbot\n",
    "\n",
    "Now let's test our chatbot! We'll create a simple streaming function that displays the chatbot's responses."
   ]
  },
  {
   "cell_type": "code",
   "execution_count": null,
   "id": "chapter1-test",
   "metadata": {},
   "outputs": [
    {
     "name": "stdout",
     "output_type": "stream",
     "text": [
      "Testing the chatbot with: 'What is LangGraph?'\n",
      "\n",
      "Assistant: LangGraph is an open‑source library (Python and JavaScript) from LangChain for building stateful, multi‑step AI agents and workflows as graphs/state machines. It’s designed for agentic apps that need loops, memory, tool use, and human‑in‑the‑loop control—capabilities that go beyond simple DAG pipelines.\n",
      "\n",
      "Key ideas\n",
      "- State: A typed, shared state object (with merge/reducer semantics) that persists across steps.\n",
      "- Nodes: Functions/LLM calls/tools/subgraphs that read/update state.\n",
      "- Edges: Deterministic or conditional transitions between nodes; supports cycles (loops) and branching.\n",
      "- Persistence: Built‑in checkpointing so you can pause/resume, recover from errors, and maintain per‑session memory (e.g., SQLite, Postgres, Redis, LangSmith).\n",
      "- Streaming and events: Stream state deltas/tokens and observe fine‑grained events.\n",
      "- Interrupts: Add breakpoints for human approval or external input mid‑run.\n",
      "- Multi‑agent patterns: Compose planner/solver/critic, tool‑using agents, or specialist teams.\n",
      "- Integrations: Works with LangChain’s ecosystem (OpenAI, Anthropic, Google, Bedrock, local LLMs, vector stores, tools).\n",
      "\n",
      "Typical uses\n",
      "- Tool‑using chat agents with memory\n",
      "- Iterative RAG (retrieve → grade → reformulate → answer, with loops)\n",
      "- Planner/executor/critic agent teams\n",
      "- Long‑running workflows that must be resumable and observable\n",
      "\n",
      "Deployment\n",
      "- Run locally or on your own infra.\n",
      "- LangGraph Cloud (managed service) lets you deploy graphs as stateful APIs with built‑in persistence, scaling, streaming, and auth, with minimal code changes.\n",
      "\n",
      "In short: LangGraph gives you precise, reliable control over agent workflows by modeling them as stateful graphs with persistence, streaming, and human‑in‑the‑loop capabilities.\n"
     ]
    }
   ],
   "source": [
    "def stream_graph_updates(user_input: str):\n",
    "    \"\"\"\n",
    "    Stream graph updates and display the chatbot's response.\n",
    "\n",
    "    Args:\n",
    "        user_input: The user's message\n",
    "    \"\"\"\n",
    "    for event in graph.stream({\"messages\": [{\"role\": \"user\", \"content\": user_input}]}):\n",
    "        for value in event.values():\n",
    "            print(\"Assistant:\", value[\"messages\"][-1].content)\n",
    "\n",
    "# Test with a simple message\n",
    "print(\"Testing the chatbot with: 'What is LangGraph?'\\n\")\n",
    "stream_graph_updates(\"What is LangGraph?\")"
   ]
  },
  {
   "cell_type": "markdown",
   "id": "chapter1-interactive",
   "metadata": {},
   "source": [
    "## Interactive Chat Loop\n",
    "\n",
    "Now let's create an interactive chat loop so you can have a real conversation with your chatbot!\n",
    "\n",
    "**Tip:** Type 'quit', 'exit', or 'q' to exit the chat."
   ]
  },
  {
   "cell_type": "code",
   "execution_count": null,
   "id": "chapter1-interactive-loop",
   "metadata": {},
   "outputs": [
    {
     "name": "stdout",
     "output_type": "stream",
     "text": [
      "==================================================\n",
      "Interactive Chatbot - Chapter 1\n",
      "==================================================\n",
      "Type 'quit', 'exit', or 'q' to exit\n",
      "\n"
     ]
    },
    {
     "name": "stderr",
     "output_type": "stream",
     "text": [
      "Failed to send compressed multipart ingest: langsmith.utils.LangSmithAuthError: Authentication failed for https://api.smith.langchain.com/runs/multipart. HTTPError('401 Client Error: Unauthorized for url: https://api.smith.langchain.com/runs/multipart', '{\"error\":\"Unauthorized\"}\\n')trace=701c23c2-a54f-41b9-9d19-d43c45394a3d,id=db236d80-0205-45fd-810f-b88e4991b59e; trace=701c23c2-a54f-41b9-9d19-d43c45394a3d,id=ccf7c089-4f3a-4080-8e4c-e9858adcaff8; trace=701c23c2-a54f-41b9-9d19-d43c45394a3d,id=701c23c2-a54f-41b9-9d19-d43c45394a3d\n",
      "Failed to send compressed multipart ingest: langsmith.utils.LangSmithAuthError: Authentication failed for https://api.smith.langchain.com/runs/multipart. HTTPError('401 Client Error: Unauthorized for url: https://api.smith.langchain.com/runs/multipart', '{\"error\":\"Unauthorized\"}\\n')trace=96eb84b4-64f9-4fee-8b96-af5caefb3841,id=96eb84b4-64f9-4fee-8b96-af5caefb3841; trace=96eb84b4-64f9-4fee-8b96-af5caefb3841,id=1eb2d3fc-a3b8-42c4-bf5b-fc2fa5bee48d; trace=96eb84b4-64f9-4fee-8b96-af5caefb3841,id=e93e474f-f27a-4e50-8442-b674799252e6\n"
     ]
    },
    {
     "name": "stdout",
     "output_type": "stream",
     "text": [
      "Assistant: It looks like your message didn’t come through. How can I help today?\n",
      "\n",
      "If it helps, you can tell me:\n",
      "- What you’re trying to do (e.g., explain a concept, draft an email, fix code, plan a trip)\n",
      "- Any text or data to work with (paste it here)\n",
      "- Goals, audience, tone, and length\n",
      "- Deadlines or constraints (tools, format, word count)\n",
      "\n",
      "Feel free to paste the content or describe the task, and I’ll jump in.\n",
      "\n"
     ]
    }
   ],
   "source": [
    "print(\"=\" * 50)\n",
    "print(\"Interactive Chatbot - Chapter 1\")\n",
    "print(\"=\" * 50)\n",
    "print(\"Type 'quit', 'exit', or 'q' to exit\\n\")\n",
    "\n",
    "while True:\n",
    "    try:\n",
    "        user_input = input(\"User: \")\n",
    "        if user_input.lower() in [\"quit\", \"exit\", \"q\"]:\n",
    "            print(\"Goodbye!\")\n",
    "            break\n",
    "        stream_graph_updates(user_input)\n",
    "        print()  # Add a blank line for readability\n",
    "    except KeyboardInterrupt:\n",
    "        print(\"\\nGoodbye!\")\n",
    "        break\n",
    "    except Exception as e:\n",
    "        print(f\"An error occurred: {e}\")\n",
    "        break"
   ]
  },
  {
   "cell_type": "markdown",
   "id": "chapter1-summary",
   "metadata": {},
   "source": [
    "## Chapter 1 Summary\n",
    "\n",
    "Congratulations! You've built your first LangGraph agent! 🎉\n",
    "\n",
    "### What You Learned:\n",
    "\n",
    "1. **State Management**: How to define state with TypedDict and use reducers\n",
    "2. **StateGraph**: How to create a state machine for your agent\n",
    "3. **Nodes**: How to define units of work as functions\n",
    "4. **Edges**: How to control the flow of execution\n",
    "5. **Compilation**: How to compile and run your graph\n",
    "\n",
    "### Limitations:\n",
    "\n",
    "Our current chatbot has some limitations:\n",
    "- It can only answer from its training data\n",
    "- It can't search the web for current information\n",
    "- It doesn't remember conversations between runs\n",
    "\n",
    "In the next chapter, we'll address the first limitation by adding web search capabilities! 🔍"
   ]
  },
  {
   "cell_type": "markdown",
   "id": "chapter2-title",
   "metadata": {},
   "source": [
    "---\n",
    "# Chapter 2: Add Tools to Your Chatbot\n",
    "\n",
    "In this chapter, we'll enhance our chatbot by adding tool-calling capabilities. Specifically, we'll integrate web search so the chatbot can find current information.\n",
    "\n",
    "## Key Concepts\n",
    "\n",
    "### 1. Tool Calling\n",
    "Modern LLMs can decide when to use tools. They output structured tool calls that we can execute and feed the results back to the LLM.\n",
    "\n",
    "### 2. Conditional Edges\n",
    "Unlike fixed edges, conditional edges use functions to decide where to route the execution based on the current state.\n",
    "\n",
    "### 3. Tool Node\n",
    "A special node that executes tool calls made by the LLM.\n",
    "\n",
    "### 4. Loops\n",
    "Our graph will now have a loop: chatbot → tools → chatbot → END\n",
    "\n",
    "Let's build it!"
   ]
  },
  {
   "cell_type": "markdown",
   "id": "chapter2-setup",
   "metadata": {},
   "source": [
    "## Step 1: Set Up Tavily Search\n",
    "\n",
    "Tavily is a search engine optimized for LLMs. Let's set up our API key and create a search tool."
   ]
  },
  {
   "cell_type": "code",
   "execution_count": 10,
   "id": "chapter2-tavily-setup",
   "metadata": {},
   "outputs": [
    {
     "name": "stdout",
     "output_type": "stream",
     "text": [
      "✓ Tavily API key configured!\n"
     ]
    }
   ],
   "source": [
    "# Set up Tavily API key\n",
    "_set_env(\"TAVILY_API_KEY\")\n",
    "\n",
    "print(\"✓ Tavily API key configured!\")"
   ]
  },
  {
   "cell_type": "markdown",
   "id": "chapter2-tool-def",
   "metadata": {},
   "source": [
    "## Step 2: Define the Search Tool\n",
    "\n",
    "We'll create a TavilySearch tool that can search the web. The `max_results=2` parameter limits the number of results to keep responses concise."
   ]
  },
  {
   "cell_type": "code",
   "execution_count": 11,
   "id": "chapter2-tool",
   "metadata": {},
   "outputs": [
    {
     "name": "stdout",
     "output_type": "stream",
     "text": [
      "✓ Tavily search tool created!\n",
      "\n",
      "Tool capabilities:\n",
      "  - Name: tavily_search\n",
      "  - Description: A search engine optimized for comprehensive, accurate, and trusted results. Useful for when you need to answer questions about current events. It not only retrieves URLs and snippets, but offers advanced search depths, domain management, time range filters, and image search, this tool delivers real-time, accurate, and citation-backed results.Input should be a search query.\n",
      "  - Max results: 2\n",
      "\n",
      "Testing the tool with query: 'What is LangGraph?'\n",
      "\n",
      "Got 2 results!\n",
      "First result title: What is LangGraph?\n"
     ]
    }
   ],
   "source": [
    "from langchain_tavily import TavilySearch\n",
    "\n",
    "# Create the search tool\n",
    "tool = TavilySearch(max_results=2)\n",
    "tools = [tool]\n",
    "\n",
    "print(\"✓ Tavily search tool created!\")\n",
    "print(\"\\nTool capabilities:\")\n",
    "print(f\"  - Name: {tool.name}\")\n",
    "print(f\"  - Description: {tool.description}\")\n",
    "print(\"  - Max results: 2\")\n",
    "\n",
    "# Test the tool\n",
    "print(\"\\nTesting the tool with query: 'What is LangGraph?'\")\n",
    "result = tool.invoke(\"What is LangGraph?\")\n",
    "print(f\"\\nGot {len(result.get('results', []))} results!\")\n",
    "if result.get('results'):\n",
    "    print(f\"First result title: {result['results'][0]['title']}\")"
   ]
  },
  {
   "cell_type": "markdown",
   "id": "chapter2-state",
   "metadata": {},
   "source": [
    "## Step 3: Create the State and Graph\n",
    "\n",
    "We'll use the same State definition as Chapter 1, but now we'll bind tools to the LLM."
   ]
  },
  {
   "cell_type": "code",
   "execution_count": 12,
   "id": "chapter2-state",
   "metadata": {},
   "outputs": [
    {
     "name": "stdout",
     "output_type": "stream",
     "text": [
      "✓ State and graph builder created!\n",
      "✓ Tools bound to LLM!\n",
      "\n",
      "The LLM can now:\n",
      "  - Decide when to use tools\n",
      "  - Format tool calls correctly\n",
      "  - Incorporate tool results into responses\n"
     ]
    }
   ],
   "source": [
    "# Reuse the State definition from Chapter 1\n",
    "class State(TypedDict):\n",
    "    messages: Annotated[list, add_messages]\n",
    "\n",
    "# Create a new graph builder\n",
    "graph_builder = StateGraph(State)\n",
    "\n",
    "# Bind tools to the LLM\n",
    "# This tells the LLM about available tools and how to call them\n",
    "llm_with_tools = llm.bind_tools(tools)\n",
    "\n",
    "print(\"✓ State and graph builder created!\")\n",
    "print(\"✓ Tools bound to LLM!\")\n",
    "print(\"\\nThe LLM can now:\")\n",
    "print(\"  - Decide when to use tools\")\n",
    "print(\"  - Format tool calls correctly\")\n",
    "print(\"  - Incorporate tool results into responses\")"
   ]
  },
  {
   "cell_type": "markdown",
   "id": "chapter2-chatbot-node",
   "metadata": {},
   "source": [
    "## Step 4: Create the Enhanced Chatbot Node\n",
    "\n",
    "Our chatbot node now uses the LLM with tools. The LLM can choose to:\n",
    "1. Respond directly to the user\n",
    "2. Call a tool to get more information first"
   ]
  },
  {
   "cell_type": "code",
   "execution_count": null,
   "id": "chapter2-chatbot-node",
   "metadata": {},
   "outputs": [
    {
     "name": "stdout",
     "output_type": "stream",
     "text": [
      "✓ Enhanced chatbot node added!\n"
     ]
    }
   ],
   "source": [
    "def chatbot(state: State):\n",
    "    \"\"\"\n",
    "    Enhanced chatbot node that can call tools.\n",
    "\n",
    "    The LLM will decide whether to:\n",
    "    1. Respond directly to the user\n",
    "    2. Call a tool to gather information first\n",
    "    \"\"\"\n",
    "    return {\"messages\": [llm_with_tools.invoke(state[\"messages\"])]}\n",
    "\n",
    "# Add the chatbot node\n",
    "graph_builder.add_node(\"chatbot\", chatbot)\n",
    "\n",
    "print(\"✓ Enhanced chatbot node added!\")"
   ]
  },
  {
   "cell_type": "markdown",
   "id": "chapter2-tool-node",
   "metadata": {},
   "source": [
    "## Step 5: Create the Tool Node\n",
    "\n",
    "The tool node executes any tool calls made by the LLM. LangGraph provides a prebuilt `ToolNode` for this!\n",
    "\n",
    "Here's what happens:\n",
    "1. The LLM makes a tool call (structured output)\n",
    "2. The tool node extracts the tool name and arguments\n",
    "3. It executes the tool\n",
    "4. It packages the result as a ToolMessage\n",
    "5. The result goes back to the LLM"
   ]
  },
  {
   "cell_type": "code",
   "execution_count": 14,
   "id": "chapter2-tool-node",
   "metadata": {},
   "outputs": [
    {
     "name": "stdout",
     "output_type": "stream",
     "text": [
      "✓ Tool node created and added!\n",
      "\n",
      "Tool node will:\n",
      "  1. Extract tool calls from the LLM's response\n",
      "  2. Execute the requested tools\n",
      "  3. Format results as ToolMessages\n",
      "  4. Return results to be added to the state\n"
     ]
    }
   ],
   "source": [
    "from langgraph.prebuilt import ToolNode\n",
    "\n",
    "# Create a tool node using LangGraph's prebuilt ToolNode\n",
    "tool_node = ToolNode(tools=tools)\n",
    "\n",
    "# Add it to the graph\n",
    "graph_builder.add_node(\"tools\", tool_node)\n",
    "\n",
    "print(\"✓ Tool node created and added!\")\n",
    "print(\"\\nTool node will:\")\n",
    "print(\"  1. Extract tool calls from the LLM's response\")\n",
    "print(\"  2. Execute the requested tools\")\n",
    "print(\"  3. Format results as ToolMessages\")\n",
    "print(\"  4. Return results to be added to the state\")"
   ]
  },
  {
   "cell_type": "markdown",
   "id": "chapter2-routing",
   "metadata": {},
   "source": [
    "## Step 6: Define Conditional Routing\n",
    "\n",
    "Now comes the interesting part! We need conditional logic to decide:\n",
    "- If the LLM made tool calls → route to the tool node\n",
    "- If the LLM responded directly → end the conversation\n",
    "\n",
    "LangGraph provides a prebuilt `tools_condition` function for this!"
   ]
  },
  {
   "cell_type": "code",
   "execution_count": 15,
   "id": "chapter2-routing",
   "metadata": {},
   "outputs": [
    {
     "name": "stdout",
     "output_type": "stream",
     "text": [
      "✓ Conditional routing configured!\n",
      "\n",
      "Execution flow:\n",
      "  START → chatbot\n",
      "           ↓\n",
      "       [Decision]\n",
      "      ↙         ↘\n",
      "   tools        END\n",
      "     ↓\n",
      "  chatbot\n",
      "     ↓\n",
      "    END\n"
     ]
    }
   ],
   "source": [
    "from langgraph.prebuilt import tools_condition\n",
    "\n",
    "# Add conditional edges from the chatbot\n",
    "# The tools_condition function checks if tool calls were made\n",
    "graph_builder.add_conditional_edges(\n",
    "    \"chatbot\",  # Source node\n",
    "    tools_condition,  # Condition function\n",
    ")\n",
    "\n",
    "# After tools are executed, always go back to the chatbot\n",
    "# This allows the LLM to use tool results in its response\n",
    "graph_builder.add_edge(\"tools\", \"chatbot\")\n",
    "\n",
    "# Define the entry point\n",
    "graph_builder.add_edge(START, \"chatbot\")\n",
    "\n",
    "print(\"✓ Conditional routing configured!\")\n",
    "print(\"\\nExecution flow:\")\n",
    "print(\"  START → chatbot\")\n",
    "print(\"           ↓\")\n",
    "print(\"       [Decision]\")\n",
    "print(\"      ↙         ↘\")\n",
    "print(\"   tools        END\")\n",
    "print(\"     ↓\")\n",
    "print(\"  chatbot\")\n",
    "print(\"     ↓\")\n",
    "print(\"    END\")"
   ]
  },
  {
   "cell_type": "markdown",
   "id": "chapter2-compile",
   "metadata": {},
   "source": [
    "## Step 7: Compile and Visualize\n",
    "\n",
    "Let's compile our enhanced graph and visualize it!"
   ]
  },
  {
   "cell_type": "code",
   "execution_count": 16,
   "id": "chapter2-compile",
   "metadata": {},
   "outputs": [
    {
     "name": "stdout",
     "output_type": "stream",
     "text": [
      "✓ Enhanced graph compiled!\n",
      "\n",
      "The graph now supports:\n",
      "  - Tool calling\n",
      "  - Conditional routing\n",
      "  - Loops (tool → chatbot → tool)\n",
      "\n",
      "Could not display visualization: name 'Image' is not defined\n"
     ]
    }
   ],
   "source": [
    "# Compile the graph\n",
    "graph = graph_builder.compile()\n",
    "\n",
    "print(\"✓ Enhanced graph compiled!\")\n",
    "print(\"\\nThe graph now supports:\")\n",
    "print(\"  - Tool calling\")\n",
    "print(\"  - Conditional routing\")\n",
    "print(\"  - Loops (tool → chatbot → tool)\")\n",
    "\n",
    "# Visualize the graph\n",
    "try:\n",
    "    display(Image(graph.get_graph().draw_mermaid_png()))\n",
    "    print(\"\\n✓ Graph visualization displayed above!\")\n",
    "    print(\"Notice the loop between 'chatbot' and 'tools'!\")\n",
    "except Exception as e:\n",
    "    print(f\"\\nCould not display visualization: {e}\")"
   ]
  },
  {
   "cell_type": "markdown",
   "id": "chapter2-test",
   "metadata": {},
   "source": [
    "## Step 8: Test the Enhanced Chatbot\n",
    "\n",
    "Let's test our chatbot with questions that require web search!"
   ]
  },
  {
   "cell_type": "code",
   "execution_count": 17,
   "id": "chapter2-test",
   "metadata": {},
   "outputs": [
    {
     "name": "stdout",
     "output_type": "stream",
     "text": [
      "Testing with: 'What are the latest features in LangGraph?'\n",
      "\n",
      "Assistant: \n",
      "Assistant: {\"query\": \"LangGraph platform updates 2025\", \"follow_up_questions\": null, \"answer\": null, \"images\": [], \"results\": [{\"url\": \"https://datahub.io/@donbr/langgraph-unleashed/agent-platform-ecosystem\", \"title\": \"Platform Ecosystem: LangGraph alternatives (May 2025)\", \"content\": \"The following diagram illustrates the current landscape of LangGraph alternatives, organized by platform type and updated with the latest 2025 developments:\\n\\n## 1. Open Source Frameworks (Updated)\\n\\n### 🆕 Google ADK (Agent Development Kit) [...] ## 2. Enterprise Cloud Platforms (2025 Updates)\\n\\n### 🔥 Azure AI Foundry Agent Service (GA)\\n\\n Launch: May 19, 2025 - General Availability\\n Unified Experience: AutoGen + Semantic Kernel in single SDK\\n Security: Microsoft Entra Agent ID for enterprise identity management\\n Protocols: Native A2A and MCP support\\n Observability: Built-in performance, quality, cost, and safety metrics\\n Best For: Enterprise Microsoft environments\\n\\n### 🔄 Google Vertex AI (Enhanced) [...] Launch: \\\"Today, we're launching a new, open protocol called Agent2Agent (A2A)\\\" in April 2025\\n Partners: \\\"with support and contributions from more than 50 technology partners like Atlassian, Box, Cohere, Intuit, Langchain, MongoDB, PayPal, Salesforce, SAP, ServiceNow, UKG and Workday\\\"\\n Technology: \\\"JSON-RPC 2.0 over HTTP(S) for request/response interactions\\\" with \\\"Server-Sent Events (SSE) for streaming real-time updates\\\"\", \"score\": 0.85567063, \"raw_content\": null}, {\"url\": \"https://changelog.langchain.com/\", \"title\": \"LangChain - Changelog\", \"content\": \"August 27, 2025\\n\\nLangSmith Self-Hosted\\n\\n## LangSmith Self-Hosted v0.11\\n\\nThis release brings customizable LangGraph Platform deployments, streamlined evaluation via Align Evals, running evals directly from Studio, and operational...\\n\\nAugust 18, 2025\\n\\nLangGraph Platform\\n\\n## Trace Mode in LangGraph Studio\\n\\nDebugging and improving agents just got a lot smoother. With Trace Mode , you can now view your LangSmith traces directly in Studio —no more jumping between...\\n\\nAugust 15, 2025\\n\\nLangGraph [...] v0.11.31\\n\\nLangSmith\\n\\n## Create org-scoped API keys with granular permissions\\n\\nYou can now create org-scoped service keys and optionally, assign roles for created keys. These updates give you more control, allowing you to: Learn more...\\n\\nSeptember 9, 2025\\n\\nAugust 2025\\n\\nLangGraph Platform\\n\\n## Revision queueing in LangGraph Platform\\n\\nKeep your deployments smooth and predictable. With Revision Queueing , any new revisions are automatically lined up and processed only after the current one... [...] ## Dynamic tool calling in LangGraph agents\\n\\nAgents don’t always need the same tools at every step. With dynamic tool calling , you can now control which tools are available at different points in a...\\n\\nAugust 6, 2025\\n\\nJuly 2025\\n\\nLangGraph Platform\\n\\n## Connect traces in LangSmith to server logs in LangGraph Platform\\n\\nWe’ve made agentic observability even easier — you can now connect traces in LangSmith to server logs within the LangGraph Platform. When viewing a trace...\\n\\nJuly 31, 2025\", \"score\": 0.8539252, \"raw_content\": null}], \"response_time\": 2.41, \"request_id\": \"91e3bc7d-7761-4369-9b2a-78ee8842e847\"}\n",
      "Assistant: Here’s a quick roundup of the most recent LangGraph updates (as of Sep 2025), split by open-source core, JS SDK, and Platform/Studio.\n",
      "\n",
      "Open-source LangGraph (Python/JS)\n",
      "- v1.0 alpha releases: New API/docs direction aimed at production-grade agent orchestration with durable execution and finer control. Upgrade paths:\n",
      "  - Python: pip install langgraph==1.0.0a1\n",
      "  - JavaScript: npm install @langchain/langgraph@alpha\n",
      "  - Ref: blog.langchain.com/langchain-langchain-1-0-alpha-releases\n",
      "- Architecture focus: durability/checkpointing, resumability, and precise control over agent graphs (context from “Building LangGraph”). Ref: blog.langchain.com/building-langgraph\n",
      "\n",
      "LangGraph JS SDK (selected recent features from releases)\n",
      "- Stream modes for “tasks” and “checkpoints”: richer, structured streaming for live UIs and observability.\n",
      "- Task result population: easier to consume results from streamed task outputs.\n",
      "- Stream behavior fixes: respect streamMode when invoking subgraphs; better propagation of recursionLimit and signals.\n",
      "- createReactAgent improvements: optional checkpointer support.\n",
      "- Ref: github.com/langchain-ai/langgraphjs/releases\n",
      "\n",
      "LangGraph Platform and Studio\n",
      "- Dynamic tool calling for agents: control which tools are available at different points in a workflow. Ref: changelog.langchain.com (Aug 6, 2025)\n",
      "- Trace Mode in Studio: view LangSmith traces directly in Studio for faster debugging. Ref: changelog.langchain.com (Aug 15, 2025)\n",
      "- Revision queueing: safer, predictable rollout of new revisions to deployments. Ref: changelog.langchain.com (Aug 27, 2025)\n",
      "- Connect LangSmith traces to Platform server logs: tighter observability loop. Ref: changelog.langchain.com (Jul 31, 2025)\n",
      "- LangGraph Server API (docs): assistants/threads/runs with built‑in persistence, task queue, cron jobs, webhooks; designed for deploying and managing agent apps. Ref: docs.langchain.com/langgraph-platform/langgraph-server\n",
      "\n",
      "Sources\n",
      "- 1.0 Alpha announcement: https://blog.langchain.com/langchain-langchain-1-0-alpha-releases/\n",
      "- Building LangGraph (design/feature context): https://blog.langchain.com/building-langgraph/\n",
      "- LangChain/LangGraph Changelog (Platform/Studio): https://changelog.langchain.com/\n",
      "- LangGraph JS releases: https://github.com/langchain-ai/langgraphjs/releases\n",
      "- LangGraph Server docs: https://docs.langchain.com/langgraph-platform/langgraph-server\n",
      "\n",
      "If you tell me your stack (Python or JS) and whether you’re on open-source only or using Studio/Platform, I can point you to the exact features and code snippets to try.\n"
     ]
    }
   ],
   "source": [
    "def stream_graph_updates(user_input: str):\n",
    "    \"\"\"Stream and display graph updates\"\"\"\n",
    "    for event in graph.stream({\"messages\": [{\"role\": \"user\", \"content\": user_input}]}):\n",
    "        for value in event.values():\n",
    "            print(\"Assistant:\", value[\"messages\"][-1].content)\n",
    "\n",
    "# Test with a question requiring current information\n",
    "print(\"Testing with: 'What are the latest features in LangGraph?'\\n\")\n",
    "stream_graph_updates(\"What are the latest features in LangGraph?\")"
   ]
  },
  {
   "cell_type": "markdown",
   "id": "chapter2-interactive",
   "metadata": {},
   "source": [
    "## Interactive Chat with Tools\n",
    "\n",
    "Now let's chat with our enhanced bot! Try asking questions that require current information."
   ]
  },
  {
   "cell_type": "code",
   "execution_count": null,
   "id": "chapter2-interactive-loop",
   "metadata": {},
   "outputs": [],
   "source": [
    "print(\"=\" * 50)\n",
    "print(\"Interactive Chatbot with Tools - Chapter 2\")\n",
    "print(\"=\" * 50)\n",
    "print(\"The bot can now search the web for information!\")\n",
    "print(\"Type 'quit', 'exit', or 'q' to exit\\n\")\n",
    "\n",
    "while True:\n",
    "    try:\n",
    "        user_input = input(\"User: \")\n",
    "        if user_input.lower() in [\"quit\", \"exit\", \"q\"]:\n",
    "            print(\"Goodbye!\")\n",
    "            break\n",
    "        stream_graph_updates(user_input)\n",
    "        print()\n",
    "    except KeyboardInterrupt:\n",
    "        print(\"\\nGoodbye!\")\n",
    "        break\n",
    "    except Exception as e:\n",
    "        print(f\"An error occurred: {e}\")\n",
    "        break"
   ]
  },
  {
   "cell_type": "markdown",
   "id": "chapter2-summary",
   "metadata": {},
   "source": [
    "## Chapter 2 Summary\n",
    "\n",
    "Excellent work! You've now built a tool-augmented AI agent! 🎉\n",
    "\n",
    "### What You Learned:\n",
    "\n",
    "1. **Tool Integration**: How to add external tools to your agent\n",
    "2. **Tool Binding**: How to tell the LLM about available tools\n",
    "3. **Tool Nodes**: How to execute tool calls\n",
    "4. **Conditional Edges**: How to add decision points to your graph\n",
    "5. **Loops**: How to create iterative workflows\n",
    "\n",
    "### Key Concepts:\n",
    "\n",
    "- **Tool Calling**: The LLM decides when to use tools\n",
    "- **Conditional Routing**: The graph flow depends on the LLM's decision\n",
    "- **Tool Node**: Prebuilt node for executing tool calls\n",
    "- **Loops**: The agent can use multiple tools before responding\n",
    "\n",
    "### What's Next?\n",
    "\n",
    "In Chapter 3, we'll build an even more sophisticated agent with:\n",
    "- Custom mathematical tools\n",
    "- Advanced state management\n",
    "- State tracking (counting LLM calls)\n",
    "- More complex workflows\n",
    "\n",
    "Let's dive in! 🚀"
   ]
  },
  {
   "cell_type": "markdown",
   "id": "chapter3-title",
   "metadata": {},
   "source": [
    "---\n",
    "# Chapter 3: Advanced State Management and Custom Tools\n",
    "\n",
    "In this final chapter, we'll build a sophisticated agent that performs arithmetic operations. This will demonstrate:\n",
    "- Creating custom tools with the `@tool` decorator\n",
    "- Advanced state management (tracking multiple state keys)\n",
    "- Manual tool execution (building our own tool node)\n",
    "- Complex conditional logic\n",
    "\n",
    "## The Agent We'll Build\n",
    "\n",
    "Our agent will:\n",
    "1. Accept arithmetic problems\n",
    "2. Use tools to perform calculations (add, multiply, divide)\n",
    "3. Track how many times the LLM is called\n",
    "4. Show the full reasoning process\n",
    "\n",
    "## Key Concepts\n",
    "\n",
    "### 1. Custom Tools\n",
    "We'll create our own tools using the `@tool` decorator\n",
    "\n",
    "### 2. Extended State\n",
    "Our state will track both messages and LLM call count\n",
    "\n",
    "### 3. Custom Tool Node\n",
    "We'll build our own tool execution logic\n",
    "\n",
    "### 4. Advanced Routing\n",
    "Custom routing function to decide the next step\n",
    "\n",
    "Let's build it!"
   ]
  },
  {
   "cell_type": "markdown",
   "id": "chapter3-tools",
   "metadata": {},
   "source": [
    "## Step 1: Define Custom Tools\n",
    "\n",
    "We'll create three mathematical tools. Notice how we use the `@tool` decorator and provide detailed docstrings - these help the LLM understand when and how to use each tool."
   ]
  },
  {
   "cell_type": "code",
   "execution_count": 18,
   "id": "chapter3-tools-def",
   "metadata": {},
   "outputs": [
    {
     "name": "stdout",
     "output_type": "stream",
     "text": [
      "✓ Custom tools created!\n",
      "\n",
      "Available tools:\n",
      "  - add: Adds a and b.\n",
      "\n",
      "    Args:\n",
      "        a: first int\n",
      "        b: second int\n",
      "  - multiply: Multiply a and b.\n",
      "\n",
      "    Args:\n",
      "        a: first int\n",
      "        b: second int\n",
      "  - divide: Divide a by b.\n",
      "\n",
      "    Args:\n",
      "        a: first int\n",
      "        b: second int\n",
      "\n",
      "Testing tools:\n",
      "  add(3, 4) = 7\n",
      "  multiply(3, 4) = 12\n",
      "  divide(12, 3) = 4.0\n"
     ]
    }
   ],
   "source": [
    "from langchain_core.tools import tool\n",
    "\n",
    "@tool\n",
    "def multiply(a: int, b: int) -> int:\n",
    "    \"\"\"Multiply a and b.\n",
    "\n",
    "    Args:\n",
    "        a: first int\n",
    "        b: second int\n",
    "    \"\"\"\n",
    "    return a * b\n",
    "\n",
    "@tool\n",
    "def add(a: int, b: int) -> int:\n",
    "    \"\"\"Adds a and b.\n",
    "\n",
    "    Args:\n",
    "        a: first int\n",
    "        b: second int\n",
    "    \"\"\"\n",
    "    return a + b\n",
    "\n",
    "@tool\n",
    "def divide(a: int, b: int) -> float:\n",
    "    \"\"\"Divide a by b.\n",
    "\n",
    "    Args:\n",
    "        a: first int\n",
    "        b: second int\n",
    "    \"\"\"\n",
    "    return a / b\n",
    "\n",
    "# Collect tools\n",
    "tools = [add, multiply, divide]\n",
    "tools_by_name = {tool.name: tool for tool in tools}\n",
    "\n",
    "print(\"✓ Custom tools created!\\n\")\n",
    "print(\"Available tools:\")\n",
    "for tool in tools:\n",
    "    print(f\"  - {tool.name}: {tool.description}\")\n",
    "\n",
    "# Test the tools\n",
    "print(\"\\nTesting tools:\")\n",
    "print(f\"  add(3, 4) = {add.invoke({'a': 3, 'b': 4})}\")\n",
    "print(f\"  multiply(3, 4) = {multiply.invoke({'a': 3, 'b': 4})}\")\n",
    "print(f\"  divide(12, 3) = {divide.invoke({'a': 12, 'b': 3})}\")"
   ]
  },
  {
   "cell_type": "markdown",
   "id": "chapter3-llm",
   "metadata": {},
   "source": [
    "## Step 2: Set Up the Language Model\n",
    "\n",
    "We'll use Anthropic's Claude for this example. Claude is excellent at tool calling and mathematical reasoning."
   ]
  },
  {
   "cell_type": "code",
   "execution_count": 19,
   "id": "chapter3-llm-setup",
   "metadata": {},
   "outputs": [
    {
     "name": "stdout",
     "output_type": "stream",
     "text": [
      "✓ Language model initialized!\n",
      "\n",
      "Model: Claude 3.7 Sonnet\n",
      "Temperature: 0 (deterministic)\n",
      "Tools bound: 3\n"
     ]
    }
   ],
   "source": [
    "# Set Anthropic API key if needed\n",
    "_set_env(\"ANTHROPIC_API_KEY\")\n",
    "\n",
    "# Initialize Claude\n",
    "llm = init_chat_model(\n",
    "    \"anthropic:claude-3-7-sonnet-latest\",\n",
    "    temperature=0\n",
    ")\n",
    "\n",
    "# Bind tools to the LLM\n",
    "llm_with_tools = llm.bind_tools(tools)\n",
    "\n",
    "print(\"✓ Language model initialized!\")\n",
    "print(\"\\nModel: Claude 3.7 Sonnet\")\n",
    "print(\"Temperature: 0 (deterministic)\")\n",
    "print(f\"Tools bound: {len(tools)}\")"
   ]
  },
  {
   "cell_type": "markdown",
   "id": "chapter3-state",
   "metadata": {},
   "source": [
    "## Step 3: Define Advanced State\n",
    "\n",
    "Our state now tracks two things:\n",
    "1. **messages**: The conversation history (with `add` reducer)\n",
    "2. **llm_calls**: A counter for how many times we call the LLM\n",
    "\n",
    "Notice that `llm_calls` doesn't have a reducer, so it will be overwritten each time."
   ]
  },
  {
   "cell_type": "code",
   "execution_count": null,
   "id": "chapter3-state-def",
   "metadata": {},
   "outputs": [
    {
     "name": "stdout",
     "output_type": "stream",
     "text": [
      "✓ Advanced state defined!\n",
      "\n",
      "State keys:\n",
      "  - messages: list[AnyMessage] (with operator.add reducer)\n",
      "  - llm_calls: int (no reducer - will be replaced)\n",
      "\n",
      "The add reducer will append messages to the list.\n",
      "The llm_calls will be replaced with each update.\n"
     ]
    }
   ],
   "source": [
    "from langchain_core.messages import AnyMessage\n",
    "import operator\n",
    "\n",
    "class MessagesState(TypedDict):\n",
    "    \"\"\"\n",
    "    Advanced state with multiple keys.\n",
    "\n",
    "    Attributes:\n",
    "        messages: List of conversation messages (with add reducer)\n",
    "        llm_calls: Counter for LLM invocations (no reducer - gets replaced)\n",
    "    \"\"\"\n",
    "    messages: Annotated[list[AnyMessage], operator.add]\n",
    "    llm_calls: int\n",
    "\n",
    "print(\"✓ Advanced state defined!\\n\")\n",
    "print(\"State keys:\")\n",
    "print(\"  - messages: list[AnyMessage] (with operator.add reducer)\")\n",
    "print(\"  - llm_calls: int (no reducer - will be replaced)\")\n",
    "print(\"\\nThe add reducer will append messages to the list.\")\n",
    "print(\"The llm_calls will be replaced with each update.\")"
   ]
  },
  {
   "cell_type": "markdown",
   "id": "chapter3-llm-node",
   "metadata": {},
   "source": [
    "## Step 4: Create the LLM Node\n",
    "\n",
    "Our LLM node now:\n",
    "1. Adds a system message to guide the LLM's behavior\n",
    "2. Calls the LLM with the conversation history\n",
    "3. Increments the LLM call counter"
   ]
  },
  {
   "cell_type": "code",
   "execution_count": null,
   "id": "chapter3-llm-node",
   "metadata": {},
   "outputs": [
    {
     "name": "stdout",
     "output_type": "stream",
     "text": [
      "✓ LLM node created!\n",
      "\n",
      "Node behavior:\n",
      "  1. Adds system message to guide the LLM\n",
      "  2. Sends conversation to LLM with tools\n",
      "  3. Increments llm_calls counter\n",
      "  4. Returns LLM response (may include tool calls)\n"
     ]
    }
   ],
   "source": [
    "from langchain_core.messages import SystemMessage\n",
    "\n",
    "def llm_call(state: dict):\n",
    "    \"\"\"\n",
    "    LLM node that decides whether to call a tool or respond.\n",
    "\n",
    "    This node:\n",
    "    1. Adds a system message to guide the LLM\n",
    "    2. Invokes the LLM with conversation history\n",
    "    3. Tracks the number of LLM calls\n",
    "\n",
    "    Args:\n",
    "        state: Current state with messages and llm_calls counter\n",
    "\n",
    "    Returns:\n",
    "        State update with new message and incremented counter\n",
    "    \"\"\"\n",
    "    return {\n",
    "        \"messages\": [\n",
    "            llm_with_tools.invoke(\n",
    "                [\n",
    "                    SystemMessage(\n",
    "                        content=\"You are a helpful assistant tasked with performing arithmetic on a set of inputs.\"\n",
    "                    )\n",
    "                ]\n",
    "                + state[\"messages\"]\n",
    "            )\n",
    "        ],\n",
    "        \"llm_calls\": state.get('llm_calls', 0) + 1\n",
    "    }\n",
    "\n",
    "print(\"✓ LLM node created!\\n\")\n",
    "print(\"Node behavior:\")\n",
    "print(\"  1. Adds system message to guide the LLM\")\n",
    "print(\"  2. Sends conversation to LLM with tools\")\n",
    "print(\"  3. Increments llm_calls counter\")\n",
    "print(\"  4. Returns LLM response (may include tool calls)\")"
   ]
  },
  {
   "cell_type": "markdown",
   "id": "chapter3-tool-node",
   "metadata": {},
   "source": [
    "## Step 5: Create Custom Tool Node\n",
    "\n",
    "Instead of using the prebuilt ToolNode, we'll build our own to see how it works under the hood.\n",
    "\n",
    "This node:\n",
    "1. Extracts tool calls from the last message\n",
    "2. Executes each tool call\n",
    "3. Packages results as ToolMessages"
   ]
  },
  {
   "cell_type": "code",
   "execution_count": null,
   "id": "chapter3-tool-node-def",
   "metadata": {},
   "outputs": [
    {
     "name": "stdout",
     "output_type": "stream",
     "text": [
      "✓ Custom tool node created!\n",
      "\n",
      "Tool node process:\n",
      "  1. Extract tool calls from last message\n",
      "  2. For each tool call:\n",
      "     a. Look up the tool by name\n",
      "     b. Invoke with provided arguments\n",
      "     c. Wrap result in ToolMessage\n",
      "  3. Return all tool results\n"
     ]
    }
   ],
   "source": [
    "from langchain_core.messages import ToolMessage\n",
    "\n",
    "def tool_node(state: dict):\n",
    "    \"\"\"\n",
    "    Custom tool node that executes tool calls.\n",
    "\n",
    "    This shows how to manually implement tool execution:\n",
    "    1. Extract tool calls from the last AI message\n",
    "    2. Look up and invoke each tool\n",
    "    3. Format results as ToolMessages\n",
    "\n",
    "    Args:\n",
    "        state: Current state with messages\n",
    "\n",
    "    Returns:\n",
    "        State update with tool result messages\n",
    "    \"\"\"\n",
    "    # Get the last message (should contain tool calls)\n",
    "    if messages := state.get(\"messages\", []):\n",
    "        message = messages[-1]\n",
    "    else:\n",
    "        raise ValueError(\"No message found in input\")\n",
    "\n",
    "    # Execute each tool call\n",
    "    outputs = []\n",
    "    for tool_call in message.tool_calls:\n",
    "        # Look up the tool by name\n",
    "        tool = tools_by_name[tool_call[\"name\"]]\n",
    "\n",
    "        # Invoke the tool with the provided arguments\n",
    "        observation = tool.invoke(tool_call[\"args\"])\n",
    "\n",
    "        # Create a ToolMessage with the result\n",
    "        outputs.append(\n",
    "            ToolMessage(\n",
    "                content=str(observation),\n",
    "                name=tool_call[\"name\"],\n",
    "                tool_call_id=tool_call[\"id\"],\n",
    "            )\n",
    "        )\n",
    "\n",
    "    return {\"messages\": outputs}\n",
    "\n",
    "print(\"✓ Custom tool node created!\\n\")\n",
    "print(\"Tool node process:\")\n",
    "print(\"  1. Extract tool calls from last message\")\n",
    "print(\"  2. For each tool call:\")\n",
    "print(\"     a. Look up the tool by name\")\n",
    "print(\"     b. Invoke with provided arguments\")\n",
    "print(\"     c. Wrap result in ToolMessage\")\n",
    "print(\"  3. Return all tool results\")"
   ]
  },
  {
   "cell_type": "markdown",
   "id": "chapter3-routing",
   "metadata": {},
   "source": [
    "## Step 6: Define Conditional Routing\n",
    "\n",
    "We need a function to decide what to do after the LLM responds:\n",
    "- If it made tool calls → go to tool_node\n",
    "- If it responded directly → END"
   ]
  },
  {
   "cell_type": "code",
   "execution_count": null,
   "id": "chapter3-routing-def",
   "metadata": {},
   "outputs": [
    {
     "name": "stdout",
     "output_type": "stream",
     "text": [
      "✓ Routing function defined!\n",
      "\n",
      "Routing logic:\n",
      "  - If last message has tool_calls → route to 'tool_node'\n",
      "  - Otherwise → route to END\n",
      "\n",
      "This allows the agent to:\n",
      "  1. Call multiple tools if needed\n",
      "  2. Loop back to think after tool results\n",
      "  3. End when ready to respond to user\n"
     ]
    }
   ],
   "source": [
    "from typing import Literal\n",
    "\n",
    "def should_continue(state: MessagesState) -> Literal[\"tool_node\", END]:\n",
    "    \"\"\"\n",
    "    Conditional routing function.\n",
    "\n",
    "    Decides whether to:\n",
    "    - Continue to tool_node (if LLM made tool calls)\n",
    "    - End execution (if LLM provided a final answer)\n",
    "\n",
    "    Args:\n",
    "        state: Current state with messages\n",
    "\n",
    "    Returns:\n",
    "        \"tool_node\" if tools should be called, END otherwise\n",
    "    \"\"\"\n",
    "    messages = state[\"messages\"]\n",
    "    last_message = messages[-1]\n",
    "\n",
    "    # If the LLM makes a tool call, perform the action\n",
    "    if last_message.tool_calls:\n",
    "        return \"tool_node\"\n",
    "\n",
    "    # Otherwise, we stop (reply to the user)\n",
    "    return END\n",
    "\n",
    "print(\"✓ Routing function defined!\\n\")\n",
    "print(\"Routing logic:\")\n",
    "print(\"  - If last message has tool_calls → route to 'tool_node'\")\n",
    "print(\"  - Otherwise → route to END\")\n",
    "print(\"\\nThis allows the agent to:\")\n",
    "print(\"  1. Call multiple tools if needed\")\n",
    "print(\"  2. Loop back to think after tool results\")\n",
    "print(\"  3. End when ready to respond to user\")"
   ]
  },
  {
   "cell_type": "markdown",
   "id": "chapter3-build",
   "metadata": {},
   "source": [
    "## Step 7: Build the Complete Agent\n",
    "\n",
    "Now let's assemble all the pieces into a complete agent!"
   ]
  },
  {
   "cell_type": "code",
   "execution_count": null,
   "id": "chapter3-build-graph",
   "metadata": {},
   "outputs": [
    {
     "name": "stdout",
     "output_type": "stream",
     "text": [
      "✓ Agent built and compiled!\n",
      "\n",
      "Agent structure:\n",
      "  Nodes:\n",
      "    - llm_call: Reasons about the problem\n",
      "    - tool_node: Executes calculations\n",
      "\n",
      "  Flow:\n",
      "    START → llm_call → [decision]\n",
      "                          ↓         ↘\n",
      "                      tool_node     END\n",
      "                          ↓\n",
      "                      llm_call → ...\n"
     ]
    }
   ],
   "source": [
    "# Create the graph builder\n",
    "agent_builder = StateGraph(MessagesState)\n",
    "\n",
    "# Add nodes\n",
    "agent_builder.add_node(\"llm_call\", llm_call) # type: ignore\n",
    "agent_builder.add_node(\"tool_node\", tool_node) # type: ignore\n",
    "\n",
    "# Add edges\n",
    "agent_builder.add_edge(START, \"llm_call\")\n",
    "agent_builder.add_conditional_edges(\n",
    "    \"llm_call\",\n",
    "    should_continue,\n",
    "    [\"tool_node\", END]\n",
    ")\n",
    "agent_builder.add_edge(\"tool_node\", \"llm_call\")\n",
    "\n",
    "# Compile the agent\n",
    "agent = agent_builder.compile()\n",
    "\n",
    "print(\"✓ Agent built and compiled!\\n\")\n",
    "print(\"Agent structure:\")\n",
    "print(\"  Nodes:\")\n",
    "print(\"    - llm_call: Reasons about the problem\")\n",
    "print(\"    - tool_node: Executes calculations\")\n",
    "print(\"\\n  Flow:\")\n",
    "print(\"    START → llm_call → [decision]\")\n",
    "print(\"                          ↓         ↘\")\n",
    "print(\"                      tool_node     END\")\n",
    "print(\"                          ↓\")\n",
    "print(\"                      llm_call → ...\")"
   ]
  },
  {
   "cell_type": "markdown",
   "id": "chapter3-visualize",
   "metadata": {},
   "source": [
    "## Step 8: Visualize the Agent\n",
    "\n",
    "Let's see the structure of our agent! Notice the loop and conditional routing."
   ]
  },
  {
   "cell_type": "code",
   "execution_count": 27,
   "id": "chapter3-visualize",
   "metadata": {},
   "outputs": [
    {
     "data": {
      "image/png": "[encoded data removed]",
      "text/plain": [
       "<IPython.core.display.Image object>"
      ]
     },
     "metadata": {},
     "output_type": "display_data"
    },
    {
     "name": "stdout",
     "output_type": "stream",
     "text": [
      "\n",
      "✓ Agent visualization displayed!\n",
      "\n",
      "Key features to notice:\n",
      "  - Conditional edge from llm_call\n",
      "  - Loop from tool_node back to llm_call\n",
      "  - Two possible endpoints: tool_node or END\n"
     ]
    }
   ],
   "source": [
    "try:\n",
    "    # Use xray=True to see internal structure\n",
    "    display(Image(agent.get_graph(xray=True).draw_mermaid_png()))\n",
    "    print(\"\\n✓ Agent visualization displayed!\")\n",
    "    print(\"\\nKey features to notice:\")\n",
    "    print(\"  - Conditional edge from llm_call\")\n",
    "    print(\"  - Loop from tool_node back to llm_call\")\n",
    "    print(\"  - Two possible endpoints: tool_node or END\")\n",
    "except Exception as e:\n",
    "    print(f\"Could not display visualization: {e}\")"
   ]
  },
  {
   "cell_type": "markdown",
   "id": "chapter3-test",
   "metadata": {},
   "source": [
    "## Step 9: Test the Agent\n",
    "\n",
    "Let's test our agent with a mathematical problem!"
   ]
  },
  {
   "cell_type": "code",
   "execution_count": 28,
   "id": "chapter3-test-agent",
   "metadata": {},
   "outputs": [
    {
     "name": "stdout",
     "output_type": "stream",
     "text": [
      "Testing agent with: 'Add 3 and 4.'\n",
      "\n",
      "==================================================\n",
      "\n",
      "==================================================\n",
      "\n",
      "Full conversation:\n",
      "==================================================\n",
      "================================\u001b[1m Human Message \u001b[0m=================================\n",
      "\n",
      "Add 3 and 4.\n",
      "==================================\u001b[1m Ai Message \u001b[0m==================================\n",
      "\n",
      "[{'text': \"I'll help you add 3 and 4 using the add function.\", 'type': 'text'}, {'id': 'toolu_015uwtEPz647UtCSkL6PGVVc', 'input': {'a': 3, 'b': 4}, 'name': 'add', 'type': 'tool_use'}]\n",
      "Tool Calls:\n",
      "  add (toolu_015uwtEPz647UtCSkL6PGVVc)\n",
      " Call ID: toolu_015uwtEPz647UtCSkL6PGVVc\n",
      "  Args:\n",
      "    a: 3\n",
      "    b: 4\n",
      "=================================\u001b[1m Tool Message \u001b[0m=================================\n",
      "Name: add\n",
      "\n",
      "7\n",
      "==================================\u001b[1m Ai Message \u001b[0m==================================\n",
      "\n",
      "The sum of 3 and 4 is 7.\n",
      "==================================================\n",
      "\n",
      "Total LLM calls: 2\n"
     ]
    }
   ],
   "source": [
    "from langchain_core.messages import HumanMessage\n",
    "\n",
    "# Create a test message\n",
    "messages = [HumanMessage(content=\"Add 3 and 4.\")]\n",
    "\n",
    "print(\"Testing agent with: 'Add 3 and 4.'\\n\")\n",
    "print(\"=\" * 50)\n",
    "\n",
    "# Invoke the agent\n",
    "result = agent.invoke({\"messages\": messages, \"llm_calls\": 0})\n",
    "\n",
    "print(\"\\n\" + \"=\" * 50)\n",
    "print(\"\\nFull conversation:\")\n",
    "print(\"=\" * 50)\n",
    "\n",
    "# Display all messages\n",
    "for m in result[\"messages\"]:\n",
    "    m.pretty_print()\n",
    "\n",
    "print(\"=\" * 50)\n",
    "print(f\"\\nTotal LLM calls: {result['llm_calls']}\")"
   ]
  },
  {
   "cell_type": "markdown",
   "id": "chapter3-complex-test",
   "metadata": {},
   "source": [
    "## Step 10: Test with Complex Operations\n",
    "\n",
    "Let's try a more complex problem that requires multiple tool calls!"
   ]
  },
  {
   "cell_type": "code",
   "execution_count": null,
   "id": "chapter3-complex-test",
   "metadata": {},
   "outputs": [],
   "source": [
    "# Test with a complex operation\n",
    "messages = [HumanMessage(content=\"Multiply 3 and 4, then add 10 to the result.\")]\n",
    "\n",
    "print(\"Testing with: 'Multiply 3 and 4, then add 10 to the result.'\\n\")\n",
    "print(\"=\" * 50)\n",
    "\n",
    "result = agent.invoke({\"messages\": messages, \"llm_calls\": 0})\n",
    "\n",
    "print(\"\\n\" + \"=\" * 50)\n",
    "print(\"\\nFull conversation:\")\n",
    "print(\"=\" * 50)\n",
    "\n",
    "for m in result[\"messages\"]:\n",
    "    m.pretty_print()\n",
    "\n",
    "print(\"=\" * 50)\n",
    "print(f\"\\nTotal LLM calls: {result['llm_calls']}\")\n",
    "print(\"\\nNote: The agent might need multiple LLM calls to:\")\n",
    "print(\"  1. First call: Decide to multiply 3 and 4\")\n",
    "print(\"  2. Second call: Use the result (12) to add 10\")\n",
    "print(\"  3. Third call: Provide the final answer to the user\")"
   ]
  },
  {
   "cell_type": "markdown",
   "id": "chapter3-interactive",
   "metadata": {},
   "source": [
    "## Interactive Calculator Agent\n",
    "\n",
    "Now let's create an interactive session with our calculator agent!"
   ]
  },
  {
   "cell_type": "code",
   "execution_count": null,
   "id": "chapter3-interactive",
   "metadata": {},
   "outputs": [],
   "source": [
    "print(\"=\" * 50)\n",
    "print(\"Interactive Calculator Agent - Chapter 3\")\n",
    "print(\"=\" * 50)\n",
    "print(\"This agent can perform arithmetic operations!\")\n",
    "print(\"Try asking it to add, multiply, or divide numbers.\")\n",
    "print(\"Type 'quit', 'exit', or 'q' to exit\\n\")\n",
    "\n",
    "while True:\n",
    "    try:\n",
    "        user_input = input(\"User: \")\n",
    "        if user_input.lower() in [\"quit\", \"exit\", \"q\"]:\n",
    "            print(\"Goodbye!\")\n",
    "            break\n",
    "\n",
    "        # Invoke the agent\n",
    "        messages = [HumanMessage(content=user_input)]\n",
    "        result = agent.invoke({\"messages\": messages, \"llm_calls\": 0})\n",
    "\n",
    "        # Display only the final response\n",
    "        final_message = result[\"messages\"][-1]\n",
    "        print(f\"\\nAssistant: {final_message.content}\")\n",
    "        print(f\"(Used {result['llm_calls']} LLM calls)\\n\")\n",
    "\n",
    "    except KeyboardInterrupt:\n",
    "        print(\"\\nGoodbye!\")\n",
    "        break\n",
    "    except Exception as e:\n",
    "        print(f\"An error occurred: {e}\")\n",
    "        break"
   ]
  },
  {
   "cell_type": "markdown",
   "id": "chapter3-summary",
   "metadata": {},
   "source": [
    "## Chapter 3 Summary\n",
    "\n",
    "Congratulations! You've built a sophisticated AI agent with advanced capabilities! 🎉\n",
    "\n",
    "### What You Learned:\n",
    "\n",
    "1. **Custom Tools**: How to create tools with the `@tool` decorator\n",
    "2. **Advanced State**: How to track multiple state keys\n",
    "3. **Custom Tool Nodes**: How tool execution works under the hood\n",
    "4. **State Tracking**: How to monitor agent behavior (LLM calls)\n",
    "5. **Complex Workflows**: How agents can loop and make multiple decisions\n",
    "\n",
    "### Key Concepts:\n",
    "\n",
    "- **Custom Tools**: Define domain-specific operations\n",
    "- **Extended State**: Track multiple pieces of information\n",
    "- **Manual Tool Execution**: Full control over tool calling\n",
    "- **State Monitoring**: Track and optimize agent behavior\n",
    "- **Iterative Problem Solving**: Agents can use tools multiple times\n",
    "\n",
    "### Differences from Chapter 2:\n",
    "\n",
    "| Aspect | Chapter 2 | Chapter 3 |\n",
    "|--------|-----------|----------|\n",
    "| Tools | Prebuilt (Tavily) | Custom (@tool) |\n",
    "| State | Messages only | Messages + counter |\n",
    "| Tool Node | Prebuilt ToolNode | Custom implementation |\n",
    "| Routing | Prebuilt tools_condition | Custom should_continue |\n",
    "| Purpose | Web search | Arithmetic operations |\n",
    "\n",
    "### What You Can Build Now:\n",
    "\n",
    "With these skills, you can create:\n",
    "- **Research Agents**: Agents that search and synthesize information\n",
    "- **Data Processing Agents**: Agents that manipulate and analyze data\n",
    "- **Workflow Automation**: Agents that orchestrate complex processes\n",
    "- **Interactive Assistants**: Conversational agents with specialized skills\n",
    "- **Multi-Tool Agents**: Agents that combine multiple capabilities\n",
    "\n",
    "### Next Steps:\n",
    "\n",
    "To continue your LangGraph journey:\n",
    "\n",
    "1. **Add Memory**: Make agents remember across sessions\n",
    "2. **Human-in-the-Loop**: Add approval workflows\n",
    "3. **Parallel Execution**: Run multiple tools simultaneously\n",
    "4. **Error Handling**: Make agents robust to failures\n",
    "5. **Multi-Agent Systems**: Coordinate multiple specialized agents\n",
    "\n",
    "### Resources:\n",
    "\n",
    "- 📚 [LangGraph Documentation](https://langchain-ai.github.io/langgraph/)\n",
    "- 🎓 [LangGraph Tutorials](https://langchain-ai.github.io/langgraph/tutorials/)\n",
    "- 💬 [LangChain Discord](https://discord.gg/langchain)\n",
    "- 📺 [YouTube Tutorials](https://www.youtube.com/@LangChain)\n",
    "\n",
    "Thank you for completing this comprehensive tutorial! 🚀\n",
    "\n",
    "Happy building! 🎉"
   ]
  },
  {
   "cell_type": "markdown",
   "id": "final-notes",
   "metadata": {},
   "source": [
    "---\n",
    "## Appendix: Complete Code Snippets\n",
    "\n",
    "Here are complete, runnable code snippets for each chapter that you can copy and use:"
   ]
  },
  {
   "cell_type": "markdown",
   "id": "appendix-chapter1",
   "metadata": {},
   "source": [
    "### Chapter 1: Basic Chatbot (Complete Code)"
   ]
  },
  {
   "cell_type": "code",
   "execution_count": null,
   "id": "appendix-chapter1-code",
   "metadata": {},
   "outputs": [],
   "source": [
    "# Complete Chapter 1 code\n",
    "from typing import Annotated\n",
    "from typing_extensions import TypedDict\n",
    "from langgraph.graph import StateGraph, START, END\n",
    "from langgraph.graph.message import add_messages\n",
    "from langchain.chat_models import init_chat_model\n",
    "\n",
    "# State\n",
    "class State(TypedDict):\n",
    "    messages: Annotated[list, add_messages]\n",
    "\n",
    "# LLM\n",
    "llm = init_chat_model(\"openai:gpt-4o\", temperature=0)\n",
    "\n",
    "# Graph\n",
    "graph_builder = StateGraph(State)\n",
    "\n",
    "def chatbot(state: State):\n",
    "    return {\"messages\": [llm.invoke(state[\"messages\"])]}\n",
    "\n",
    "graph_builder.add_node(\"chatbot\", chatbot)\n",
    "graph_builder.add_edge(START, \"chatbot\")\n",
    "graph_builder.add_edge(\"chatbot\", END)\n",
    "\n",
    "graph = graph_builder.compile()\n",
    "\n",
    "# Use it\n",
    "# result = graph.invoke({\"messages\": [{\"role\": \"user\", \"content\": \"Hello!\"}]})\n",
    "# print(result[\"messages\"][-1].content)"
   ]
  },
  {
   "cell_type": "markdown",
   "id": "appendix-chapter2",
   "metadata": {},
   "source": [
    "### Chapter 2: Chatbot with Tools (Complete Code)"
   ]
  },
  {
   "cell_type": "code",
   "execution_count": null,
   "id": "appendix-chapter2-code",
   "metadata": {},
   "outputs": [],
   "source": [
    "# Complete Chapter 2 code\n",
    "from typing import Annotated\n",
    "from typing_extensions import TypedDict\n",
    "from langgraph.graph import StateGraph, START, END\n",
    "from langgraph.graph.message import add_messages\n",
    "from langgraph.prebuilt import ToolNode, tools_condition\n",
    "from langchain.chat_models import init_chat_model\n",
    "from langchain_tavily import TavilySearch\n",
    "\n",
    "# State\n",
    "class State(TypedDict):\n",
    "    messages: Annotated[list, add_messages]\n",
    "\n",
    "# Tools\n",
    "tool = TavilySearch(max_results=2)\n",
    "tools = [tool]\n",
    "\n",
    "# LLM with tools\n",
    "llm = init_chat_model(\"openai:gpt-4o\", temperature=0)\n",
    "llm_with_tools = llm.bind_tools(tools)\n",
    "\n",
    "# Graph\n",
    "graph_builder = StateGraph(State)\n",
    "\n",
    "def chatbot(state: State):\n",
    "    return {\"messages\": [llm_with_tools.invoke(state[\"messages\"])]}\n",
    "\n",
    "graph_builder.add_node(\"chatbot\", chatbot)\n",
    "graph_builder.add_node(\"tools\", ToolNode(tools=tools))\n",
    "\n",
    "graph_builder.add_conditional_edges(\"chatbot\", tools_condition)\n",
    "graph_builder.add_edge(\"tools\", \"chatbot\")\n",
    "graph_builder.add_edge(START, \"chatbot\")\n",
    "\n",
    "graph = graph_builder.compile()\n",
    "\n",
    "# Use it\n",
    "# result = graph.invoke({\"messages\": [{\"role\": \"user\", \"content\": \"What's new in AI?\"}]})\n",
    "# print(result[\"messages\"][-1].content)"
   ]
  },
  {
   "cell_type": "markdown",
   "id": "appendix-chapter3",
   "metadata": {},
   "source": [
    "### Chapter 3: Advanced Agent (Complete Code)"
   ]
  },
  {
   "cell_type": "code",
   "execution_count": null,
   "id": "appendix-chapter3-code",
   "metadata": {},
   "outputs": [],
   "source": [
    "# Complete Chapter 3 code\n",
    "from typing import Annotated, Literal\n",
    "from typing_extensions import TypedDict\n",
    "from langgraph.graph import StateGraph, START, END\n",
    "from langchain_core.tools import tool\n",
    "from langchain_core.messages import AnyMessage, SystemMessage, ToolMessage\n",
    "from langchain.chat_models import init_chat_model\n",
    "import operator\n",
    "\n",
    "# Tools\n",
    "@tool\n",
    "def add(a: int, b: int) -> int:\n",
    "    \"\"\"Adds a and b.\"\"\"\n",
    "    return a + b\n",
    "\n",
    "@tool\n",
    "def multiply(a: int, b: int) -> int:\n",
    "    \"\"\"Multiply a and b.\"\"\"\n",
    "    return a * b\n",
    "\n",
    "@tool\n",
    "def divide(a: int, b: int) -> float:\n",
    "    \"\"\"Divide a by b.\"\"\"\n",
    "    return a / b\n",
    "\n",
    "tools = [add, multiply, divide]\n",
    "tools_by_name = {tool.name: tool for tool in tools}\n",
    "\n",
    "# LLM\n",
    "llm = init_chat_model(\"anthropic:claude-3-7-sonnet-latest\", temperature=0)\n",
    "llm_with_tools = llm.bind_tools(tools)\n",
    "\n",
    "# State\n",
    "class MessagesState(TypedDict):\n",
    "    messages: Annotated[list[AnyMessage], operator.add]\n",
    "    llm_calls: int\n",
    "\n",
    "# Nodes\n",
    "def llm_call(state: dict):\n",
    "    return {\n",
    "        \"messages\": [\n",
    "            llm_with_tools.invoke(\n",
    "                [SystemMessage(content=\"You are a helpful assistant tasked with performing arithmetic on a set of inputs.\")]\n",
    "                + state[\"messages\"]\n",
    "            )\n",
    "        ],\n",
    "        \"llm_calls\": state.get('llm_calls', 0) + 1\n",
    "    }\n",
    "\n",
    "def tool_node(state: dict):\n",
    "    if messages := state.get(\"messages\", []):\n",
    "        message = messages[-1]\n",
    "    else:\n",
    "        raise ValueError(\"No message found in input\")\n",
    "\n",
    "    outputs = []\n",
    "    for tool_call in message.tool_calls:\n",
    "        tool = tools_by_name[tool_call[\"name\"]]\n",
    "        observation = tool.invoke(tool_call[\"args\"])\n",
    "        outputs.append(\n",
    "            ToolMessage(\n",
    "                content=str(observation),\n",
    "                name=tool_call[\"name\"],\n",
    "                tool_call_id=tool_call[\"id\"],\n",
    "            )\n",
    "        )\n",
    "    return {\"messages\": outputs}\n",
    "\n",
    "def should_continue(state: MessagesState) -> Literal[\"tool_node\", END]:\n",
    "    messages = state[\"messages\"]\n",
    "    last_message = messages[-1]\n",
    "    if last_message.tool_calls:\n",
    "        return \"tool_node\"\n",
    "    return END\n",
    "\n",
    "# Graph\n",
    "agent_builder = StateGraph(MessagesState)\n",
    "agent_builder.add_node(\"llm_call\", llm_call)\n",
    "agent_builder.add_node(\"tool_node\", tool_node)\n",
    "agent_builder.add_edge(START, \"llm_call\")\n",
    "agent_builder.add_conditional_edges(\"llm_call\", should_continue, [\"tool_node\", END])\n",
    "agent_builder.add_edge(\"tool_node\", \"llm_call\")\n",
    "\n",
    "agent = agent_builder.compile()\n",
    "\n",
    "# Use it\n",
    "# from langchain_core.messages import HumanMessage\n",
    "# result = agent.invoke({\"messages\": [HumanMessage(content=\"Add 3 and 4.\")], \"llm_calls\": 0})\n",
    "# print(result[\"messages\"][-1].content)\n",
    "# print(f\"LLM calls: {result['llm_calls']}\")"
   ]
  }
 ],
 "metadata": {
  "kernelspec": {
   "display_name": "base",
   "language": "python",
   "name": "python3"
  },
  "language_info": {
   "codemirror_mode": {
    "name": "ipython",
    "version": 3
   },
   "file_extension": ".py",
   "mimetype": "text/x-python",
   "name": "python",
   "nbconvert_exporter": "python",
   "pygments_lexer": "ipython3",
   "version": "3.12.4"
  }
 },
 "nbformat": 4,
 "nbformat_minor": 5
}

{
 "cells": [
  {
   "cell_type": "code",
   "execution_count": 3,
   "id": "09eac946",
   "metadata": {},
   "outputs": [
    {
     "name": "stdout",
     "output_type": "stream",
     "text": [
      "Note: you may need to restart the kernel to use updated packages.\n"
     ]
    }
   ],
   "source": [
    "# Install DSPy and python-dotenv\n",
    "%pip install dspy python-dotenv -q"
   ]
  },
  {
   "cell_type": "code",
   "execution_count": 8,
   "id": "57d5c0dd",
   "metadata": {},
   "outputs": [
    {
     "data": {
      "text/plain": [
       "[\"Yes — I'm here. How can I help you today?\"]"
      ]
     },
     "execution_count": 8,
     "metadata": {},
     "output_type": "execute_result"
    }
   ],
   "source": [
    "# Import necessary libraries\n",
    "import dspy\n",
    "import os\n",
    "from dotenv import load_dotenv\n",
    "\n",
    "# Load environment variables from .env file (contains API keys)\n",
    "load_dotenv()\n",
    "\n",
    "# Initialize the OpenAI language model\n",
    "# - \"openai/gpt-5-mini\" specifies the model to use\n",
    "# - api_key is loaded from environment variable for security\n",
    "# - OpenAI's reasoning models require passing temperature=1.0 and max_tokens >= 16000 to `dspy.LM(...)`\n",
    "lm = dspy.LM(\"openai/gpt-5-mini\", api_key=os.getenv(\"OPENAI_API_KEY\"), temperature=1, max_tokens=16000)\n",
    "\n",
    "# Test the language model with a simple query\n",
    "lm(\"Hello, are you there?\")"
   ]
  },
  {
   "cell_type": "code",
   "execution_count": 9,
   "id": "ef40fc47",
   "metadata": {},
   "outputs": [
    {
     "name": "stdout",
     "output_type": "stream",
     "text": [
      "Prediction(\n",
      "    greeting='Hello Mike! How can I help you today?'\n",
      ")\n"
     ]
    }
   ],
   "source": [
    "# Configure DSPy to use our language model globally\n",
    "dspy.configure(lm=lm)\n",
    "\n",
    "# Create a basic program using a signature string\n",
    "# Format: 'input -> output'\n",
    "program = dspy.Predict('name -> greeting')\n",
    "\n",
    "# Generate a joke about programming\n",
    "result = program(name=\"Mike\")\n",
    "print(result)"
   ]
  },
  {
   "cell_type": "code",
   "execution_count": 10,
   "id": "1cd51ec3",
   "metadata": {},
   "outputs": [
    {
     "name": "stdout",
     "output_type": "stream",
     "text": [
      "\n",
      "\n",
      "\n",
      "\n",
      "\u001b[34m[2025-09-15T10:53:53.821699]\u001b[0m\n",
      "\n",
      "\u001b[31mSystem message:\u001b[0m\n",
      "\n",
      "Your input fields are:\n",
      "1. `name` (str):\n",
      "Your output fields are:\n",
      "1. `greeting` (str):\n",
      "All interactions will be structured in the following way, with the appropriate values filled in.\n",
      "\n",
      "[[ ## name ## ]]\n",
      "{name}\n",
      "\n",
      "[[ ## greeting ## ]]\n",
      "{greeting}\n",
      "\n",
      "[[ ## completed ## ]]\n",
      "In adhering to this structure, your objective is: \n",
      "        Given the fields `name`, produce the fields `greeting`.\n",
      "\n",
      "\n",
      "\u001b[31mUser message:\u001b[0m\n",
      "\n",
      "[[ ## name ## ]]\n",
      "Mike\n",
      "\n",
      "Respond with the corresponding output fields, starting with the field `[[ ## greeting ## ]]`, and then ending with the marker for `[[ ## completed ## ]]`.\n",
      "\n",
      "\n",
      "\u001b[31mResponse:\u001b[0m\n",
      "\n",
      "\u001b[32m[[ ## greeting ## ]]\n",
      "Hello Mike! How can I help you today?\n",
      "\n",
      "[[ ## completed ## ]]\u001b[0m\n",
      "\n",
      "\n",
      "\n",
      "\n",
      "\n"
     ]
    }
   ],
   "source": [
    "# Inspect the last interaction with the language model\n",
    "# This shows the system prompt and user message DSPy generated\n",
    "\n",
    "lm.inspect_history(n=1)"
   ]
  }
 ],
 "metadata": {
  "kernelspec": {
   "display_name": ".venv",
   "language": "python",
   "name": "python3"
  },
  "language_info": {
   "codemirror_mode": {
    "name": "ipython",
    "version": 3
   },
   "file_extension": ".py",
   "mimetype": "text/x-python",
   "name": "python",
   "nbconvert_exporter": "python",
   "pygments_lexer": "ipython3",
   "version": "3.13.4"
  }
 },
 "nbformat": 4,
 "nbformat_minor": 5
}

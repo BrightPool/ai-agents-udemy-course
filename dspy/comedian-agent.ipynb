{
 "cells": [
  {
   "cell_type": "code",
   "execution_count": 15,
   "id": "bc351884",
   "metadata": {},
   "outputs": [
    {
     "name": "stdout",
     "output_type": "stream",
     "text": [
      "Cheap LM response:\n",
      "Why do programmers prefer dark mode? Because light attracts bugs — and they already have enough features labeled \"undocumented.\"\n",
      "\n",
      "Smart LM response:\n",
      "There are only two hard things in programming: cache invalidation, naming things, and off-by-one errors.\n"
     ]
    }
   ],
   "source": [
    "# Import necessary libraries\n",
    "import dspy\n",
    "import os\n",
    "from dotenv import load_dotenv\n",
    "\n",
    "# Load environment variables from .env file\n",
    "load_dotenv()\n",
    "\n",
    "# Initialize the OpenAI language model\n",
    "cheap_lm = dspy.LM(\"openai/gpt-5-mini\", api_key=os.getenv(\"OPENAI_API_KEY\"), temperature=1, max_tokens=16000, reasoning_effort=\"low\")\n",
    "smart_lm = dspy.LM(\"openai/gpt-5\", api_key=os.getenv(\"OPENAI_API_KEY\"), temperature=1, max_tokens=16000, reasoning_effort=\"high\")\n",
    "\n",
    "# Define the Comedian class signature\n",
    "class ComedianSignature(dspy.Signature):\n",
    "    \"\"\"\n",
    "    Tell me a funny joke.\n",
    "    \"\"\"\n",
    "    topic: str = dspy.InputField(description=\"The message to analyze\")\n",
    "    joke: str = dspy.OutputField(description=\"A funny joke about the topic\")\n",
    "\n",
    "# Define the comedian program\n",
    "comedian = dspy.Predict(ComedianSignature)\n",
    "\n",
    "# Create instances of Comedian with different LMs\n",
    "with dspy.context(lm=cheap_lm):\n",
    "    cheap_response = comedian(topic=\"programming\")\n",
    "\n",
    "with dspy.context(lm=smart_lm):\n",
    "    smart_response = comedian(topic=\"programming\")\n",
    "\n",
    "print(\"Cheap LM response:\")\n",
    "print(cheap_response.joke)\n",
    "\n",
    "print(\"\\nSmart LM response:\") \n",
    "print(smart_response.joke)"
   ]
  },
  {
   "cell_type": "code",
   "execution_count": 19,
   "id": "6bf7a4fe",
   "metadata": {},
   "outputs": [
    {
     "name": "stdout",
     "output_type": "stream",
     "text": [
      "Average audience score for joke: 3.8/5\n",
      "Average audience score for joke2: 3.6/5\n"
     ]
    }
   ],
   "source": [
    "from typing import Literal\n",
    "\n",
    "dspy.configure(lm=cheap_lm)\n",
    "\n",
    "# Define the Persona class signature\n",
    "class AudienceSignature(dspy.Signature):\n",
    "    \"\"\"\n",
    "    Decide if the joke is funny.\n",
    "    \"\"\"\n",
    "    joke: str = dspy.InputField(description=\"A joke to evaluate\")\n",
    "    profiles: list[str] = dspy.InputField(description=\"Profiles of the audience members\")\n",
    "    responses: list[Literal[\"hilarious\", \"funny\", \"meh\", \"not funny\", \"offensive\"]] = dspy.OutputField(description=\"Rating of how funny the joke is from each audience member\")\n",
    "\n",
    "# Create audience evaluator class\n",
    "class AudienceEvaluator(dspy.Module):\n",
    "    \"\"\"\n",
    "    DSPy module that defines five audience personas and queries them\n",
    "    to produce an aggregate funniness score for a given joke.\n",
    "    \"\"\"\n",
    "    def __init__(self):\n",
    "        super().__init__()\n",
    "        # Define audience personas inside the module (single source of truth)\n",
    "        self.profiles = [\n",
    "            \"Tech-savvy software engineer who loves clever wordplay and programming jokes\",\n",
    "            \"Conservative grandmother who prefers clean, family-friendly humor\", \n",
    "            \"College liberal student who is easily offended and finds problematic undertones in most jokes\",\n",
    "            \"Middle-aged business professional who appreciates witty observations\",\n",
    "            \"Stand-up comedy enthusiast who has heard every classic joke\"\n",
    "        ]\n",
    "        # Predictor that asks personas to rate the joke using chain-of-thought\n",
    "        self.audience = dspy.Predict(AudienceSignature)\n",
    "        # Map qualitative ratings to a numeric score\n",
    "        self.rating_scores = {\n",
    "            \"hilarious\": 5,\n",
    "            \"funny\": 4,\n",
    "            \"meh\": 3, \n",
    "            \"not funny\": 2,\n",
    "            \"offensive\": 1\n",
    "        }\n",
    "\n",
    "    def forward(self, joke: str) -> float:\n",
    "        \"\"\"\n",
    "        Query each persona and return average score out of 5 to 2 decimal places.\n",
    "        \"\"\"\n",
    "        # Get ratings from all personas at once\n",
    "        response = self.audience(joke=joke, profiles=self.profiles)\n",
    "        \n",
    "        # Calculate total score from list of ratings\n",
    "        total_score = sum(self.rating_scores[rating] for rating in response.responses)\n",
    "            \n",
    "        # Calculate average score out of 5 to 2 decimal places\n",
    "        avg_score = round(total_score / len(self.profiles), 2)\n",
    "        \n",
    "        # Return average score\n",
    "        return avg_score\n",
    "\n",
    "# Create evaluator instance        \n",
    "audience = AudienceEvaluator()\n",
    "\n",
    "# Example usage\n",
    "joke = cheap_response.joke\n",
    "score = audience(joke)\n",
    "print(f\"Average audience score for joke: {score}/5\")\n",
    "\n",
    "# Let's try another example\n",
    "joke2 = smart_response.joke\n",
    "score2 = audience(joke2)\n",
    "print(f\"Average audience score for joke2: {score2}/5\")\n",
    "\n"
   ]
  }
 ],
 "metadata": {
  "kernelspec": {
   "display_name": ".venv",
   "language": "python",
   "name": "python3"
  },
  "language_info": {
   "codemirror_mode": {
    "name": "ipython",
    "version": 3
   },
   "file_extension": ".py",
   "mimetype": "text/x-python",
   "name": "python",
   "nbconvert_exporter": "python",
   "pygments_lexer": "ipython3",
   "version": "3.13.4"
  }
 },
 "nbformat": 4,
 "nbformat_minor": 5
}

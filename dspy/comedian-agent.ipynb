{
 "cells": [
  {
   "cell_type": "code",
   "execution_count": 6,
   "id": "bc351884",
   "metadata": {},
   "outputs": [
    {
     "name": "stdout",
     "output_type": "stream",
     "text": [
      "Cheap LM response:\n",
      "['Why did the scarecrow win an award?\\n\\nBecause he was outstanding in his field.']\n",
      "\n",
      "Smart LM response:\n",
      "['I told my therapist I keep hearing a voice telling me to eat candy bars.\\nShe said, “Snickers?”\\nI said, “No, seriously.”']\n"
     ]
    }
   ],
   "source": [
    "# Import necessary libraries\n",
    "import dspy\n",
    "import os\n",
    "from dotenv import load_dotenv\n",
    "\n",
    "# Load environment variables from .env file\n",
    "load_dotenv()\n",
    "\n",
    "# Initialize the OpenAI language model\n",
    "cheap_lm = dspy.LM(\"openai/gpt-5-mini\", api_key=os.getenv(\"OPENAI_API_KEY\"), temperature=1, max_tokens=16000, reasoning_effort=\"low\")\n",
    "smart_lm = dspy.LM(\"openai/gpt-5\", api_key=os.getenv(\"OPENAI_API_KEY\"), temperature=1, max_tokens=16000, reasoning_effort=\"high\")\n",
    "\n",
    "print(\"Cheap LM response:\")\n",
    "print(cheap_lm(\"Tell me a funny joke\"))\n",
    "print(\"\\nSmart LM response:\")\n",
    "print(smart_lm(\"Tell me a funny joke\"))"
   ]
  }
 ],
 "metadata": {
  "kernelspec": {
   "display_name": ".venv",
   "language": "python",
   "name": "python3"
  },
  "language_info": {
   "codemirror_mode": {
    "name": "ipython",
    "version": 3
   },
   "file_extension": ".py",
   "mimetype": "text/x-python",
   "name": "python",
   "nbconvert_exporter": "python",
   "pygments_lexer": "ipython3",
   "version": "3.13.4"
  }
 },
 "nbformat": 4,
 "nbformat_minor": 5
}

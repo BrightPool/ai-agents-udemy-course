{
 "cells": [
  {
   "cell_type": "code",
   "execution_count": 14,
   "id": "bc351884",
   "metadata": {},
   "outputs": [
    {
     "name": "stdout",
     "output_type": "stream",
     "text": [
      "Cheap LM response:\n",
      "Why do programmers prefer dark mode? Because light attracts bugs — and they already have enough features labeled \"undocumented.\"\n",
      "\n",
      "Smart LM response:\n",
      "There are only two hard things in programming: cache invalidation, naming things, and off-by-one errors.\n"
     ]
    }
   ],
   "source": [
    "# Import necessary libraries\n",
    "import dspy\n",
    "import os\n",
    "from dotenv import load_dotenv\n",
    "\n",
    "# Load environment variables from .env file\n",
    "load_dotenv()\n",
    "\n",
    "# Initialize the OpenAI language model\n",
    "cheap_lm = dspy.LM(\"openai/gpt-5-mini\", api_key=os.getenv(\"OPENAI_API_KEY\"), temperature=1, max_tokens=16000, reasoning_effort=\"low\")\n",
    "smart_lm = dspy.LM(\"openai/gpt-5\", api_key=os.getenv(\"OPENAI_API_KEY\"), temperature=1, max_tokens=16000, reasoning_effort=\"high\")\n",
    "\n",
    "# Define the Comedian class signature\n",
    "class Comedian(dspy.Signature):\n",
    "    \"\"\"\n",
    "    Tell me a funny joke.\n",
    "    \"\"\"\n",
    "    topic: str = dspy.InputField(description=\"The message to analyze\")\n",
    "    joke: str = dspy.OutputField(description=\"A funny joke about the topic\")\n",
    "\n",
    "# Define the comedian program\n",
    "comedian = dspy.Predict(Comedian)\n",
    "\n",
    "# Create instances of Comedian with different LMs\n",
    "with dspy.context(lm=cheap_lm):\n",
    "    cheap_response = comedian(topic=\"programming\")\n",
    "\n",
    "with dspy.context(lm=smart_lm):\n",
    "    smart_response = comedian(topic=\"programming\")\n",
    "\n",
    "print(\"Cheap LM response:\")\n",
    "print(cheap_response.joke)\n",
    "\n",
    "print(\"\\nSmart LM response:\") \n",
    "print(smart_response.joke)"
   ]
  }
 ],
 "metadata": {
  "kernelspec": {
   "display_name": ".venv",
   "language": "python",
   "name": "python3"
  },
  "language_info": {
   "codemirror_mode": {
    "name": "ipython",
    "version": 3
   },
   "file_extension": ".py",
   "mimetype": "text/x-python",
   "name": "python",
   "nbconvert_exporter": "python",
   "pygments_lexer": "ipython3",
   "version": "3.13.4"
  }
 },
 "nbformat": 4,
 "nbformat_minor": 5
}

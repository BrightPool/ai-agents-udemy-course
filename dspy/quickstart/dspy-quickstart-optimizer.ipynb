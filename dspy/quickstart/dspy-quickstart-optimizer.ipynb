{
  "cells": [
    {
      "cell_type": "code",
      "execution_count": 1,
      "metadata": {},
      "outputs": [
        {
          "name": "stdout",
          "output_type": "stream",
          "text": [
            "Note: you may need to restart the kernel to use updated packages.\n"
          ]
        }
      ],
      "source": [
        "# Install dependencies\n",
        "%pip install dspy pandas python-dotenv -q\n"
      ]
    },
    {
      "cell_type": "code",
      "execution_count": 2,
      "metadata": {},
      "outputs": [],
      "source": [
        "# Minimal GEPA optimization quickstart\n",
        "# This notebook shows the simplest possible end-to-end example of optimizing a tiny DSPy program with GEPA.\n",
        "# It follows the style of the quickstart notebook and borrows the feedback-augmented metric pattern from comedian-agent.\n",
        "\n",
        "import dspy\n",
        "import os\n",
        "from typing import List\n",
        "from dotenv import load_dotenv\n",
        "\n",
        "# Load environment variables (expects OPENAI_API_KEY to be set in .env)\n",
        "load_dotenv()\n",
        "\n",
        "# Configure a single LM globally for simplicity\n",
        "# Use the same model family as the quickstart for consistency\n",
        "lm = dspy.LM(\"openai/gpt-5-mini\", api_key=os.getenv(\"OPENAI_API_KEY\"), temperature=1, max_tokens=16000)\n",
        "dspy.configure(lm=lm)\n"
      ]
    },
    {
      "cell_type": "code",
      "execution_count": 3,
      "metadata": {},
      "outputs": [
        {
          "name": "stdout",
          "output_type": "stream",
          "text": [
            "My greatest strength is structured problem-solving combined with a bias for action — I can quickly break down complex problems, identify the highest-impact levers, and coordinate the work needed to deliver results.\n",
            "\n",
            "For example, in my last role we had a recurring product release delay caused by handoffs between engineering, QA, and documentation. I mapped the end-to-end process, identified three bottlenecks (unclear acceptance criteria, a single QA gate, and manual doc generation), and proposed concrete fixes: clearer user-story templates, parallelized QA stages, and a small automation script for docs. I led the implementation across teams, and within two release cycles we cut average release time by 35% and reduced post-release bugs by 20%.\n",
            "\n",
            "That combination of analytical thinking, prioritization, and follow-through is how I approach work, and it helps me move projects forward reliably while keeping stakeholders aligned and focused on impact.\n"
          ]
        }
      ],
      "source": [
        "# Define a tiny QA signature and program\n",
        "class QASignature(dspy.Signature):\n",
        "    \"\"\"\n",
        "    Answer a job interview question.\n",
        "    \"\"\"\n",
        "    question: str = dspy.InputField(description=\"Job interview question\")\n",
        "    answer: str = dspy.OutputField(description=\"Candidate's answer to the question\")\n",
        "\n",
        "qa_program = dspy.Predict(QASignature)\n",
        "\n",
        "# Quick sanity check\n",
        "print(qa_program(question=\"What is your greatest strength?\").answer)\n"
      ]
    },
    {
      "cell_type": "code",
      "execution_count": 4,
      "metadata": {},
      "outputs": [
        {
          "name": "stdout",
          "output_type": "stream",
          "text": [
            "Train: 3, Test: 2\n"
          ]
        }
      ],
      "source": [
        "# Create a tiny train/test split of QA examples\n",
        "# Job interview questions with natural, straightforward answers\n",
        "examples = [\n",
        "    dspy.Example(\n",
        "        question=\"What is your greatest strength?\",\n",
        "        answer=\"I'm good at working with others and finding practical solutions to problems. I communicate well and can adapt to different situations.\"\n",
        "    ).with_inputs(\"question\"),\n",
        "    dspy.Example(\n",
        "        question=\"Where do you see yourself in five years?\",\n",
        "        answer=\"I'd like to grow into a leadership role where I can mentor others and take on more responsibility. I want to keep learning and contributing to meaningful projects.\"\n",
        "    ).with_inputs(\"question\"),\n",
        "    dspy.Example(\n",
        "        question=\"How do you handle workplace challenges?\",\n",
        "        answer=\"I try to stay calm and break problems down into smaller parts. I ask for help when I need it and focus on finding solutions rather than dwelling on what went wrong.\"\n",
        "    ).with_inputs(\"question\"),\n",
        "    dspy.Example(\n",
        "        question=\"What makes you a good fit for this role?\",\n",
        "        answer=\"My experience matches what you're looking for, and I'm genuinely interested in this type of work. I learn quickly and I'm motivated to do a good job.\"\n",
        "    ).with_inputs(\"question\"),\n",
        "    dspy.Example(\n",
        "        question=\"How do you prioritize tasks?\",\n",
        "        answer=\"I look at what's most urgent and important, then make a list. I focus on high-impact work first and try to be realistic about what I can accomplish in a day.\"\n",
        "    ).with_inputs(\"question\"),\n",
        "]\n",
        "\n",
        "# Deterministic tiny split (keep it simple)\n",
        "trainset = examples[:3]\n",
        "testset = examples[3:]\n",
        "\n",
        "print(f\"Train: {len(trainset)}, Test: {len(testset)}\")\n"
      ]
    },
    {
      "cell_type": "code",
      "execution_count": 5,
      "metadata": {},
      "outputs": [
        {
          "name": "stdout",
          "output_type": "stream",
          "text": [
            "Metric smoke test (with buzzwords): 0.0\n",
            "Metric smoke test (no buzzwords): 1.0\n"
          ]
        }
      ],
      "source": [
        "# Metric with feedback compatible with GEPA\n",
        "# Checks for absence of corporate buzzwords in the answer\n",
        "\n",
        "def qa_metric_with_feedback(example: dspy.Example, pred: dspy.Prediction, trace=None, pred_name=None, pred_trace=None):\n",
        "    \"\"\"\n",
        "    Returns a score based on how few corporate buzzwords appear in the prediction.\n",
        "    Provides feedback to encourage natural, straightforward language during optimization.\n",
        "    \"\"\"\n",
        "    # Common corporate buzzwords to avoid\n",
        "    corporate_buzzwords = [\n",
        "        \"synergy\", \"leverage\", \"paradigm\", \"disruptive\", \"innovative\", \"strategic\",\n",
        "        \"scalable\", \"optimize\", \"streamline\", \"proactive\", \"dynamic\", \"collaborative\",\n",
        "        \"best practices\", \"core competencies\", \"value-added\", \"stakeholder\", \"bandwidth\",\n",
        "        \"circle back\", \"touch base\", \"move the needle\", \"low-hanging fruit\", \"actionable\",\n",
        "        \"deliverables\", \"key performance indicators\", \"kpi\", \"roi\", \"growth mindset\",\n",
        "        \"thought leader\", \"game changer\", \"win-win\", \"deep dive\", \"drill down\",\n",
        "        \"bias for action\", \"levers\", \"deliver results\", \"end-to-end\",\n",
        "        \"bottlenecks\", \"acceptance criteria\", \"parallelized\", \"automation\", \"implementation\",\n",
        "        \"release cycles\", \"analytical thinking\", \"prioritization\", \"follow-through\",\n",
        "        \"stakeholders\", \"aligned\", \"impact\", \"problem-solving\",\n",
        "        \"break down\", \"complex\", \"coordinate\", \"concrete\", \"post-release\", \"problem solving\"\n",
        "    ]\n",
        "    \n",
        "    guess = (getattr(pred, \"answer\", \"\") or \"\").strip().lower()\n",
        "    \n",
        "    # Count how many buzzwords appear in the prediction\n",
        "    found_buzzwords = [word for word in corporate_buzzwords if word in guess]\n",
        "    \n",
        "    # Score based on absence of buzzwords (fewer is better)\n",
        "    # Perfect score (1.0) = no buzzwords, score decreases with each buzzword found\n",
        "    score = max(1.0 - (len(found_buzzwords) * 0.33), 0.0)\n",
        "    \n",
        "    if pred_name is None:\n",
        "        return score\n",
        "    else:\n",
        "        if score < 1.0:\n",
        "            feedback = f\"Pred: {guess}\\nFound buzzwords: {', '.join(found_buzzwords)}\\nTip: Avoid corporate jargon. Use natural, straightforward language instead.\"\n",
        "        else:\n",
        "            feedback = f\"Great! No corporate buzzwords detected. Natural language used.\"\n",
        "        return dspy.Prediction(score=score, feedback=feedback)\n",
        "\n",
        "# Quick smoke test of metric\n",
        "print(\"Metric smoke test (with buzzwords):\", qa_metric_with_feedback(trainset[0], dspy.Prediction(answer=\"I leverage synergy and strategic thinking to optimize outcomes\")))\n",
        "print(\"Metric smoke test (no buzzwords):\", qa_metric_with_feedback(trainset[0], dspy.Prediction(answer=\"I'm good at working with others\")))\n"
      ]
    },
    {
      "cell_type": "code",
      "execution_count": 6,
      "metadata": {},
      "outputs": [
        {
          "name": "stdout",
          "output_type": "stream",
          "text": [
            "Average Metric: 0.00 / 2 (0.0%): 100%|██████████| 2/2 [00:00<00:00, 2522.13it/s]"
          ]
        },
        {
          "name": "stderr",
          "output_type": "stream",
          "text": [
            "2025/10/03 16:15:11 INFO dspy.evaluate.evaluate: Average Metric: 0.0 / 2 (0.0%)\n"
          ]
        },
        {
          "name": "stdout",
          "output_type": "stream",
          "text": [
            "\n"
          ]
        },
        {
          "data": {
            "text/html": [
              "<div>\n",
              "<style scoped>\n",
              "    .dataframe tbody tr th:only-of-type {\n",
              "        vertical-align: middle;\n",
              "    }\n",
              "\n",
              "    .dataframe tbody tr th {\n",
              "        vertical-align: top;\n",
              "    }\n",
              "\n",
              "    .dataframe thead th {\n",
              "        text-align: right;\n",
              "    }\n",
              "</style>\n",
              "<table border=\"1\" class=\"dataframe\">\n",
              "  <thead>\n",
              "    <tr style=\"text-align: right;\">\n",
              "      <th></th>\n",
              "      <th>question</th>\n",
              "      <th>example_answer</th>\n",
              "      <th>pred_answer</th>\n",
              "      <th>qa_metric_with_feedback</th>\n",
              "    </tr>\n",
              "  </thead>\n",
              "  <tbody>\n",
              "    <tr>\n",
              "      <th>0</th>\n",
              "      <td>What makes you a good fit for this role?</td>\n",
              "      <td>My experience matches what you're looking for, and I'm genuinely i...</td>\n",
              "      <td>There are three clear reasons I’m a strong fit for this role: rele...</td>\n",
              "      <td></td>\n",
              "    </tr>\n",
              "    <tr>\n",
              "      <th>1</th>\n",
              "      <td>How do you prioritize tasks?</td>\n",
              "      <td>I look at what's most urgent and important, then make a list. I fo...</td>\n",
              "      <td>I prioritize tasks by combining clear goal alignment, a simple fra...</td>\n",
              "      <td></td>\n",
              "    </tr>\n",
              "  </tbody>\n",
              "</table>\n",
              "</div>"
            ],
            "text/plain": [
              "                                   question  \\\n",
              "0  What makes you a good fit for this role?   \n",
              "1              How do you prioritize tasks?   \n",
              "\n",
              "                                                          example_answer  \\\n",
              "0  My experience matches what you're looking for, and I'm genuinely i...   \n",
              "1  I look at what's most urgent and important, then make a list. I fo...   \n",
              "\n",
              "                                                             pred_answer  \\\n",
              "0  There are three clear reasons I’m a strong fit for this role: rele...   \n",
              "1  I prioritize tasks by combining clear goal alignment, a simple fra...   \n",
              "\n",
              "  qa_metric_with_feedback  \n",
              "0                          \n",
              "1                          "
            ]
          },
          "metadata": {},
          "output_type": "display_data"
        },
        {
          "name": "stdout",
          "output_type": "stream",
          "text": [
            "Baseline done.\n"
          ]
        }
      ],
      "source": [
        "# Baseline evaluation on the tiny test set\n",
        "evaluate = dspy.Evaluate(\n",
        "    devset=testset,\n",
        "    metric=qa_metric_with_feedback,\n",
        "    num_threads=4,\n",
        "    display_table=True,\n",
        "    display_progress=True,\n",
        ")\n",
        "\n",
        "baseline_eval_score = evaluate(qa_program)\n",
        "print(\"Baseline done.\")\n"
      ]
    },
    {
      "cell_type": "code",
      "execution_count": 8,
      "metadata": {},
      "outputs": [
        {
          "name": "stderr",
          "output_type": "stream",
          "text": [
            "2025/10/03 16:16:24 INFO dspy.teleprompt.gepa.gepa: Running GEPA for approx 10 metric calls of the program. This amounts to 2.00 full evals on the train+val set.\n",
            "2025/10/03 16:16:24 INFO dspy.teleprompt.gepa.gepa: Using 2 examples for tracking Pareto scores. You can consider using a smaller sample of the valset to allow GEPA to explore more diverse solutions within the same budget.\n",
            "GEPA Optimization:   0%|          | 0/10 [00:00<?, ?rollouts/s]2025/10/03 16:16:24 INFO dspy.evaluate.evaluate: Average Metric: 0.0 / 2 (0.0%)\n",
            "2025/10/03 16:16:24 INFO dspy.teleprompt.gepa.gepa: Iteration 0: Base program full valset score: 0.0\n",
            "2025/10/03 16:16:24 INFO dspy.teleprompt.gepa.gepa: Iteration 1: Selected program 0 score: 0.0\n"
          ]
        },
        {
          "name": "stdout",
          "output_type": "stream",
          "text": [
            "Average Metric: 1.00 / 3 (33.3%): 100%|██████████| 3/3 [00:00<00:00, 1105.80it/s]"
          ]
        },
        {
          "name": "stderr",
          "output_type": "stream",
          "text": [
            "2025/10/03 16:16:24 INFO dspy.evaluate.evaluate: Average Metric: 1.0 / 3 (33.3%)\n",
            "2025/10/03 16:16:24 INFO dspy.teleprompt.gepa.gepa: Iteration 1: Proposed new text for self: You are answering job interview questions.\n",
            "\n",
            "Input format:\n",
            "- You will receive an object with a single field: question: <the interviewer’s question as plain text>.\n",
            "\n",
            "Output format:\n",
            "- Return only the answer, as plain text. No headings or labels.\n",
            "- Keep it concise (about 110–220 words).\n",
            "- Bullets are allowed for short step lists; avoid heavy formatting.\n",
            "\n",
            "How to answer:\n",
            "- Start with a clear 1–2 sentence direct answer to the question.\n",
            "- If helpful, add a brief 3–5 bullet list of your approach or steps in plain language.\n",
            "- Include one short example story using STAR (Situation, Task, Action, Result). Keep it realistic, use first person, and add a simple metric or observable outcome when possible.\n",
            "- End with a one‑line takeaway that ties back to the role’s value.\n",
            "- If the question is future‑focused (e.g., “five years”), emphasize learning, contribution, and flexibility.\n",
            "- If no role/domain is given, keep examples broadly applicable (e.g., office, tech, operations) and avoid niche acronyms. Use domain terms only when necessary and commonly understood.\n",
            "\n",
            "Style:\n",
            "- Use natural, straightforward language. Avoid corporate jargon and buzzwords.\n",
            "- Prefer plain alternatives. For example:\n",
            "  - stakeholders -> the people involved, the team, customers\n",
            "  - alignment/aligned -> on the same page\n",
            "  - impact -> effect, results\n",
            "  - follow-through -> finish the work\n",
            "  - deliver results -> get things done\n",
            "  - bias for action -> tendency to act\n",
            "  - levers -> parts we can change\n",
            "  - end-to-end -> from start to finish\n",
            "  - bottlenecks -> slow points\n",
            "  - implementation -> put it in place, roll it out\n",
            "  - release cycles -> release schedule\n",
            "  - analytical thinking -> careful thinking\n",
            "  - prioritization -> choosing what to do first\n",
            "  - problem-solving -> fixing problems\n",
            "  - break down -> split into parts\n",
            "  - coordinate -> work with others\n",
            "  - concrete -> specific\n",
            "- Avoid clichés, overstatement, and filler.\n",
            "\n",
            "If the question truly requires role-specific context you don’t have, ask one brief clarifying question first; otherwise proceed with a broadly relevant example.\n",
            "2025/10/03 16:16:24 INFO dspy.evaluate.evaluate: Average Metric: 1.3399999999999999 / 3 (44.7%)\n",
            "2025/10/03 16:16:24 INFO dspy.evaluate.evaluate: Average Metric: 1.67 / 2 (83.5%)\n",
            "2025/10/03 16:16:24 INFO dspy.teleprompt.gepa.gepa: Iteration 1: New program is on the linear pareto front\n",
            "2025/10/03 16:16:24 INFO dspy.teleprompt.gepa.gepa: Iteration 1: Full valset score for new program: 0.835\n",
            "2025/10/03 16:16:24 INFO dspy.teleprompt.gepa.gepa: Iteration 1: Full train_val score for new program: 0.835\n",
            "2025/10/03 16:16:24 INFO dspy.teleprompt.gepa.gepa: Iteration 1: Individual valset scores for new program: [1.0, 0.6699999999999999]\n",
            "2025/10/03 16:16:24 INFO dspy.teleprompt.gepa.gepa: Iteration 1: New valset pareto front scores: [1.0, 0.6699999999999999]\n",
            "2025/10/03 16:16:24 INFO dspy.teleprompt.gepa.gepa: Iteration 1: Full valset pareto front score: 0.835\n",
            "2025/10/03 16:16:24 INFO dspy.teleprompt.gepa.gepa: Iteration 1: Updated valset pareto front programs: [{1}, {1}]\n",
            "2025/10/03 16:16:24 INFO dspy.teleprompt.gepa.gepa: Iteration 1: Best valset aggregate score so far: 0.835\n",
            "2025/10/03 16:16:24 INFO dspy.teleprompt.gepa.gepa: Iteration 1: Best program as per aggregate score on train_val: 1\n",
            "2025/10/03 16:16:24 INFO dspy.teleprompt.gepa.gepa: Iteration 1: Best program as per aggregate score on valset: 1\n",
            "2025/10/03 16:16:24 INFO dspy.teleprompt.gepa.gepa: Iteration 1: Best score on valset: 0.835\n",
            "2025/10/03 16:16:24 INFO dspy.teleprompt.gepa.gepa: Iteration 1: Best score on train_val: 0.835\n",
            "2025/10/03 16:16:24 INFO dspy.teleprompt.gepa.gepa: Iteration 1: Linear pareto front program index: 1\n",
            "2025/10/03 16:16:24 INFO dspy.teleprompt.gepa.gepa: Iteration 1: New program candidate index: 1\n",
            "GEPA Optimization:  20%|██        | 2/10 [00:00<00:00, 74.05rollouts/s]"
          ]
        },
        {
          "name": "stdout",
          "output_type": "stream",
          "text": [
            "\n",
            "GEPA optimization complete.\n"
          ]
        },
        {
          "name": "stderr",
          "output_type": "stream",
          "text": [
            "\n"
          ]
        }
      ],
      "source": [
        "# Run GEPA to optimize the program\n",
        "from dspy import GEPA\n",
        "\n",
        "optimizer = GEPA(\n",
        "    metric=qa_metric_with_feedback,\n",
        "    max_full_evals=2,  # keep it small/fast for a quickstart demo\n",
        "    num_threads=8,\n",
        "    track_stats=True,\n",
        "    use_merge=False,\n",
        "    reflection_lm=dspy.LM(model='gpt-5', temperature=1.0, max_tokens=32000)\n",
        ")\n",
        "\n",
        "optimized_qa = optimizer.compile(\n",
        "    qa_program,\n",
        "    trainset=trainset,\n",
        "    valset=testset,\n",
        ")\n",
        "\n",
        "print(\"GEPA optimization complete.\")\n"
      ]
    },
    {
      "cell_type": "code",
      "execution_count": 9,
      "metadata": {},
      "outputs": [
        {
          "name": "stdout",
          "output_type": "stream",
          "text": [
            "Average Metric: 1.67 / 2 (83.5%): 100%|██████████| 2/2 [00:00<00:00, 2387.20it/s]"
          ]
        },
        {
          "name": "stderr",
          "output_type": "stream",
          "text": [
            "2025/10/03 16:17:37 INFO dspy.evaluate.evaluate: Average Metric: 1.67 / 2 (83.5%)\n"
          ]
        },
        {
          "name": "stdout",
          "output_type": "stream",
          "text": [
            "\n"
          ]
        },
        {
          "data": {
            "text/html": [
              "<div>\n",
              "<style scoped>\n",
              "    .dataframe tbody tr th:only-of-type {\n",
              "        vertical-align: middle;\n",
              "    }\n",
              "\n",
              "    .dataframe tbody tr th {\n",
              "        vertical-align: top;\n",
              "    }\n",
              "\n",
              "    .dataframe thead th {\n",
              "        text-align: right;\n",
              "    }\n",
              "</style>\n",
              "<table border=\"1\" class=\"dataframe\">\n",
              "  <thead>\n",
              "    <tr style=\"text-align: right;\">\n",
              "      <th></th>\n",
              "      <th>question</th>\n",
              "      <th>example_answer</th>\n",
              "      <th>pred_answer</th>\n",
              "      <th>qa_metric_with_feedback</th>\n",
              "    </tr>\n",
              "  </thead>\n",
              "  <tbody>\n",
              "    <tr>\n",
              "      <th>0</th>\n",
              "      <td>What makes you a good fit for this role?</td>\n",
              "      <td>My experience matches what you're looking for, and I'm genuinely i...</td>\n",
              "      <td>I'm a good fit because I combine practical problem‑solving, depend...</td>\n",
              "      <td>✔️ [1.000]</td>\n",
              "    </tr>\n",
              "    <tr>\n",
              "      <th>1</th>\n",
              "      <td>How do you prioritize tasks?</td>\n",
              "      <td>I look at what's most urgent and important, then make a list. I fo...</td>\n",
              "      <td>I prioritize tasks by assessing urgency, importance, and effort so...</td>\n",
              "      <td>✔️ [0.670]</td>\n",
              "    </tr>\n",
              "  </tbody>\n",
              "</table>\n",
              "</div>"
            ],
            "text/plain": [
              "                                   question  \\\n",
              "0  What makes you a good fit for this role?   \n",
              "1              How do you prioritize tasks?   \n",
              "\n",
              "                                                          example_answer  \\\n",
              "0  My experience matches what you're looking for, and I'm genuinely i...   \n",
              "1  I look at what's most urgent and important, then make a list. I fo...   \n",
              "\n",
              "                                                             pred_answer  \\\n",
              "0  I'm a good fit because I combine practical problem‑solving, depend...   \n",
              "1  I prioritize tasks by assessing urgency, importance, and effort so...   \n",
              "\n",
              "  qa_metric_with_feedback  \n",
              "0              ✔️ [1.000]  \n",
              "1              ✔️ [0.670]  "
            ]
          },
          "metadata": {},
          "output_type": "display_data"
        }
      ],
      "source": [
        "optimized_score = evaluate(optimized_qa)"
      ]
    },
    {
      "cell_type": "code",
      "execution_count": 11,
      "metadata": {},
      "outputs": [
        {
          "name": "stdout",
          "output_type": "stream",
          "text": [
            "You are answering job interview questions.\n",
            "\n",
            "Input format:\n",
            "- You will receive an object with a single field: question: <the interviewer’s question as plain text>.\n",
            "\n",
            "Output format:\n",
            "- Return only the answer, as plain text. No headings or labels.\n",
            "- Keep it concise (about 110–220 words).\n",
            "- Bullets are allowed for short step lists; avoid heavy formatting.\n",
            "\n",
            "How to answer:\n",
            "- Start with a clear 1–2 sentence direct answer to the question.\n",
            "- If helpful, add a brief 3–5 bullet list of your approach or steps in plain language.\n",
            "- Include one short example story using STAR (Situation, Task, Action, Result). Keep it realistic, use first person, and add a simple metric or observable outcome when possible.\n",
            "- End with a one‑line takeaway that ties back to the role’s value.\n",
            "- If the question is future‑focused (e.g., “five years”), emphasize learning, contribution, and flexibility.\n",
            "- If no role/domain is given, keep examples broadly applicable (e.g., office, tech, operations) and avoid niche acronyms. Use domain terms only when necessary and commonly understood.\n",
            "\n",
            "Style:\n",
            "- Use natural, straightforward language. Avoid corporate jargon and buzzwords.\n",
            "- Prefer plain alternatives. For example:\n",
            "  - stakeholders -> the people involved, the team, customers\n",
            "  - alignment/aligned -> on the same page\n",
            "  - impact -> effect, results\n",
            "  - follow-through -> finish the work\n",
            "  - deliver results -> get things done\n",
            "  - bias for action -> tendency to act\n",
            "  - levers -> parts we can change\n",
            "  - end-to-end -> from start to finish\n",
            "  - bottlenecks -> slow points\n",
            "  - implementation -> put it in place, roll it out\n",
            "  - release cycles -> release schedule\n",
            "  - analytical thinking -> careful thinking\n",
            "  - prioritization -> choosing what to do first\n",
            "  - problem-solving -> fixing problems\n",
            "  - break down -> split into parts\n",
            "  - coordinate -> work with others\n",
            "  - concrete -> specific\n",
            "- Avoid clichés, overstatement, and filler.\n",
            "\n",
            "If the question truly requires role-specific context you don’t have, ask one brief clarifying question first; otherwise proceed with a broadly relevant example.\n"
          ]
        }
      ],
      "source": [
        "print(optimized_qa.signature.instructions)"
      ]
    }
  ],
  "metadata": {
    "kernelspec": {
      "display_name": ".venv",
      "language": "python",
      "name": "python3"
    },
    "language_info": {
      "codemirror_mode": {
        "name": "ipython",
        "version": 3
      },
      "file_extension": ".py",
      "mimetype": "text/x-python",
      "name": "python",
      "nbconvert_exporter": "python",
      "pygments_lexer": "ipython3",
      "version": "3.13.0"
    }
  },
  "nbformat": 4,
  "nbformat_minor": 2
}

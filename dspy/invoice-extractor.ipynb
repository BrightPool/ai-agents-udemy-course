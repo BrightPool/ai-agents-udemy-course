{
 "cells": [
  {
   "cell_type": "code",
   "execution_count": 11,
   "id": "75a5b4f3",
   "metadata": {},
   "outputs": [
    {
     "name": "stdout",
     "output_type": "stream",
     "text": [
      "Note: you may need to restart the kernel to use updated packages.\n"
     ]
    }
   ],
   "source": [
    "# Install dependencies (run once per environment)\n",
    "%pip install -q dspy pandas python-dotenv\n",
    "\n",
    "# dataset comes from here: https://www.kaggle.com/datasets/nikitpatel/invoice-ner-dataset?resource=download\n"
   ]
  },
  {
   "cell_type": "code",
   "execution_count": 19,
   "id": "c90a1ac8",
   "metadata": {},
   "outputs": [
    {
     "name": "stdout",
     "output_type": "stream",
     "text": [
      "DSPy configured for invoice extraction.\n"
     ]
    }
   ],
   "source": [
    "# Basic imports and environment setup\n",
    "import os\n",
    "import json\n",
    "import dspy\n",
    "import pandas as pd\n",
    "from dotenv import load_dotenv\n",
    "\n",
    "# Load API keys from .env (OPENAI_API_KEY is expected)\n",
    "load_dotenv()\n",
    "\n",
    "# Configure DSPy default LM similar to other notebooks\n",
    "lm = dspy.LM(\"openai/gpt-5-mini\", api_key=os.getenv(\"OPENAI_API_KEY\"), temperature=1, max_tokens=16000)\n",
    "dspy.configure(lm=lm)\n",
    "\n",
    "print(\"DSPy configured for invoice extraction.\")\n"
   ]
  },
  {
   "cell_type": "code",
   "execution_count": 20,
   "id": "c9e0103d",
   "metadata": {},
   "outputs": [
    {
     "name": "stdout",
     "output_type": "stream",
     "text": [
      "Rows: 67\n",
      "                                               Input  \\\n",
      "0  Cream and White Simple Minimalist Catering Ser...   \n",
      "1  Beige Elegant Professional Business Invoice\\n\\...   \n",
      "\n",
      "                                        Final_Output  \n",
      "0  {\"TOTAL_AMOUNT\": \"$1000\", \"DUE_AMOUNT\": \"$550\"...  \n",
      "1  {\"INVOICE_NUMBER\": \"#01234\", \"BILLED_TO\": \"Est...  \n",
      "Train examples: 30, Valid examples: 10\n"
     ]
    }
   ],
   "source": [
    "# Load dataset and preview a few rows\n",
    "# Prefer absolute path next to this notebook; fallback to project root\n",
    "nb_dir = os.path.dirname(os.path.abspath(\"__file__\")) if \"__file__\" in globals() else os.path.abspath(\"./dspy\")\n",
    "candidates = [\n",
    "    os.path.join(nb_dir, \"invoice_ner_dataset.csv\"),\n",
    "    os.path.abspath(\"./dspy/invoice_ner_dataset.csv\"),\n",
    "    os.path.abspath(\"invoice_ner_dataset.csv\"),\n",
    "]\n",
    "for p in candidates:\n",
    "    if os.path.exists(p):\n",
    "        csv_path = p\n",
    "        break\n",
    "else:\n",
    "    raise FileNotFoundError(\"invoice_ner_dataset.csv not found in expected locations\")\n",
    "\n",
    "raw_df = pd.read_csv(csv_path)\n",
    "print(\"Rows:\", len(raw_df))\n",
    "print(raw_df.head(2))\n",
    "\n",
    "# Parse Final_Output JSON strings into dicts\n",
    "raw_df[\"Final_Output\"] = raw_df[\"Final_Output\"].apply(lambda s: json.loads(s))\n",
    "\n",
    "# Build small train/test splits for quick iteration\n",
    "# Keep it tiny for a simple example; adjust as needed\n",
    "train_df = raw_df.iloc[:30].copy()\n",
    "valid_df = raw_df.iloc[30:40].copy()\n",
    "\n",
    "def to_examples(df):\n",
    "    examples = []\n",
    "    for _, row in df.iterrows():\n",
    "        examples.append(dspy.Example(text=row[\"Input\"], target=row[\"Final_Output\"]).with_inputs(\"text\"))\n",
    "    return examples\n",
    "\n",
    "train_examples = to_examples(train_df)\n",
    "valid_examples = to_examples(valid_df)\n",
    "\n",
    "print(f\"Train examples: {len(train_examples)}, Valid examples: {len(valid_examples)}\")\n"
   ]
  },
  {
   "cell_type": "code",
   "execution_count": 28,
   "id": "262cf4a5",
   "metadata": {},
   "outputs": [
    {
     "name": "stdout",
     "output_type": "stream",
     "text": [
      "Signature and extractor ready.\n"
     ]
    }
   ],
   "source": [
    "# Define a signature for extracting a JSON dict of invoice fields\n",
    "class InvoiceExtraction(dspy.Signature):\n",
    "    \"\"\"\n",
    "    Extract key-value invoice fields as a JSON dict from free-form invoice text.\n",
    "    \"\"\"\n",
    "    text: str = dspy.InputField(description=\"Raw invoice text\")\n",
    "    rationale: str = dspy.OutputField(description=\"Brief reasoning, list detected fields\")\n",
    "    extracted: dict = dspy.OutputField(description=\"JSON dict with only UPPERCASE dataset keys and string values\")\n",
    "\n",
    "# Base module (simple Predict)\n",
    "extractor = dspy.Predict(InvoiceExtraction)\n",
    "\n",
    "print(\"Signature and extractor ready.\")\n"
   ]
  },
  {
   "cell_type": "code",
   "execution_count": 29,
   "id": "3a618a4c",
   "metadata": {},
   "outputs": [
    {
     "name": "stderr",
     "output_type": "stream",
     "text": [
      "2025/09/16 12:44:50 INFO dspy.evaluate.evaluate: Average Metric: 3.228846153846154 / 10 (32.3%)\n"
     ]
    },
    {
     "name": "stdout",
     "output_type": "stream",
     "text": [
      "Initial field accuracy on valid: EvaluationResult(score=32.29, results=<list of 10 results>)\n"
     ]
    }
   ],
   "source": [
    "# Define a per-field accuracy metric: correct_fields / total_gold_fields\n",
    "from dspy.evaluate import Evaluate\n",
    "\n",
    "\n",
    "def normalize_dict(d: dict) -> dict:\n",
    "    if d is None:\n",
    "        return {}\n",
    "    def norm_key(k: str) -> str:\n",
    "        # Uppercase keys to align with dataset convention\n",
    "        return str(k).strip().upper()\n",
    "    def norm_val(v: str) -> str:\n",
    "        s = str(v).strip()\n",
    "        s = s.replace(\",\", \"\")\n",
    "        s = s.replace(\"$ \", \"$\")\n",
    "        s = \" \".join(s.split())  # collapse internal whitespace\n",
    "        return s\n",
    "    return {norm_key(k): norm_val(v) for k, v in d.items()}\n",
    "\n",
    "\n",
    "def field_accuracy_metric(example: dspy.Example, pred: dspy.Prediction, trace=None) -> float:\n",
    "    # count how many fields are correct\n",
    "    gold = normalize_dict(example.target)\n",
    "    got = normalize_dict(getattr(pred, \"extracted\", {}))\n",
    "    if not gold:\n",
    "        return 0.0\n",
    "    correct = 0\n",
    "    for k, v in gold.items():\n",
    "        if k in got and got[k] == v:\n",
    "            correct += 1\n",
    "    return correct / len(gold)\n",
    "\n",
    "\n",
    "# Provide the devset at construction per latest API\n",
    "evaluate = Evaluate(devset=valid_examples, metric=field_accuracy_metric, ordered=True)\n",
    "\n",
    "# Standard usage: pass the module directly\n",
    "initial_score = evaluate(extractor)\n",
    "print(\"Initial field accuracy on valid:\", initial_score)\n"
   ]
  },
  {
   "cell_type": "code",
   "execution_count": 30,
   "id": "237751e5",
   "metadata": {},
   "outputs": [
    {
     "name": "stdout",
     "output_type": "stream",
     "text": [
      "Sample comparison:\n",
      "\n",
      "INPUT TEXT:\n",
      "--------------------------------------------------------------------------------\n",
      "Green Blue Pink Vintage Retro Freelance Invoice\n",
      "\n",
      "NO. DESCRIPTION RATE QTY TOTAL\n",
      "01 Graphic design for website 45 20 900.00\n",
      "02 Graphic design for social content 45 8 360.00\n",
      "03 Account management fee 280 1 280.00\n",
      "04 Two days onsite 640 2 1280.00\n",
      "SUB TOTAL $ 2820.00\n",
      "TAX $ 225.60\n",
      "S&H nil\n",
      "TOTAL $ 3045.60 ...\n",
      "--------------------------------------------------------------------------------\n",
      "\n",
      "BASE MODEL PREDICTION:\n",
      "Rationale: Detected invoice fields parsed from the text:\n",
      "- Invoice title\n",
      "- Invoice number (\"NO. 001\")\n",
      "- Invoice date (\"02.05.2024\")\n",
      "- From (biller) name, company, email, address, code\n",
      "- To (client) name, company, email, address, code\n",
      "- Line items (4 entries) with rate, quantity, totals\n",
      "- Subtotal, Tax, Shipping (S&H), Total\n",
      "- Bank / account details (Account Name, Bank, Acc)\n",
      "- Payment instructions / terms (\"Please pay within 60 days\", cheques payable)\n",
      "- Notes text\n",
      "\n",
      "Extracted fields:\n",
      "INVOICE_TITLE       : Green Blue Pink Vintage Retro Freelance Invoice\n",
      "INVOICE_NUMBER      : 001\n",
      "INVOICE_DATE        : 02.05.2024\n",
      "FROM_NAME           : Reese Miller\n",
      "FROM_COMPANY        : Timmerman Industries\n",
      "FROM_EMAIL          : hello@reallygreatsite.com\n",
      "FROM_ADDRESS        : 123 Anywhere St., Any City, ST 12345\n",
      "FROM_CODE           : 123-456\n",
      "TO_NAME             : Rosa Maria Aguado\n",
      "TO_COMPANY          : Aldenaire & Partners\n",
      "TO_EMAIL            : hello@reallygreatsite.com\n",
      "TO_ADDRESS          : 123 Anywhere St., Any City, ST 12345\n",
      "TO_CODE             : 123-456\n",
      "ITEMS               : 01 Graphic design for website — RATE 45 — QTY 20 — TOTAL 900.00; 02 Graphic design for social content — RATE 45 — QTY 8 — TOTAL 360.00; 03 Account management fee — RATE 280 — QTY 1 — TOTAL 280.00; 04 Two days onsite — RATE 640 — QTY 2 — TOTAL 1280.00\n",
      "SUBTOTAL            : 2820.00\n",
      "TAX                 : 225.60\n",
      "SHIPPING            : nil\n",
      "TOTAL               : 3045.60\n",
      "BANK_NAME           : Warner & Spencer\n",
      "BANK_ACCOUNT        : 123-456-7890\n",
      "ACCOUNT_NAME        : Reese Miller\n",
      "PAYMENT_INSTRUCTIONS: Cheques payable to \"Reese Miller\"; Please pay within 60 days\n",
      "NOTES               : Lorem ipsum dolor sit amet, consectetur adipiscing elit. Phasellus cursus augue enim, eget rhoncus ante vehicula eu. Fusce lobortis quis odio.\n",
      "\n",
      "GROUND TRUTH:\n",
      "\n",
      "Extracted fields:\n",
      "INVOICE_NUMBER      : 001\n",
      "DATE                : 02.05.2024\n",
      "BILL_TO             : Rosa Maria Aguado\n",
      "COMPANY             : Aldenaire & Partners\n",
      "ADDRESS             : 123 Anywhere St., Any City, ST 12345\n",
      "EMAIL               : hello@reallygreatsite.com\n",
      "BANK_NAME           : Warner & Spencer\n",
      "BANK_ACCOUNT        : 123-456-7890\n",
      "ITEM_DESCRIPTION    : Two days onsite\n",
      "QTY                 : 2\n",
      "RATE                : 640\n",
      "AMOUNT              : 1280.00\n",
      "SUBTOTAL            : $ 2820.00\n",
      "TAX                 : $ 225.60\n",
      "TOTAL_AMOUNT        : $ 3045.60\n",
      "PAYMENT_TERMS       : Please pay within 60 days\n"
     ]
    }
   ],
   "source": [
    "# Compare base vs optimized predictions on a sample\n",
    "sample = valid_examples[0]\n",
    "print(\"Sample comparison:\")\n",
    "print(\"\\nINPUT TEXT:\")\n",
    "print(\"-\" * 80)\n",
    "print(sample.text[:300], \"...\")\n",
    "print(\"-\" * 80)\n",
    "\n",
    "print(\"\\nBASE MODEL PREDICTION:\")\n",
    "base_pred = extractor(text=sample.text)\n",
    "print(f\"Rationale: {base_pred.rationale}\")\n",
    "print(\"\\nExtracted fields:\")\n",
    "for k,v in (base_pred.extracted or {}).items():\n",
    "    print(f\"{k:20s}: {v}\")\n",
    "\n",
    "print(\"\\nGROUND TRUTH:\")\n",
    "print(\"\\nExtracted fields:\")\n",
    "for k,v in sample.target.items():\n",
    "    print(f\"{k:20s}: {v}\")\n"
   ]
  },
  {
   "cell_type": "code",
   "execution_count": 34,
   "id": "0c75157c",
   "metadata": {},
   "outputs": [
    {
     "name": "stderr",
     "output_type": "stream",
     "text": [
      "2025/09/16 12:48:06 INFO dspy.teleprompt.mipro_optimizer_v2: \n",
      "RUNNING WITH THE FOLLOWING MEDIUM AUTO RUN SETTINGS:\n",
      "num_trials: 18\n",
      "minibatch: False\n",
      "num_fewshot_candidates: 12\n",
      "num_instruct_candidates: 6\n",
      "valset size: 24\n",
      "\n",
      "2025/09/16 12:48:06 INFO dspy.teleprompt.mipro_optimizer_v2: \n",
      "==> STEP 1: BOOTSTRAP FEWSHOT EXAMPLES <==\n",
      "2025/09/16 12:48:06 INFO dspy.teleprompt.mipro_optimizer_v2: These will be used as few-shot example candidates for our program and for creating instructions.\n",
      "\n",
      "2025/09/16 12:48:06 INFO dspy.teleprompt.mipro_optimizer_v2: Bootstrapping N=12 sets of demonstrations...\n"
     ]
    },
    {
     "name": "stdout",
     "output_type": "stream",
     "text": [
      "Bootstrapping set 1/12\n",
      "Bootstrapping set 2/12\n",
      "Bootstrapping set 3/12\n"
     ]
    },
    {
     "name": "stderr",
     "output_type": "stream",
     "text": [
      " 67%|██████▋   | 4/6 [02:00<01:00, 30.21s/it]\n"
     ]
    },
    {
     "name": "stdout",
     "output_type": "stream",
     "text": [
      "Bootstrapped 4 full traces after 4 examples for up to 1 rounds, amounting to 4 attempts.\n",
      "Bootstrapping set 4/12\n"
     ]
    },
    {
     "name": "stderr",
     "output_type": "stream",
     "text": [
      " 67%|██████▋   | 4/6 [00:18<00:09,  4.68s/it]\n"
     ]
    },
    {
     "name": "stdout",
     "output_type": "stream",
     "text": [
      "Bootstrapped 4 full traces after 4 examples for up to 1 rounds, amounting to 4 attempts.\n",
      "Bootstrapping set 5/12\n"
     ]
    },
    {
     "name": "stderr",
     "output_type": "stream",
     "text": [
      " 67%|██████▋   | 4/6 [00:00<00:00, 32.59it/s]\n"
     ]
    },
    {
     "name": "stdout",
     "output_type": "stream",
     "text": [
      "Bootstrapped 4 full traces after 4 examples for up to 1 rounds, amounting to 4 attempts.\n",
      "Bootstrapping set 6/12\n"
     ]
    },
    {
     "name": "stderr",
     "output_type": "stream",
     "text": [
      " 50%|█████     | 3/6 [00:21<00:21,  7.26s/it]\n"
     ]
    },
    {
     "name": "stdout",
     "output_type": "stream",
     "text": [
      "Bootstrapped 3 full traces after 3 examples for up to 1 rounds, amounting to 3 attempts.\n",
      "Bootstrapping set 7/12\n"
     ]
    },
    {
     "name": "stderr",
     "output_type": "stream",
     "text": [
      " 67%|██████▋   | 4/6 [00:00<00:00, 133.86it/s]\n"
     ]
    },
    {
     "name": "stdout",
     "output_type": "stream",
     "text": [
      "Bootstrapped 4 full traces after 4 examples for up to 1 rounds, amounting to 4 attempts.\n",
      "Bootstrapping set 8/12\n"
     ]
    },
    {
     "name": "stderr",
     "output_type": "stream",
     "text": [
      " 17%|█▋        | 1/6 [00:00<00:00, 138.35it/s]\n"
     ]
    },
    {
     "name": "stdout",
     "output_type": "stream",
     "text": [
      "Bootstrapped 1 full traces after 1 examples for up to 1 rounds, amounting to 1 attempts.\n",
      "Bootstrapping set 9/12\n"
     ]
    },
    {
     "name": "stderr",
     "output_type": "stream",
     "text": [
      " 33%|███▎      | 2/6 [00:00<00:00, 130.83it/s]\n"
     ]
    },
    {
     "name": "stdout",
     "output_type": "stream",
     "text": [
      "Bootstrapped 2 full traces after 2 examples for up to 1 rounds, amounting to 2 attempts.\n",
      "Bootstrapping set 10/12\n"
     ]
    },
    {
     "name": "stderr",
     "output_type": "stream",
     "text": [
      " 17%|█▋        | 1/6 [00:00<00:00, 129.99it/s]\n"
     ]
    },
    {
     "name": "stdout",
     "output_type": "stream",
     "text": [
      "Bootstrapped 1 full traces after 1 examples for up to 1 rounds, amounting to 1 attempts.\n",
      "Bootstrapping set 11/12\n"
     ]
    },
    {
     "name": "stderr",
     "output_type": "stream",
     "text": [
      " 67%|██████▋   | 4/6 [00:00<00:00, 168.73it/s]\n"
     ]
    },
    {
     "name": "stdout",
     "output_type": "stream",
     "text": [
      "Bootstrapped 4 full traces after 4 examples for up to 1 rounds, amounting to 4 attempts.\n",
      "Bootstrapping set 12/12\n"
     ]
    },
    {
     "name": "stderr",
     "output_type": "stream",
     "text": [
      " 17%|█▋        | 1/6 [00:00<00:00, 127.72it/s]\n",
      "2025/09/16 12:50:48 INFO dspy.teleprompt.mipro_optimizer_v2: \n",
      "==> STEP 2: PROPOSE INSTRUCTION CANDIDATES <==\n",
      "2025/09/16 12:50:48 INFO dspy.teleprompt.mipro_optimizer_v2: We will use the few-shot examples from the previous step, a generated dataset summary, a summary of the program code, and a randomly selected prompting tip to propose instructions.\n"
     ]
    },
    {
     "name": "stdout",
     "output_type": "stream",
     "text": [
      "Bootstrapped 1 full traces after 1 examples for up to 1 rounds, amounting to 1 attempts.\n"
     ]
    },
    {
     "name": "stderr",
     "output_type": "stream",
     "text": [
      "2025/09/16 12:51:15 INFO dspy.teleprompt.mipro_optimizer_v2: \n",
      "Proposing N=6 instructions...\n",
      "\n",
      "2025/09/16 12:58:53 INFO dspy.teleprompt.mipro_optimizer_v2: Proposed Instructions for Predictor 0:\n",
      "\n",
      "2025/09/16 12:58:53 INFO dspy.teleprompt.mipro_optimizer_v2: 0: Extract key-value invoice fields as a JSON dict from free-form invoice text.\n",
      "\n",
      "2025/09/16 12:58:53 INFO dspy.teleprompt.mipro_optimizer_v2: 1: You are an expert invoice-data extraction assistant. Your task is to implement the Predict(text) -> (rationale, extracted) behavior: take a single block of OCR/plain invoice text (may contain one or more invoices) and return:\n",
      "  1) rationale — a concise, human-readable explanation that maps each detected field to the exact source text snippets that produced it and describes any inference or validation performed; and\n",
      "  2) extracted — a normalized dictionary (or list of dictionaries if multiple invoices are detected) of canonical invoice fields usable by downstream systems.\n",
      "\n",
      "Follow these rules exactly when producing outputs.\n",
      "\n",
      "Output format\n",
      "- Return two top-level outputs in plain text, labeled exactly as:\n",
      "  Rationale: <one-paragraph-or-multi-line explanation>\n",
      "  Extracted: <a JSON-like dictionary or a JSON array of dictionaries>\n",
      "- The Extracted value must be valid JSON (object or array of objects). Each invoice is represented as one object (map).\n",
      "- The rationale is a human-readable string; keep it succinct (a few lines per invoice) but include provenance and notes for any inference/ambiguity.\n",
      "\n",
      "Field naming and normalization\n",
      "- Use uppercase keys for fields (e.g., INVOICE_NUMBER, ISSUE_DATE, PAY_BY, TOTAL, SUBTOTAL, TAX, CURRENCY_SYMBOL, BANK_NAME, BANK_ACCOUNT_NUMBER, ISSUED_TO_NAME, SELLER, ITEMS or ITEM_1_DESCRIPTION, ITEM_1_QUANTITY, ITEM_1_UNIT_PRICE, ITEM_1_LINE_TOTAL).\n",
      "- Prefer per-line-item keys when rows are clearly parsed (ITEM_1_DESCRIPTION, ITEM_1_QUANTITY, ITEM_1_UNIT_PRICE, ITEM_1_LINE_TOTAL, ITEM_2_..., etc.). If the layout prevents reliable row splitting, provide a single ITEMS string listing items separated by newlines or semicolons.\n",
      "- For monetary values, preserve the original string as shown (e.g., \"$1,250.00\") but also produce a normalized numeric string without currency symbols and without thousands separators if parseable using the suffix _NORMALIZED (e.g., TOTAL: \"$1,250.00\", TOTAL_NORMALIZED: \"1250.00\"). If currency is consistent across invoice, include CURRENCY_SYMBOL (e.g., \"$\") or CURRENCY_CODE (if inferrable).\n",
      "- For dates, if parsable, include both the original string and an ISO-8601 normalized form under a _NORMALIZED key (e.g., ISSUE_DATE: \"April 11, 2023\", ISSUE_DATE_NORMALIZED: \"2023-04-11\"). If unparseable, leave only the original string.\n",
      "- For phone numbers, emails, websites, and bank account numbers preserve the raw snippet and also provide a cleaned form where useful (digits-only for phones and account numbers) under a _NORMALIZED key.\n",
      "- Addresses and party names should be captured as the raw text blocks (ISSUED_TO_NAME, ISSUED_TO_ADDRESS, SELLER, SELLER_ADDRESS).\n",
      "\n",
      "Provenance and rationale\n",
      "- For every field you include in Extracted, list in Rationale the source text snippet(s) that justify it (quote the snippet and, if possible, indicate the approximate line or surrounding text). Example: INVOICE_NUMBER: \"INV-01234\" (found in line \"Invoice Number: INV-01234\").\n",
      "- If you inferred or computed a value, explain how in one short sentence (e.g., \"UNIT_PRICE inferred as $100 because five repeated '100' values and each line total is $200 for quantity 2\").\n",
      "- For numeric consistency checks, mention any validations or conflicts (e.g., \"SUBTOTAL + TAX != TOTAL; reported TOTAL retained, TAX flagged as inconsistent\").\n",
      "- For uncertain or low-confidence fields, include the field but mark it with \"(low confidence)\" in the rationale and, optionally, omit the normalized variant. If a field is too ambiguous to return, omit it and note in the rationale that it was not found/confident.\n",
      "\n",
      "Line-item parsing rules\n",
      "- Detect contiguous rows that look like line items. For each item, populate description, quantity, unit price, and line total when available.\n",
      "- If quantity or unit price is missing but can be reliably inferred from other item rows or totals, include the inferred value and explain the inference in the rationale.\n",
      "- If multiple plausible column orders exist, prefer the mapping that yields arithmetic consistency (quantity * unit price ≈ line total) across most rows.\n",
      "- Index items sequentially starting from 1 (ITEM_1_..., ITEM_2_..., ...). Also include an ITEMS concatenated string if helpful.\n",
      "\n",
      "Multiple invoices\n",
      "- If multiple distinct invoices are detected in the input, return Extracted as a JSON array of invoice objects in the order they appear. Rationale should describe detection boundaries and brief provenance for each invoice separately.\n",
      "\n",
      "Robustness, format noise, and OCR issues\n",
      "- Handle common OCR noise (missing punctuation, extra spaces, split tokens) by matching keywords case-insensitively and tolerating small OCR errors.\n",
      "- Prefer exact snippets for provenance even if noisy; include the raw snippet in the rationale.\n",
      "- When numeric tokens appear multiple times and may be ambiguous (e.g., many standalone \"100\" tokens), use positional context and consistency checks to decide provenance and document the decision.\n",
      "\n",
      "Required fields and optional behavior\n",
      "- Attempt to extract these canonical fields when present: INVOICE_NUMBER, ISSUE_DATE, PAY_BY or DUE_DATE, SELLER, SELLER_ADDRESS, ISSUED_TO_NAME, ISSUED_TO_ADDRESS, EMAIL, PHONE, WEBSITE, ITEMS or ITEM_n_*, SUBTOTAL, TAX (or TAX_RATE and TAX_AMOUNT), TOTAL, AMOUNT_DUE, CURRENCY_SYMBOL, BANK_NAME, BANK_ACCOUNT_NAME, BANK_ACCOUNT_NUMBER, INVOICE_TITLE, TERMS.\n",
      "- If a field cannot be found/confidently inferred, it may be omitted from the extracted object but must be mentioned in the rationale as \"not found\" or \"ambiguous\".\n",
      "\n",
      "Confidence and explainability\n",
      "- For each invoice, provide a short summary line in the rationale with an overall confidence estimate (HIGH / MEDIUM / LOW) and a one-sentence reason (e.g., \"MEDIUM — many numeric matches but invoice totals inconsistent\").\n",
      "- For per-field confidence, note \"(low confidence)\" or \"(inferred)\" inline in the rationale next to the field provenance.\n",
      "\n",
      "Examples of acceptable outputs (structure)\n",
      "Rationale: INVOICE_NUMBER: \"INV-01234\" (found in \"Invoice Number: INV-01234\"). ISSUE_DATE: \"April 11, 2023\" (found in \"Date: April 11, 2023\"). ITEMS: 3 rows detected by matching patterns \"...\". SUBTOTAL/TAX/TOTAL validated: SUBTOTAL + TAX = TOTAL (consistent). Overall confidence: HIGH.\n",
      "\n",
      "Extracted: {\"INVOICE_NUMBER\":\"INV-01234\", \"ISSUE_DATE\":\"April 11, 2023\", \"ISSUE_DATE_NORMALIZED\":\"2023-04-11\", \"ITEM_1_DESCRIPTION\":\"Service A\", \"ITEM_1_QUANTITY\":\"1\", \"ITEM_1_UNIT_PRICE\":\"$5,000\", \"ITEM_1_LINE_TOTAL\":\"$5,000\", \"SUBTOTAL\":\"$6,250\", \"TAX\":\"$625\", \"TOTAL\":\"$6,875\", \"CURRENCY_SYMBOL\":\"$\"}\n",
      "\n",
      "Final notes\n",
      "- Keep the rationale concise but informative — provenance snippets, inference statements, and confidence notes are required.\n",
      "- Ensure Extracted is valid JSON and follows the normalization rules above.\n",
      "- Do not throw errors on malformed input; instead return partial extractions and a rationale explaining missing/ambiguous fields.\n",
      "\n",
      "You should now process the provided invoice text and produce the two outputs (Rationale and Extracted) following the rules above.\n",
      "\n",
      "2025/09/16 12:58:53 INFO dspy.teleprompt.mipro_optimizer_v2: 2: You are an invoice-extraction engine. Given a single raw invoice text (usually OCR output, noisy and variable), return a single JSON object with two top-level keys:\n",
      "- \"rationale\": a short human-readable string explaining how you found each major value, what heuristics/keywords were used, and any inferences, conflicts, or low-confidence values.\n",
      "- \"extracted\": a dictionary mapping UPPERCASE field keys to values (strings, numbers, lists or nested objects). Use the canonical keys described below. If a field is not present or cannot be determined, set its value to null. Where you infer or compute a value, include a companion boolean key with suffix \"_INFERRED\" set to true and include a companion numeric key with suffix \"_CONFIDENCE\" (0.0–1.0). For line items include a \"confidence\" value per item.\n",
      "\n",
      "Normalization rules (apply whenever possible):\n",
      "- Dates: normalize to ISO 8601 (YYYY-MM-DD) for the main date field (e.g., ISSUE_DATE). Also include the original raw text as ISSUE_DATE_RAW if the raw form differs. If a date is parseable only ambiguously, choose the most likely interpretation and set ISSUE_DATE_CONFIDENCE to <1.0 and explain in rationale.\n",
      "- Currency/amounts: normalize monetary amounts to a consistent string with currency symbol or code and two decimals, e.g., \"$1000.00\" or \"EUR 1000.00\". Also set CURRENCY or CURRENCY_SYMBOL if determinable.\n",
      "- Numbers: quantities should be integers where possible. Unit prices and totals should be normalized as monetary strings.\n",
      "- Text fields: trim spacing and collapse obvious OCR noise (duplicate punctuation, stray slashes). Preserve capitalization in names but return keys in UPPERCASE.\n",
      "- Line items: return structured items as a list under \"ITEMS\" where each item is an object with keys DESCRIPTION (string), QUANTITY (int or null), UNIT_PRICE (normalized monetary string or null), LINE_TOTAL (normalized monetary string or null), a boolean UNIT_PRICE_INFERRED if computed, and a numeric \"confidence\" (0.0–1.0) for that item.\n",
      "\n",
      "Canonical output keys (preferred; you may include additional keys where useful):\n",
      "INVOICE_NUMBER\n",
      "ISSUE_DATE (ISO 8601) and ISSUE_DATE_RAW (original string)\n",
      "PAY_BY or DUE_DATE (ISO 8601 or null)\n",
      "SELLER (company/sender name)\n",
      "SELLER_ADDRESS\n",
      "ISSUED_TO_NAME (buyer)\n",
      "ISSUED_TO_ADDRESS\n",
      "ISSUED_TO_EMAIL\n",
      "CONTACT_PHONE\n",
      "CURRENCY (e.g., \"USD\" or \"$\")\n",
      "CURRENCY_SYMBOL\n",
      "ITEMS (list of objects as above)\n",
      "SUBTOTAL\n",
      "TAX_AMOUNT\n",
      "TAX_RATE (like \"10%\" or numeric 0.10)\n",
      "TOTAL\n",
      "AMOUNT_DUE\n",
      "BANK_NAME\n",
      "BANK_ACCOUNT_NAME\n",
      "BANK_ACCOUNT_NUMBER\n",
      "IBAN\n",
      "TERMS\n",
      "ANY_OTHER_FOUND_FIELDS (optional)\n",
      "\n",
      "Extraction rules and heuristics to follow:\n",
      "1. Pre-clean: normalize common OCR artifacts (repeated numbers/characters, misplaced dots/commas, stray slashes). Canonicalize currency symbols and percent signs before parsing.\n",
      "2. Use keyword anchors and proximity to group blocks: look for headings like INVOICE, INVOICE NO, BILL TO / ISSUED TO, TOTAL / SUBTOTAL / TAX, BANK / ACCOUNT, PAY BY / DUE.\n",
      "3. Detect invoice numbers, dates, emails, phones, IBANs and account numbers with regexes; prefer tokens labeled by keywords but also accept common unlabeled patterns if unique.\n",
      "4. For line items:\n",
      "   - Detect repeating row patterns or numeric alignments. Extract description tokens left-of-numeric columns.\n",
      "   - If UNIT_PRICE is missing but QUANTITY and LINE_TOTAL are present and numeric, compute UNIT_PRICE = LINE_TOTAL / QUANTITY and set UNIT_PRICE_INFERRED = true and UNIT_PRICE_CONFIDENCE (e.g., 0.8).\n",
      "   - If multiple plausible numeric column assignments exist (ambiguous columns), pick the interpretation with higher internal consistency (e.g., integer qty, price × qty = line_total) and explain choice in rationale.\n",
      "5. For totals/tax:\n",
      "   - Map nearby labeled amounts to SUBTOTAL, TAX_AMOUNT, TOTAL, AMOUNT_DUE using keyword proximity.\n",
      "   - If TAX_RATE is explicitly present (e.g., \"10%\"), record it. If not explicit but computable from TAX_AMOUNT and SUBTOTAL, compute implied TAX_RATE and mark it as inferred.\n",
      "6. Currency inference:\n",
      "   - If a currency symbol appears consistently near amounts, set CURRENCY_SYMBOL and infer CURRENCY. If multiple currency symbols appear, flag ambiguity in rationale and set CURRENCY to null with low confidence keys.\n",
      "7. Validation:\n",
      "   - Sum LINE_TOTALs (where present) and compare to SUBTOTAL or TOTAL. If sums mismatch beyond a small tolerance, include a short note in rationale, set a top-level \"ARITHMETIC_MATCH\": false, and include a brief explanation. If they match, set \"ARITHMETIC_MATCH\": true.\n",
      "8. Confidence and ambiguity:\n",
      "   - For any inferred/computed value, add \"<FIELD>_INFERRED\": true and \"<FIELD>_CONFIDENCE\": number between 0.0 and 1.0. For values taken verbatim from clearly labeled text, set confidence to 0.9–1.0. For ambiguous heuristics set lower confidence.\n",
      "9. Output format:\n",
      "   - Return valid JSON only (no additional commentary). The JSON must be parseable and contain exactly two top-level keys: \"rationale\" (string) and \"extracted\" (object).\n",
      "   - Use UPPERCASE keys inside \"extracted\". Use null for missing values.\n",
      "\n",
      "Rationale content:\n",
      "- Keep it concise (a few sentences up to ~200 words). For each major field (invoice number, issue date, seller, buyer, totals, tax, bank details, and items), say whether the value was: directly read, taken from a labeled line (give the label), inferred/computed (state how), or ambiguous (explain why). Mention any arithmetic mismatches and which values caused the mismatch.\n",
      "\n",
      "Example of output shape (illustrative, not prescriptive):\n",
      "{\n",
      " \"rationale\": \"Found 'INVOICE NO: #612345' => INVOICE_NUMBER taken verbatim. ISSUE_DATE parsed from 'MARCH.06.2024' => normalized to 2024-03-06. Detected 5 line items by repeated rows; unit price was missing but computed as line_total/qty and marked inferred. Sum of line totals = $1000.00 matches TOTAL. Bank details taken from block labeled 'BANK DETAILS'.\",\n",
      " \"extracted\": {\n",
      "   \"INVOICE_NUMBER\": \"#612345\",\n",
      "   \"INVOICE_NUMBER_INFERRED\": false,\n",
      "   \"INVOICE_NUMBER_CONFIDENCE\": 0.98,\n",
      "   \"ISSUE_DATE\": \"2024-03-06\",\n",
      "   \"ISSUE_DATE_RAW\": \"MARCH.06.2024\",\n",
      "   \"ISSUE_DATE_CONFIDENCE\": 0.9,\n",
      "   \"SELLER\": \"Borcelle | Catering Services\",\n",
      "   \"ITEMS\": [\n",
      "     {\"DESCRIPTION\":\"Grilled Chicken\",\"QUANTITY\":2,\"UNIT_PRICE\":\"$100.00\",\"LINE_TOTAL\":\"$200.00\",\"UNIT_PRICE_INFERRED\":true,\"confidence\":0.85},\n",
      "     ...\n",
      "   ],\n",
      "   \"TOTAL\":\"$1000.00\",\n",
      "   \"SUBTOTAL\": null,\n",
      "   \"ARITHMETIC_MATCH\": true,\n",
      "   ...\n",
      " }\n",
      "}\n",
      "\n",
      "Now process the given invoice text input and return the JSON result following the rules above. Be conservative when uncertain but do attempt safe inferences and always document them in the rationale.\n",
      "\n",
      "2025/09/16 12:58:53 INFO dspy.teleprompt.mipro_optimizer_v2: 3: You are the Predict module. Input: a single raw OCR/text string for one invoice. Return two outputs only:\n",
      "\n",
      "1) rationale — a concise human-readable explanation listing:\n",
      "   - which fields were directly detected (high confidence),\n",
      "   - which values were inferred/computed and how (e.g., subtotal = sum of line totals; tax computed at X%),\n",
      "   - any conflicts or ambiguous/stray numbers left unassigned and why,\n",
      "   - any normalization assumptions (date format, currency default).\n",
      "\n",
      "2) extracted — a JSON object containing the canonical invoice fields and light metadata. Follow these rules exactly:\n",
      "   - Use these canonical uppercase keys where present: INVOICE_NUMBER, INVOICE_DATE, BILL_TO_NAME, BILL_TO_ADDRESS, BILL_TO_PHONE, BILL_TO_EMAIL, PAYEE_NAME (or COMPANY), PAYEE_ADDRESS, PAYEE_PHONE, PAYEE_EMAIL, BANK_NAME, ACCOUNT_NUMBER, CURRENCY, TAX_RATE, SUBTOTAL, TAX, TOTAL, ITEMS, UNASSIGNED_NUMBERS, EXTRACTION_META.\n",
      "   - INVOICE_DATE: normalize to ISO 8601 (YYYY-MM-DD) if parseable; if not parseable, include the original string.\n",
      "   - CURRENCY: ISO currency code if detectable (e.g., USD, EUR); if not detectable, use detected currency symbol and state default in rationale.\n",
      "   - ITEMS: an array of objects. Each item object must have: description (string), quantity (integer, if detectable), unit_price (string with currency and two decimals, e.g., \"$1,234.56\"), line_total (string as currency). If a field for an item is missing, omit that key in the item object and note it in the rationale.\n",
      "   - Monetary values (SUBTOTAL, TAX, TOTAL, unit_price, line_total) — format as currency strings with two decimal places and include currency symbol or code.\n",
      "   - UNASSIGNED_NUMBERS: list any numeric tokens (amounts, percentages) present in the text that could not be confidently assigned to a field.\n",
      "   - EXTRACTION_META: an object with:\n",
      "       - computed_fields: list of fields you computed (e.g., [\"SUBTOTAL\",\"TAX\",\"TOTAL\"]) and brief computation notes,\n",
      "       - field_confidences: mapping of key -> one of {\"high\",\"medium\",\"low\"} indicating extraction confidence,\n",
      "       - ambiguities: short list of any unresolved ambiguities.\n",
      "   - Only include fields you can reasonably justify; do not invent values. If you infer or compute a value, include it but mark it in EXTRACTION_META.computed_fields and explain in the rationale.\n",
      "   - Keep the JSON syntactically valid and machine-readable.\n",
      "\n",
      "Output format example (rationale then extracted JSON):\n",
      "rationale: \"<short explanation>\"\n",
      "extracted: { ...JSON as specified... }\n",
      "\n",
      "Be concise and audit-ready. Do not include any additional commentary outside the two outputs.\n",
      "\n",
      "2025/09/16 12:58:53 INFO dspy.teleprompt.mipro_optimizer_v2: 4: You are the invoice-extraction engine for a high-stakes financial workflow (payment processing, accounting reconciliation and legal/ tax compliance). Mistakes can cause payment errors, misreporting, or regulatory problems. Given noisy OCR'd or free-form invoice text, extract a clean, auditable set of key-value fields and a concise human-readable rationale explaining every non-trivial decision. Be conservative: do not invent values. When a value cannot be reliably determined, omit it from the extracted dictionary and explain why in the rationale.\n",
      "\n",
      "Input: a single string (normalized OCR/text). Output: a JSON-like dictionary assigned to \"extracted\" plus a short \"rationale\" string. Return exactly two top-level outputs:\n",
      "- rationale: string (2–6 short sentences) summarizing what was confidently extracted, what was computed/inferred, and any ambiguities/omissions and why.\n",
      "- extracted: a dictionary (JSON-serializable) mapping canonical keys to string values.\n",
      "\n",
      "Required behavior and rules:\n",
      "1. Fields to find (use these canonical key names where applicable):\n",
      "   - INVOICE_TITLE, INVOICE_NUMBER, INVOICE_DATE\n",
      "   - BILL_TO_NAME, BILL_TO_ADDRESS\n",
      "   - PAYEE_NAME / COMPANY (if present), PAYEE_ADDRESS\n",
      "   - EMAIL, PHONE, WEBSITE\n",
      "   - BANK_NAME, BANK_ACCOUNT_NAME, BANK_ACCOUNT_NUMBER, IBAN, BIC (as applicable)\n",
      "   - TAX_RATE, CURRENCY\n",
      "   - SUBTOTAL, TAX, TOTAL, GRAND_TOTAL, DISCOUNT (if present)\n",
      "   - For line items: ITEM_n_DESCRIPTION, ITEM_n_QUANTITY, ITEM_n_UNIT_PRICE, ITEM_n_LINE_TOTAL (n = 1,2,...). Group items consistently so quantities and prices match the corresponding description.\n",
      "   - Any other clear labeled fields (e.g., PAYMENT_TERMS, DUE_DATE) may be included using obvious canonical keys.\n",
      "2. Normalization:\n",
      "   - Dates: if parseable, normalize to ISO 8601 (YYYY-MM-DD). If only a human-friendly date is present and parsing is ambiguous, return the original text but note ambiguity in the rationale.\n",
      "   - Currency & amounts: detect currency symbol or code and set CURRENCY (e.g., \"USD\", \"EUR\"). Normalize amounts to a consistent string with currency symbol and two decimals (e.g., \"$1,234.56\" or \"€123.45\"). Strip accidental OCR thousands separators and parse numeric values before reformatting.\n",
      "   - Phones/emails/websites: return canonical formats (email@domain, +country-xxx-xxx or digits-only for phone if country code unclear). Note formatting fixes in rationale.\n",
      "3. Line-item grouping and arithmetic:\n",
      "   - Detect sequences of description + quantity + unit price + line total. If a line total is missing but quantity and unit price are present and the multiplication is consistent, compute the line total (include the computed value in extracted and state “(computed)” in the rationale).\n",
      "   - If subtotal/tax/total are missing but can be unambiguously computed from the line items (and any stated tax rate), compute them and mark them as computed in the rationale.\n",
      "   - If there are conflicting totals or stray numeric values that cannot be reliably associated, do NOT assign them; mention these conflicts in the rationale.\n",
      "4. Ambiguity, confidence and omissions:\n",
      "   - Never fabricate invoice numbers, dates, amounts, names, or accounts.\n",
      "   - If multiple candidates exist (e.g., several numbers that might be the invoice number), only include the one with the strongest textual cue (label proximity like \"Invoice No\", formatting like \"#1234\", or common prefixes). If none is clearly superior, omit INVOICE_NUMBER and explain.\n",
      "   - For ambiguous/low-confidence fields, you may either omit the key or include it with value null. In both cases explicitly explain the reason in the rationale.\n",
      "5. Traceability: In the rationale include short evidence phrases referencing cues used (labels, regex match, proximity, arithmetic). For computed values, show the arithmetic used (e.g., \"ITEM_2_LINE_TOTAL computed = 5 × $50.00 = $250.00\"). Keep the rationale concise and audit-friendly.\n",
      "6. No hallucinations: If a field cannot be inferred or is missing, do not guess. State \"not found\" or the reason in the rationale.\n",
      "7. Output format examples (strict structure):\n",
      "   - rationale: \"Detected invoice date (16 June 2025) from line starting 'Invoice16 June 2025'. Extracted invoice number '12345' from 'Invoice No. 12345'. Parsed 4 line items by matching quantities (30x, 5x, 1x, 1x) to unit prices. Computed SUBTOTAL $4,200.00 and TAX $840.00 (20%) and TOTAL $5,040.00. Ignored ambiguous standalone amounts $3360.00 and $1000.00 due to unclear placement.\"\n",
      "   - extracted: { \"INVOICE_DATE\": \"2025-06-16\", \"INVOICE_NUMBER\": \"12345\", \"BILL_TO_NAME\": \"Marceline Anderson\", \"BILL_TO_PHONE\": \"+123-456-7890\", \"COMPANY\": \"Studio Shodwe\", \"PAYEE_NAME\": \"Samira Hadid\", \"PAYEE_ADDRESS\": \"123 Anywhere St, Any City, ST 12345\", \"BANK_NAME\": \"Really Great Bank\", \"BANK_ACCOUNT_NUMBER\": \"0123 4567 8901\", \"TAX_RATE\": \"20%\", \"CURRENCY\": \"USD\", \"ITEM_1_DESCRIPTION\": \"Social Media Pack Design\", \"ITEM_1_QUANTITY\": \"30\", \"ITEM_1_UNIT_PRICE\": \"$20.00\", \"ITEM_1_LINE_TOTAL\": \"$600.00\", ..., \"SUBTOTAL\": \"$4,200.00\", \"TAX\": \"$840.00\", \"TOTAL\": \"$5,040.00\" }\n",
      "8. Be robust to noise: handle OCR artifacts (missing spaces, merged tokens like \"Invoice16June2025\"), common label variants (\"Invoice No.\", \"Invoice #\", \"No\", \"InvoiceNumber\"), and inconsistent currency formatting.\n",
      "9. Keep responses concise: rationale should be short (2–6 sentences). The extracted dictionary should include only fields you are confident in or have explicitly computed; avoid cluttering with many speculative keys.\n",
      "10. Final check: before returning, verify that numeric arithmetic shown in the rationale matches values returned in extracted.\n",
      "\n",
      "High-stakes reminder: accuracy, conservative omissions, and a clear rationale for auditability are mandatory.\n",
      "\n",
      "Now process the input text and return:\n",
      "- rationale: \"<short audit-friendly explanation>\"\n",
      "- extracted: { ... } (canonical key-value JSON)\n",
      "\n",
      "2025/09/16 12:58:53 INFO dspy.teleprompt.mipro_optimizer_v2: 5: You are building the Predict(text) -> (rationale, extracted) module: given one raw invoice text string (OCR/plain text, possibly noisy), return:\n",
      " 1) rationale — a clear human‑readable explanation of what you found, why, and any uncertainties, and\n",
      " 2) extracted — a JSON/dictionary of normalized invoice fields with provenance/confidence and any inferred/computed values explicitly marked.\n",
      "\n",
      "Follow this exact procedure and output requirements.\n",
      "\n",
      "A. Overall rules and risk management\n",
      "- Do not hallucinate. Only return values that can be supported by text in the input. If a field cannot be determined reliably, return null or an explicit \"not found\" and explain why in the rationale.\n",
      "- Prefer conservative assignments. If numeric/layout mapping is ambiguous, preserve raw strings and mark the mapping ambiguous instead of forcing an uncertain assignment.\n",
      "- When you compute/infer a value (e.g., subtotal, tax, grand total computed from line items), mark it as \"inferred\" or \"computed\", list the source values used and the computation, and only compute when the underlying mapping is sufficiently reliable (see section D).\n",
      "- Normalize formats where possible but preserve the original text. For dates, use ISO 8601 normalized_date (YYYY-MM-DD) when parseable and include original_text. For currency, detect symbol and map to ISO 4217 currency code (e.g., USD). For amounts also include a numeric value (float) normalized_amount when parseable.\n",
      "- Provide confidence levels: \"high\", \"medium\", or \"low\" for each field and explain the provenance (text span/snippet or the tokens used).\n",
      "\n",
      "B. Processing steps (how to extract)\n",
      "1. Preprocess: clean obvious OCR artifacts (repeated punctuation/headers, stray control chars), but retain original_text snippets for provenance.\n",
      "2. Segment the invoice into logical blocks: header, bill-to/from blocks, line-items area/table, payment/bank block, footer. Use headings and nearby tokens (INVOICE, Bill To, FROM, DESCRIPTION, QTY, TOTAL, Bank, Account, TAX) to guide segmentation.\n",
      "3. Extract structured tokens with deterministic methods first:\n",
      "   - Invoice numbers (patterns like \"Invoice No\", \"Invoice #\", \"Invoice NO.\", alphanumeric tokens near \"Invoice\").\n",
      "   - Dates (various formats). Attempt to parse to ISO; if ambiguous, include original text and list possible parses.\n",
      "   - Emails, phones, IBANs/account numbers (regex + normalization).\n",
      "   - Currency symbols and amount patterns (including thousands separators and parentheses for negatives).\n",
      "4. Use semantic labeling (LM reasoning) for ambiguous text such as \"BILL TO\" vs \"FROM\", names vs company names, and line‑item descriptions vs notes.\n",
      "5. Line-items: attempt to parse table rows. For each detected row, try to extract description, quantity, unit_price, and line_total. Use positional clues and consistent numeric patterns. If columns/rows are inconsistent, return line items with raw_row text plus numeric candidates and mark confidence accordingly.\n",
      "\n",
      "C. Output format (must follow)\n",
      "Return two values in order:\n",
      "1) rationale: single string describing\n",
      "   - which fields were found and their extracted text,\n",
      "   - any ambiguous or conflicting values and why,\n",
      "   - any computed or inferred values and the exact computation,\n",
      "   - any data that was deliberately left unassigned because of low confidence,\n",
      "   - short summary of provenance (e.g., \"Invoice number taken from line: 'Invoice NO. 2000-15'\").\n",
      "\n",
      "2) extracted: a JSON/dictionary with stable normalized keys. Use the following recommended structure and types. Fields may be null if not found.\n",
      "\n",
      "Mandatory/Recommended keys (examples; include additional sensible keys if present in text):\n",
      "\n",
      "- INVOICE_NUMBER: { \"value\": string|null, \"confidence\": \"high|medium|low\", \"provenance\": \"original snippet\" }\n",
      "- INVOICE_DATE: { \"original\": string|null, \"normalized\": \"YYYY-MM-DD\"|null, \"confidence\": ..., \"provenance\": ... }\n",
      "- DATE_ISSUED (alias allowed) similarly structured\n",
      "\n",
      "- FROM_NAME, FROM_COMPANY, FROM_ADDRESS, FROM_EMAIL, FROM_PHONE, FROM_WEBSITE — each as { \"value\": ..., \"confidence\": ..., \"provenance\": ... }\n",
      "\n",
      "- BILL_TO_NAME, BILL_TO_ADDRESS, BILL_TO_EMAIL, BILL_TO_PHONE — same structure.\n",
      "\n",
      "- LINE_ITEMS: array of objects. Each item should be:\n",
      "  {\n",
      "    \"description\": { \"value\": string, \"provenance\": \"...\", \"confidence\": ... },\n",
      "    \"quantity\": { \"value\": number|null, \"raw\": string|null, \"confidence\": ... },\n",
      "    \"unit_price\": { \"original\": string|null, \"normalized_amount\": number|null, \"currency\": \"USD|EUR|...\", \"confidence\": ... },\n",
      "    \"line_total\": { \"original\": string|null, \"normalized_amount\": number|null, \"currency\": \"...\", \"confidence\": ... },\n",
      "    \"raw_row\": string (the original row/fragment),\n",
      "    \"mapping_confidence\": \"high|medium|low\"\n",
      "  }\n",
      "If items cannot be reliably split into structured rows, return LINE_ITEMS as an object with:\n",
      "  {\n",
      "    \"parsed_items\": [], \n",
      "    \"raw_items_text\": \"...\" (concatenated), \n",
      "    \"note\": \"mapping ambiguous — numeric candidates: [ ... ]\"\n",
      "  }\n",
      "\n",
      "- SUBTOTAL, TAX, TAX_RATE, TOTAL (GRAND_TOTAL or TOTAL_AMOUNT): for each:\n",
      "  { \"original\": string|null, \"normalized_amount\": number|null, \"currency\": \"...\", \"confidence\":..., \"provenance\": ..., \"inferred\": true|false }\n",
      "- CURRENCY: detected currency code (string) with confidence.\n",
      "\n",
      "- PAYMENT_METHOD, BANK_NAME, ACCOUNT_NUMBER, IBAN: each with value, normalized form (digits only for account numbers where applicable), confidence, provenance.\n",
      "\n",
      "- NOTES, TERMS: string with provenance if present.\n",
      "\n",
      "- RAW_TEXT (optional): keep minimal raw text snippets if needed for later review.\n",
      "\n",
      "- EXTRA_FIELDS: dictionary of other extracted items (e.g., finance manager).\n",
      "\n",
      "D. Rules for computation and inference\n",
      "- Only compute subtotal/tax/total when either:\n",
      "  a) every line item has a parsed quantity and unit_price and the sum of parsed line_totals equals the given total within a small tolerance (e.g., 0.5%), or\n",
      "  b) the document explicitly shows arithmetic structure that makes the computation unambiguous.\n",
      "- If you compute totals, include them with \"inferred\": true and add a short calculation log in rationale (e.g., \"Computed SUBTOTAL = sum of parsed line_totals = 4200.00\").\n",
      "- If multiple numeric candidates exist for the same semantic slot (e.g., several standalone numbers that could be totals), do not guess. List the candidates in the rationale and set field value to null with provenance describing the candidates.\n",
      "- When normalizing amounts, parse and include numeric value (float) and currency code; if currency cannot be detected, leave currency null but include currency symbol in provenance.\n",
      "\n",
      "E. Confidence rules (suggested heuristics)\n",
      "- High: directly preceded by explicit label and unambiguous format (e.g., \"Invoice No. 12345\", email matched regex).\n",
      "- Medium: inferred by proximity/layout or clear pattern but not explicit label.\n",
      "- Low: weak heuristics, multiple conflicting matches, or heavy OCR noise.\n",
      "\n",
      "F. Rationale content requirements (must include)\n",
      "- A bullet/list style summary of extracted fields and their confidence.\n",
      "- Any ambiguous numeric mappings and how many numeric candidates exist.\n",
      "- Any computed values, with the computation and source items shown.\n",
      "- A short note when fields are missing and why.\n",
      "\n",
      "G. Examples / output blueprint (short)\n",
      "rationale: \"Detected INVOICE_NUMBER '2000-15' (from 'Invoice NO. 2000-15'; confidence high). Date '15/08/2028' parsed to 2028-08-15. Line items: could not reliably map unit prices to descriptions — preserved raw items and numeric candidates. Total $2,100.00 appears in footer (confidence high). Payment: Bank 'Fauget', Account '123-456-7890' (confidence high).\"\n",
      "\n",
      "extracted:\n",
      "{\n",
      "  \"INVOICE_NUMBER\": {\"value\":\"2000-15\",\"confidence\":\"high\",\"provenance\":\"Invoice NO. 2000-15\"},\n",
      "  \"INVOICE_DATE\": {\"original\":\"15/08/2028\",\"normalized\":\"2028-08-15\",\"confidence\":\"high\",\"provenance\":\"Date: 15/08/2028\"},\n",
      "  \"FROM_NAME\":{\"value\":\"Wardiere Inc.\",\"confidence\":\"high\",...},\n",
      "  \"BILL_TO_NAME\":{...},\n",
      "  \"LINE_ITEMS\": {\n",
      "     \"parsed_items\": [],\n",
      "     \"raw_items_text\":\"Graphic design consultation; Logo design; Social media templates; Revision ...\",\n",
      "     \"note\":\"Mapping between descriptions and numeric values ambiguous; numeric candidates: [$100.00, $700.00, $600.00, $300.00, $200.00, ...]\"\n",
      "  },\n",
      "  \"TOTAL_AMOUNT\":{\"original\":\"$2,100.00\",\"normalized_amount\":2100.00,\"currency\":\"USD\",\"confidence\":\"high\",\"provenance\":\"footer 'Total amount $2,100.00'\",\"inferred\":false}\n",
      "}\n",
      "\n",
      "H. Final output constraints\n",
      "- Return exactly two top-level items in this order: rationale (string) then extracted (JSON/dict).\n",
      "- Keep JSON keys stable and predictable as above.\n",
      "- Keep rationale concise but sufficient for a human reviewer to triage uncertain fields.\n",
      "\n",
      "Use the dataset characteristics and examples provided (variable layouts, OCR noise, ambiguous numeric tokens) when making tradeoffs between automatic parsing and conservative reporting.\n",
      "\n",
      "Now process the input invoice text and return (rationale, extracted) following the rules above.\n",
      "\n",
      "2025/09/16 12:58:53 INFO dspy.teleprompt.mipro_optimizer_v2: \n",
      "\n",
      "/Users/hammermt/Codes/ai-agents-udemy-course/.venv/lib/python3.13/site-packages/tqdm/auto.py:21: TqdmWarning: IProgress not found. Please update jupyter and ipywidgets. See https://ipywidgets.readthedocs.io/en/stable/user_install.html\n",
      "  from .autonotebook import tqdm as notebook_tqdm\n",
      "2025/09/16 12:58:53 INFO dspy.teleprompt.mipro_optimizer_v2: ==> STEP 3: FINDING OPTIMAL PROMPT PARAMETERS <==\n",
      "2025/09/16 12:58:53 INFO dspy.teleprompt.mipro_optimizer_v2: We will evaluate the program over a series of trials with different combinations of instructions and few-shot examples to find the optimal combination using Bayesian Optimization.\n",
      "\n",
      "2025/09/16 12:58:53 INFO dspy.teleprompt.mipro_optimizer_v2: == Trial 1 / 18 - Full Evaluation of Default Program ==\n"
     ]
    },
    {
     "name": "stdout",
     "output_type": "stream",
     "text": [
      "Average Metric: 8.73 / 24 (36.4%): 100%|██████████| 24/24 [01:31<00:00,  3.81s/it]"
     ]
    },
    {
     "name": "stderr",
     "output_type": "stream",
     "text": [
      "2025/09/16 13:00:24 INFO dspy.evaluate.evaluate: Average Metric: 8.72515163285287 / 24 (36.4%)\n",
      "2025/09/16 13:00:24 INFO dspy.teleprompt.mipro_optimizer_v2: Default program score: 36.35\n",
      "\n",
      "/Users/hammermt/Codes/ai-agents-udemy-course/.venv/lib/python3.13/site-packages/optuna/_experimental.py:32: ExperimentalWarning: Argument ``multivariate`` is an experimental feature. The interface can change in the future.\n",
      "  warnings.warn(\n",
      "2025/09/16 13:00:24 INFO dspy.teleprompt.mipro_optimizer_v2: ===== Trial 2 / 18 =====\n"
     ]
    },
    {
     "name": "stdout",
     "output_type": "stream",
     "text": [
      "\n",
      "Average Metric: 6.60 / 24 (27.5%): 100%|██████████| 24/24 [03:29<00:00,  8.73s/it]"
     ]
    },
    {
     "name": "stderr",
     "output_type": "stream",
     "text": [
      "2025/09/16 13:03:54 INFO dspy.evaluate.evaluate: Average Metric: 6.600238813474108 / 24 (27.5%)\n",
      "2025/09/16 13:03:54 INFO dspy.teleprompt.mipro_optimizer_v2: Score: 27.5 with parameters ['Predictor 0: Instruction 1', 'Predictor 0: Few-Shot Set 6'].\n",
      "2025/09/16 13:03:54 INFO dspy.teleprompt.mipro_optimizer_v2: Scores so far: [36.35, 27.5]\n",
      "2025/09/16 13:03:54 INFO dspy.teleprompt.mipro_optimizer_v2: Best score so far: 36.35\n",
      "2025/09/16 13:03:54 INFO dspy.teleprompt.mipro_optimizer_v2: ========================\n",
      "\n",
      "\n",
      "2025/09/16 13:03:54 INFO dspy.teleprompt.mipro_optimizer_v2: ===== Trial 3 / 18 =====\n"
     ]
    },
    {
     "name": "stdout",
     "output_type": "stream",
     "text": [
      "\n",
      "Average Metric: 5.07 / 24 (21.1%): 100%|██████████| 24/24 [02:13<00:00,  5.58s/it]"
     ]
    },
    {
     "name": "stderr",
     "output_type": "stream",
     "text": [
      "2025/09/16 13:06:08 INFO dspy.evaluate.evaluate: Average Metric: 5.06882803728779 / 24 (21.1%)\n",
      "2025/09/16 13:06:08 INFO dspy.teleprompt.mipro_optimizer_v2: Score: 21.12 with parameters ['Predictor 0: Instruction 4', 'Predictor 0: Few-Shot Set 2'].\n",
      "2025/09/16 13:06:08 INFO dspy.teleprompt.mipro_optimizer_v2: Scores so far: [36.35, 27.5, 21.12]\n",
      "2025/09/16 13:06:08 INFO dspy.teleprompt.mipro_optimizer_v2: Best score so far: 36.35\n",
      "2025/09/16 13:06:08 INFO dspy.teleprompt.mipro_optimizer_v2: ========================\n",
      "\n",
      "\n",
      "2025/09/16 13:06:08 INFO dspy.teleprompt.mipro_optimizer_v2: ===== Trial 4 / 18 =====\n"
     ]
    },
    {
     "name": "stdout",
     "output_type": "stream",
     "text": [
      "\n",
      "Average Metric: 9.11 / 24 (38.0%): 100%|██████████| 24/24 [01:56<00:00,  4.84s/it]"
     ]
    },
    {
     "name": "stderr",
     "output_type": "stream",
     "text": [
      "2025/09/16 13:08:04 INFO dspy.evaluate.evaluate: Average Metric: 9.112777938435833 / 24 (38.0%)\n",
      "2025/09/16 13:08:04 INFO dspy.teleprompt.mipro_optimizer_v2: \u001b[92mBest full score so far!\u001b[0m Score: 37.97\n",
      "2025/09/16 13:08:04 INFO dspy.teleprompt.mipro_optimizer_v2: Score: 37.97 with parameters ['Predictor 0: Instruction 0', 'Predictor 0: Few-Shot Set 6'].\n",
      "2025/09/16 13:08:04 INFO dspy.teleprompt.mipro_optimizer_v2: Scores so far: [36.35, 27.5, 21.12, 37.97]\n",
      "2025/09/16 13:08:04 INFO dspy.teleprompt.mipro_optimizer_v2: Best score so far: 37.97\n",
      "2025/09/16 13:08:04 INFO dspy.teleprompt.mipro_optimizer_v2: ========================\n",
      "\n",
      "\n",
      "2025/09/16 13:08:04 INFO dspy.teleprompt.mipro_optimizer_v2: ===== Trial 5 / 18 =====\n"
     ]
    },
    {
     "name": "stdout",
     "output_type": "stream",
     "text": [
      "\n",
      "Average Metric: 3.71 / 24 (15.5%): 100%|██████████| 24/24 [03:54<00:00,  9.76s/it]"
     ]
    },
    {
     "name": "stderr",
     "output_type": "stream",
     "text": [
      "2025/09/16 13:11:58 INFO dspy.evaluate.evaluate: Average Metric: 3.712158648884655 / 24 (15.5%)\n",
      "2025/09/16 13:11:58 INFO dspy.teleprompt.mipro_optimizer_v2: Score: 15.47 with parameters ['Predictor 0: Instruction 2', 'Predictor 0: Few-Shot Set 4'].\n",
      "2025/09/16 13:11:58 INFO dspy.teleprompt.mipro_optimizer_v2: Scores so far: [36.35, 27.5, 21.12, 37.97, 15.47]\n",
      "2025/09/16 13:11:58 INFO dspy.teleprompt.mipro_optimizer_v2: Best score so far: 37.97\n",
      "2025/09/16 13:11:58 INFO dspy.teleprompt.mipro_optimizer_v2: ========================\n",
      "\n",
      "\n",
      "2025/09/16 13:11:58 INFO dspy.teleprompt.mipro_optimizer_v2: ===== Trial 6 / 18 =====\n"
     ]
    },
    {
     "name": "stdout",
     "output_type": "stream",
     "text": [
      "\n",
      "Average Metric: 4.80 / 24 (20.0%): 100%|██████████| 24/24 [03:37<00:00,  9.04s/it]"
     ]
    },
    {
     "name": "stderr",
     "output_type": "stream",
     "text": [
      "2025/09/16 13:15:36 INFO dspy.evaluate.evaluate: Average Metric: 4.801246848266972 / 24 (20.0%)\n",
      "2025/09/16 13:15:36 INFO dspy.teleprompt.mipro_optimizer_v2: Score: 20.01 with parameters ['Predictor 0: Instruction 3', 'Predictor 0: Few-Shot Set 5'].\n",
      "2025/09/16 13:15:36 INFO dspy.teleprompt.mipro_optimizer_v2: Scores so far: [36.35, 27.5, 21.12, 37.97, 15.47, 20.01]\n",
      "2025/09/16 13:15:36 INFO dspy.teleprompt.mipro_optimizer_v2: Best score so far: 37.97\n",
      "2025/09/16 13:15:36 INFO dspy.teleprompt.mipro_optimizer_v2: ========================\n",
      "\n",
      "\n",
      "2025/09/16 13:15:36 INFO dspy.teleprompt.mipro_optimizer_v2: ===== Trial 7 / 18 =====\n"
     ]
    },
    {
     "name": "stdout",
     "output_type": "stream",
     "text": [
      "\n",
      "Average Metric: 4.17 / 24 (17.4%): 100%|██████████| 24/24 [02:54<00:00,  7.25s/it]"
     ]
    },
    {
     "name": "stderr",
     "output_type": "stream",
     "text": [
      "2025/09/16 13:18:30 INFO dspy.evaluate.evaluate: Average Metric: 4.168006743858137 / 24 (17.4%)\n",
      "2025/09/16 13:18:30 INFO dspy.teleprompt.mipro_optimizer_v2: Score: 17.37 with parameters ['Predictor 0: Instruction 4', 'Predictor 0: Few-Shot Set 6'].\n",
      "2025/09/16 13:18:30 INFO dspy.teleprompt.mipro_optimizer_v2: Scores so far: [36.35, 27.5, 21.12, 37.97, 15.47, 20.01, 17.37]\n",
      "2025/09/16 13:18:30 INFO dspy.teleprompt.mipro_optimizer_v2: Best score so far: 37.97\n",
      "2025/09/16 13:18:30 INFO dspy.teleprompt.mipro_optimizer_v2: ========================\n",
      "\n",
      "\n",
      "2025/09/16 13:18:30 INFO dspy.teleprompt.mipro_optimizer_v2: ===== Trial 8 / 18 =====\n"
     ]
    },
    {
     "name": "stdout",
     "output_type": "stream",
     "text": [
      "\n",
      "Average Metric: 0.00 / 24 (0.0%): 100%|██████████| 24/24 [04:02<00:00, 10.12s/it]"
     ]
    },
    {
     "name": "stderr",
     "output_type": "stream",
     "text": [
      "2025/09/16 13:22:32 INFO dspy.evaluate.evaluate: Average Metric: 0.0 / 24 (0.0%)\n",
      "2025/09/16 13:22:32 INFO dspy.teleprompt.mipro_optimizer_v2: Score: 0.0 with parameters ['Predictor 0: Instruction 5', 'Predictor 0: Few-Shot Set 1'].\n",
      "2025/09/16 13:22:32 INFO dspy.teleprompt.mipro_optimizer_v2: Scores so far: [36.35, 27.5, 21.12, 37.97, 15.47, 20.01, 17.37, 0.0]\n",
      "2025/09/16 13:22:32 INFO dspy.teleprompt.mipro_optimizer_v2: Best score so far: 37.97\n",
      "2025/09/16 13:22:32 INFO dspy.teleprompt.mipro_optimizer_v2: ========================\n",
      "\n",
      "\n",
      "2025/09/16 13:22:32 INFO dspy.teleprompt.mipro_optimizer_v2: ===== Trial 9 / 18 =====\n"
     ]
    },
    {
     "name": "stdout",
     "output_type": "stream",
     "text": [
      "\n",
      "Average Metric: 4.66 / 24 (19.4%): 100%|██████████| 24/24 [03:24<00:00,  8.51s/it]"
     ]
    },
    {
     "name": "stderr",
     "output_type": "stream",
     "text": [
      "2025/09/16 13:25:57 INFO dspy.evaluate.evaluate: Average Metric: 4.66480279696224 / 24 (19.4%)\n",
      "2025/09/16 13:25:57 INFO dspy.teleprompt.mipro_optimizer_v2: Score: 19.44 with parameters ['Predictor 0: Instruction 3', 'Predictor 0: Few-Shot Set 3'].\n",
      "2025/09/16 13:25:57 INFO dspy.teleprompt.mipro_optimizer_v2: Scores so far: [36.35, 27.5, 21.12, 37.97, 15.47, 20.01, 17.37, 0.0, 19.44]\n",
      "2025/09/16 13:25:57 INFO dspy.teleprompt.mipro_optimizer_v2: Best score so far: 37.97\n",
      "2025/09/16 13:25:57 INFO dspy.teleprompt.mipro_optimizer_v2: ========================\n",
      "\n",
      "\n",
      "2025/09/16 13:25:57 INFO dspy.teleprompt.mipro_optimizer_v2: ===== Trial 10 / 18 =====\n"
     ]
    },
    {
     "name": "stdout",
     "output_type": "stream",
     "text": [
      "\n",
      "Average Metric: 4.88 / 24 (20.3%): 100%|██████████| 24/24 [03:12<00:00,  8.02s/it]"
     ]
    },
    {
     "name": "stderr",
     "output_type": "stream",
     "text": [
      "2025/09/16 13:29:09 INFO dspy.evaluate.evaluate: Average Metric: 4.881148950808393 / 24 (20.3%)\n",
      "2025/09/16 13:29:09 INFO dspy.teleprompt.mipro_optimizer_v2: Score: 20.34 with parameters ['Predictor 0: Instruction 3', 'Predictor 0: Few-Shot Set 10'].\n",
      "2025/09/16 13:29:09 INFO dspy.teleprompt.mipro_optimizer_v2: Scores so far: [36.35, 27.5, 21.12, 37.97, 15.47, 20.01, 17.37, 0.0, 19.44, 20.34]\n",
      "2025/09/16 13:29:09 INFO dspy.teleprompt.mipro_optimizer_v2: Best score so far: 37.97\n",
      "2025/09/16 13:29:09 INFO dspy.teleprompt.mipro_optimizer_v2: =========================\n",
      "\n",
      "\n",
      "2025/09/16 13:29:09 INFO dspy.teleprompt.mipro_optimizer_v2: ===== Trial 11 / 18 =====\n"
     ]
    },
    {
     "name": "stdout",
     "output_type": "stream",
     "text": [
      "\n",
      "Average Metric: 6.89 / 24 (28.7%): 100%|██████████| 24/24 [02:00<00:00,  5.04s/it]"
     ]
    },
    {
     "name": "stderr",
     "output_type": "stream",
     "text": [
      "2025/09/16 13:31:10 INFO dspy.evaluate.evaluate: Average Metric: 6.892343982127264 / 24 (28.7%)\n",
      "2025/09/16 13:31:10 INFO dspy.teleprompt.mipro_optimizer_v2: Score: 28.72 with parameters ['Predictor 0: Instruction 0', 'Predictor 0: Few-Shot Set 9'].\n",
      "2025/09/16 13:31:10 INFO dspy.teleprompt.mipro_optimizer_v2: Scores so far: [36.35, 27.5, 21.12, 37.97, 15.47, 20.01, 17.37, 0.0, 19.44, 20.34, 28.72]\n",
      "2025/09/16 13:31:10 INFO dspy.teleprompt.mipro_optimizer_v2: Best score so far: 37.97\n",
      "2025/09/16 13:31:10 INFO dspy.teleprompt.mipro_optimizer_v2: =========================\n",
      "\n",
      "\n",
      "2025/09/16 13:31:10 INFO dspy.teleprompt.mipro_optimizer_v2: ===== Trial 12 / 18 =====\n"
     ]
    },
    {
     "name": "stdout",
     "output_type": "stream",
     "text": [
      "\n",
      "Average Metric: 8.73 / 24 (36.4%): 100%|██████████| 24/24 [00:00<00:00, 4450.98it/s]"
     ]
    },
    {
     "name": "stderr",
     "output_type": "stream",
     "text": [
      "2025/09/16 13:31:10 INFO dspy.evaluate.evaluate: Average Metric: 8.72515163285287 / 24 (36.4%)\n",
      "2025/09/16 13:31:10 INFO dspy.teleprompt.mipro_optimizer_v2: Score: 36.35 with parameters ['Predictor 0: Instruction 0', 'Predictor 0: Few-Shot Set 0'].\n",
      "2025/09/16 13:31:10 INFO dspy.teleprompt.mipro_optimizer_v2: Scores so far: [36.35, 27.5, 21.12, 37.97, 15.47, 20.01, 17.37, 0.0, 19.44, 20.34, 28.72, 36.35]\n",
      "2025/09/16 13:31:10 INFO dspy.teleprompt.mipro_optimizer_v2: Best score so far: 37.97\n",
      "2025/09/16 13:31:10 INFO dspy.teleprompt.mipro_optimizer_v2: =========================\n",
      "\n",
      "\n",
      "2025/09/16 13:31:10 INFO dspy.teleprompt.mipro_optimizer_v2: ===== Trial 13 / 18 =====\n"
     ]
    },
    {
     "name": "stdout",
     "output_type": "stream",
     "text": [
      "\n",
      "Average Metric: 9.11 / 24 (38.0%): 100%|██████████| 24/24 [00:00<00:00, 2106.01it/s]"
     ]
    },
    {
     "name": "stderr",
     "output_type": "stream",
     "text": [
      "2025/09/16 13:31:10 INFO dspy.evaluate.evaluate: Average Metric: 9.112777938435833 / 24 (38.0%)\n",
      "2025/09/16 13:31:10 INFO dspy.teleprompt.mipro_optimizer_v2: Score: 37.97 with parameters ['Predictor 0: Instruction 0', 'Predictor 0: Few-Shot Set 6'].\n",
      "2025/09/16 13:31:10 INFO dspy.teleprompt.mipro_optimizer_v2: Scores so far: [36.35, 27.5, 21.12, 37.97, 15.47, 20.01, 17.37, 0.0, 19.44, 20.34, 28.72, 36.35, 37.97]\n",
      "2025/09/16 13:31:10 INFO dspy.teleprompt.mipro_optimizer_v2: Best score so far: 37.97\n",
      "2025/09/16 13:31:10 INFO dspy.teleprompt.mipro_optimizer_v2: =========================\n",
      "\n",
      "\n",
      "2025/09/16 13:31:10 INFO dspy.teleprompt.mipro_optimizer_v2: ===== Trial 14 / 18 =====\n"
     ]
    },
    {
     "name": "stdout",
     "output_type": "stream",
     "text": [
      "\n",
      "Average Metric: 3.78 / 24 (15.7%): 100%|██████████| 24/24 [04:05<00:00, 10.23s/it]"
     ]
    },
    {
     "name": "stderr",
     "output_type": "stream",
     "text": [
      "2025/09/16 13:35:16 INFO dspy.evaluate.evaluate: Average Metric: 3.7783351194728905 / 24 (15.7%)\n",
      "2025/09/16 13:35:16 INFO dspy.teleprompt.mipro_optimizer_v2: Score: 15.74 with parameters ['Predictor 0: Instruction 2', 'Predictor 0: Few-Shot Set 6'].\n",
      "2025/09/16 13:35:16 INFO dspy.teleprompt.mipro_optimizer_v2: Scores so far: [36.35, 27.5, 21.12, 37.97, 15.47, 20.01, 17.37, 0.0, 19.44, 20.34, 28.72, 36.35, 37.97, 15.74]\n",
      "2025/09/16 13:35:16 INFO dspy.teleprompt.mipro_optimizer_v2: Best score so far: 37.97\n",
      "2025/09/16 13:35:16 INFO dspy.teleprompt.mipro_optimizer_v2: =========================\n",
      "\n",
      "\n",
      "2025/09/16 13:35:16 INFO dspy.teleprompt.mipro_optimizer_v2: ===== Trial 15 / 18 =====\n"
     ]
    },
    {
     "name": "stdout",
     "output_type": "stream",
     "text": [
      "\n",
      "Average Metric: 9.11 / 24 (38.0%): 100%|██████████| 24/24 [00:00<00:00, 3812.43it/s]"
     ]
    },
    {
     "name": "stderr",
     "output_type": "stream",
     "text": [
      "2025/09/16 13:35:16 INFO dspy.evaluate.evaluate: Average Metric: 9.112777938435833 / 24 (38.0%)\n",
      "2025/09/16 13:35:16 INFO dspy.teleprompt.mipro_optimizer_v2: Score: 37.97 with parameters ['Predictor 0: Instruction 0', 'Predictor 0: Few-Shot Set 6'].\n",
      "2025/09/16 13:35:16 INFO dspy.teleprompt.mipro_optimizer_v2: Scores so far: [36.35, 27.5, 21.12, 37.97, 15.47, 20.01, 17.37, 0.0, 19.44, 20.34, 28.72, 36.35, 37.97, 15.74, 37.97]\n",
      "2025/09/16 13:35:16 INFO dspy.teleprompt.mipro_optimizer_v2: Best score so far: 37.97\n",
      "2025/09/16 13:35:16 INFO dspy.teleprompt.mipro_optimizer_v2: =========================\n",
      "\n",
      "\n",
      "2025/09/16 13:35:16 INFO dspy.teleprompt.mipro_optimizer_v2: ===== Trial 16 / 18 =====\n"
     ]
    },
    {
     "name": "stdout",
     "output_type": "stream",
     "text": [
      "\n",
      "Average Metric: 0.00 / 24 (0.0%): 100%|██████████| 24/24 [04:42<00:00, 11.76s/it]"
     ]
    },
    {
     "name": "stderr",
     "output_type": "stream",
     "text": [
      "2025/09/16 13:39:58 INFO dspy.evaluate.evaluate: Average Metric: 0.0 / 24 (0.0%)\n",
      "2025/09/16 13:39:58 INFO dspy.teleprompt.mipro_optimizer_v2: Score: 0.0 with parameters ['Predictor 0: Instruction 5', 'Predictor 0: Few-Shot Set 8'].\n",
      "2025/09/16 13:39:58 INFO dspy.teleprompt.mipro_optimizer_v2: Scores so far: [36.35, 27.5, 21.12, 37.97, 15.47, 20.01, 17.37, 0.0, 19.44, 20.34, 28.72, 36.35, 37.97, 15.74, 37.97, 0.0]\n",
      "2025/09/16 13:39:58 INFO dspy.teleprompt.mipro_optimizer_v2: Best score so far: 37.97\n",
      "2025/09/16 13:39:58 INFO dspy.teleprompt.mipro_optimizer_v2: =========================\n",
      "\n",
      "\n",
      "2025/09/16 13:39:58 INFO dspy.teleprompt.mipro_optimizer_v2: ===== Trial 17 / 18 =====\n"
     ]
    },
    {
     "name": "stdout",
     "output_type": "stream",
     "text": [
      "\n",
      "Average Metric: 9.66 / 24 (40.2%): 100%|██████████| 24/24 [01:41<00:00,  4.24s/it]"
     ]
    },
    {
     "name": "stderr",
     "output_type": "stream",
     "text": [
      "2025/09/16 13:41:40 INFO dspy.evaluate.evaluate: Average Metric: 9.657095463016516 / 24 (40.2%)\n",
      "2025/09/16 13:41:40 INFO dspy.teleprompt.mipro_optimizer_v2: \u001b[92mBest full score so far!\u001b[0m Score: 40.24\n",
      "2025/09/16 13:41:40 INFO dspy.teleprompt.mipro_optimizer_v2: Score: 40.24 with parameters ['Predictor 0: Instruction 0', 'Predictor 0: Few-Shot Set 11'].\n",
      "2025/09/16 13:41:40 INFO dspy.teleprompt.mipro_optimizer_v2: Scores so far: [36.35, 27.5, 21.12, 37.97, 15.47, 20.01, 17.37, 0.0, 19.44, 20.34, 28.72, 36.35, 37.97, 15.74, 37.97, 0.0, 40.24]\n",
      "2025/09/16 13:41:40 INFO dspy.teleprompt.mipro_optimizer_v2: Best score so far: 40.24\n",
      "2025/09/16 13:41:40 INFO dspy.teleprompt.mipro_optimizer_v2: =========================\n",
      "\n",
      "\n",
      "2025/09/16 13:41:40 INFO dspy.teleprompt.mipro_optimizer_v2: ===== Trial 18 / 18 =====\n"
     ]
    },
    {
     "name": "stdout",
     "output_type": "stream",
     "text": [
      "\n",
      "Average Metric: 6.60 / 24 (27.5%): 100%|██████████| 24/24 [01:38<00:00,  4.09s/it]"
     ]
    },
    {
     "name": "stderr",
     "output_type": "stream",
     "text": [
      "2025/09/16 13:43:18 INFO dspy.evaluate.evaluate: Average Metric: 6.599753059118385 / 24 (27.5%)\n",
      "2025/09/16 13:43:18 INFO dspy.teleprompt.mipro_optimizer_v2: Score: 27.5 with parameters ['Predictor 0: Instruction 0', 'Predictor 0: Few-Shot Set 7'].\n",
      "2025/09/16 13:43:18 INFO dspy.teleprompt.mipro_optimizer_v2: Scores so far: [36.35, 27.5, 21.12, 37.97, 15.47, 20.01, 17.37, 0.0, 19.44, 20.34, 28.72, 36.35, 37.97, 15.74, 37.97, 0.0, 40.24, 27.5]\n",
      "2025/09/16 13:43:18 INFO dspy.teleprompt.mipro_optimizer_v2: Best score so far: 40.24\n",
      "2025/09/16 13:43:18 INFO dspy.teleprompt.mipro_optimizer_v2: =========================\n",
      "\n",
      "\n",
      "2025/09/16 13:43:18 INFO dspy.teleprompt.mipro_optimizer_v2: ===== Trial 19 / 18 =====\n"
     ]
    },
    {
     "name": "stdout",
     "output_type": "stream",
     "text": [
      "\n",
      "Average Metric: 2.87 / 24 (12.0%): 100%|██████████| 24/24 [04:02<00:00, 10.09s/it]"
     ]
    },
    {
     "name": "stderr",
     "output_type": "stream",
     "text": [
      "2025/09/16 13:47:20 INFO dspy.evaluate.evaluate: Average Metric: 2.8722477857539777 / 24 (12.0%)\n",
      "2025/09/16 13:47:20 INFO dspy.teleprompt.mipro_optimizer_v2: Score: 11.97 with parameters ['Predictor 0: Instruction 2', 'Predictor 0: Few-Shot Set 11'].\n",
      "2025/09/16 13:47:20 INFO dspy.teleprompt.mipro_optimizer_v2: Scores so far: [36.35, 27.5, 21.12, 37.97, 15.47, 20.01, 17.37, 0.0, 19.44, 20.34, 28.72, 36.35, 37.97, 15.74, 37.97, 0.0, 40.24, 27.5, 11.97]\n",
      "2025/09/16 13:47:20 INFO dspy.teleprompt.mipro_optimizer_v2: Best score so far: 40.24\n",
      "2025/09/16 13:47:20 INFO dspy.teleprompt.mipro_optimizer_v2: =========================\n",
      "\n",
      "\n",
      "2025/09/16 13:47:20 INFO dspy.teleprompt.mipro_optimizer_v2: Returning best identified program with score 40.24!\n"
     ]
    },
    {
     "name": "stdout",
     "output_type": "stream",
     "text": [
      "\n"
     ]
    },
    {
     "name": "stderr",
     "output_type": "stream",
     "text": [
      "2025/09/16 13:48:08 INFO dspy.evaluate.evaluate: Average Metric: 2.9943223443223443 / 10 (29.9%)\n"
     ]
    },
    {
     "name": "stdout",
     "output_type": "stream",
     "text": [
      "Optimized field accuracy on valid: EvaluationResult(score=29.94, results=<list of 10 results>)\n"
     ]
    }
   ],
   "source": [
    "# Optimize with MiPROv2 (recommended in tutorial)\n",
    "from dspy import MIPROv2\n",
    "\n",
    "mipro = MIPROv2(metric=field_accuracy_metric, auto=\"medium\")\n",
    "\n",
    "\n",
    "optimized = mipro.compile(\n",
    "    extractor,\n",
    "    trainset=train_examples,\n",
    "    max_bootstrapped_demos=4,\n",
    "    minibatch=False\n",
    ")\n",
    "\n",
    "# Standard usage: evaluate the optimized module directly\n",
    "opt_score = evaluate(optimized)\n",
    "print(\"Optimized field accuracy on valid:\", opt_score)\n"
   ]
  },
  {
   "cell_type": "code",
   "execution_count": 42,
   "id": "aca7f647",
   "metadata": {},
   "outputs": [
    {
     "name": "stderr",
     "output_type": "stream",
     "text": [
      "2025/09/16 13:54:44 INFO dspy.evaluate.evaluate: Average Metric: 2.9943223443223443 / 10 (29.9%)\n"
     ]
    },
    {
     "name": "stdout",
     "output_type": "stream",
     "text": [
      "Optimized field accuracy on validation: EvaluationResult(score=29.94, results=<list of 10 results>)\n"
     ]
    }
   ],
   "source": [
    "# Evaluate the optimized model on validation set\n",
    "opt_score = evaluate(optimized)\n",
    "print(\"Optimized field accuracy on validation:\", opt_score)\n"
   ]
  },
  {
   "cell_type": "code",
   "execution_count": 39,
   "id": "10a33459",
   "metadata": {},
   "outputs": [
    {
     "name": "stdout",
     "output_type": "stream",
     "text": [
      "Sample comparison:\n",
      "\n",
      "INPUT TEXT:\n",
      "--------------------------------------------------------------------------------\n",
      "Green Blue Pink Vintage Retro Freelance Invoice\n",
      "\n",
      "NO. DESCRIPTION RATE QTY TOTAL\n",
      "01 Graphic design for website 45 20 900.00\n",
      "02 Graphic design for social content 45 8 360.00\n",
      "03 Account management fee 280 1 280.00\n",
      "04 Two days onsite 640 2 1280.00\n",
      "SUB TOTAL $ 2820.00\n",
      "TAX $ 225.60\n",
      "S&H nil\n",
      "TOTAL $ 3045.60 ...\n",
      "--------------------------------------------------------------------------------\n",
      "\n",
      "BASE MODEL PREDICTION:\n",
      "Rationale: Detected invoice fields parsed from the text:\n",
      "- Invoice title\n",
      "- Invoice number (\"NO. 001\")\n",
      "- Invoice date (\"02.05.2024\")\n",
      "- From (biller) name, company, email, address, code\n",
      "- To (client) name, company, email, address, code\n",
      "- Line items (4 entries) with rate, quantity, totals\n",
      "- Subtotal, Tax, Shipping (S&H), Total\n",
      "- Bank / account details (Account Name, Bank, Acc)\n",
      "- Payment instructions / terms (\"Please pay within 60 days\", cheques payable)\n",
      "- Notes text\n",
      "\n",
      "Extracted fields:\n",
      "INVOICE_TITLE       : Green Blue Pink Vintage Retro Freelance Invoice\n",
      "INVOICE_NUMBER      : 001\n",
      "INVOICE_DATE        : 02.05.2024\n",
      "FROM_NAME           : Reese Miller\n",
      "FROM_COMPANY        : Timmerman Industries\n",
      "FROM_EMAIL          : hello@reallygreatsite.com\n",
      "FROM_ADDRESS        : 123 Anywhere St., Any City, ST 12345\n",
      "FROM_CODE           : 123-456\n",
      "TO_NAME             : Rosa Maria Aguado\n",
      "TO_COMPANY          : Aldenaire & Partners\n",
      "TO_EMAIL            : hello@reallygreatsite.com\n",
      "TO_ADDRESS          : 123 Anywhere St., Any City, ST 12345\n",
      "TO_CODE             : 123-456\n",
      "ITEMS               : 01 Graphic design for website — RATE 45 — QTY 20 — TOTAL 900.00; 02 Graphic design for social content — RATE 45 — QTY 8 — TOTAL 360.00; 03 Account management fee — RATE 280 — QTY 1 — TOTAL 280.00; 04 Two days onsite — RATE 640 — QTY 2 — TOTAL 1280.00\n",
      "SUBTOTAL            : 2820.00\n",
      "TAX                 : 225.60\n",
      "SHIPPING            : nil\n",
      "TOTAL               : 3045.60\n",
      "BANK_NAME           : Warner & Spencer\n",
      "BANK_ACCOUNT        : 123-456-7890\n",
      "ACCOUNT_NAME        : Reese Miller\n",
      "PAYMENT_INSTRUCTIONS: Cheques payable to \"Reese Miller\"; Please pay within 60 days\n",
      "NOTES               : Lorem ipsum dolor sit amet, consectetur adipiscing elit. Phasellus cursus augue enim, eget rhoncus ante vehicula eu. Fusce lobortis quis odio.\n",
      "\n",
      "OPTIMIZED MODEL PREDICTION:\n",
      "Rationale: Detected invoice number (\"NO. 001\"), invoice date (\"02.05.2024\"), supplier/from (Reese Miller; Timmerman Industries; hello@reallygreatsite.com; 123 Anywhere St., Any City, ST 12345; CODE: 123-456), recipient/to (Rosa Maria Aguado; Aldenaire & Partners; same contact lines present), line items (4 rows with rate, qty, total), subtotal ($2820.00), tax ($225.60), shipping/S&H (\"nil\"), total ($3045.60), bank/payment info (Account Name: Reese Miller; Bank: Warner & Spencer; Acc: 123-456-7890), payment terms (\"Please pay within 60 days\"), and notes (Lorem ipsum text). Items parsed from table: Graphic design for website (45 x 20 = 900.00), Graphic design for social content (45 x 8 = 360.00), Account management fee (280 x 1 = 280.00), Two days onsite (640 x 2 = 1280.00).\n",
      "\n",
      "Extracted fields:\n",
      "INVOICE_NUMBER      : 001\n",
      "INVOICE_DATE        : 02.05.2024\n",
      "FROM_NAME           : Reese Miller\n",
      "FROM_COMPANY        : Timmerman Industries\n",
      "FROM_EMAIL          : hello@reallygreatsite.com\n",
      "FROM_ADDRESS        : 123 Anywhere St., Any City, ST 12345\n",
      "FROM_CODE           : 123-456\n",
      "TO_NAME             : Rosa Maria Aguado\n",
      "TO_COMPANY          : Aldenaire & Partners\n",
      "TO_EMAIL            : hello@reallygreatsite.com\n",
      "TO_ADDRESS          : 123 Anywhere St., Any City, ST 12345\n",
      "TO_CODE             : 123-456\n",
      "ITEMS               : 01 Graphic design for website — Rate 45 — Qty 20 — Total 900.00; 02 Graphic design for social content — Rate 45 — Qty 8 — Total 360.00; 03 Account management fee — Rate 280 — Qty 1 — Total 280.00; 04 Two days onsite — Rate 640 — Qty 2 — Total 1280.00\n",
      "SUBTOTAL            : $2820.00\n",
      "TAX                 : $225.60\n",
      "SHIPPING            : nil\n",
      "TOTAL               : $3045.60\n",
      "BANK_NAME           : Warner & Spencer\n",
      "ACCOUNT_NAME        : Reese Miller\n",
      "ACCOUNT_NUMBER      : 123-456-7890\n",
      "PAYMENT_TERMS       : Please pay within 60 days\n",
      "PAYMENT_INSTRUCTIONS: Bank transfer to Warner & Spencer, Acc: 123-456-7890 (Account Name: Reese Miller). Or cheques payable to \"Reese Miller\"\n",
      "NOTES               : Lorem ipsum dolor sit amet, consectetur adipiscing elit. Phasellus cursus augue enim, eget rhoncus ante vehicula eu. Fusce lobortis quis odio.\n",
      "\n",
      "GROUND TRUTH:\n",
      "\n",
      "Extracted fields:\n",
      "INVOICE_NUMBER      : 001\n",
      "DATE                : 02.05.2024\n",
      "BILL_TO             : Rosa Maria Aguado\n",
      "COMPANY             : Aldenaire & Partners\n",
      "ADDRESS             : 123 Anywhere St., Any City, ST 12345\n",
      "EMAIL               : hello@reallygreatsite.com\n",
      "BANK_NAME           : Warner & Spencer\n",
      "BANK_ACCOUNT        : 123-456-7890\n",
      "ITEM_DESCRIPTION    : Two days onsite\n",
      "QTY                 : 2\n",
      "RATE                : 640\n",
      "AMOUNT              : 1280.00\n",
      "SUBTOTAL            : $ 2820.00\n",
      "TAX                 : $ 225.60\n",
      "TOTAL_AMOUNT        : $ 3045.60\n",
      "PAYMENT_TERMS       : Please pay within 60 days\n"
     ]
    }
   ],
   "source": [
    "# Quick demo on a random validation example\n",
    "sample = valid_examples[0]\n",
    "print(\"Sample comparison:\")\n",
    "print(\"\\nINPUT TEXT:\")\n",
    "print(\"-\" * 80)\n",
    "print(sample.text[:300], \"...\")\n",
    "print(\"-\" * 80)\n",
    "\n",
    "print(\"\\nBASE MODEL PREDICTION:\")\n",
    "base_pred = extractor(text=sample.text)\n",
    "print(f\"Rationale: {base_pred.rationale}\")\n",
    "print(\"\\nExtracted fields:\")\n",
    "for k,v in (base_pred.extracted or {}).items():\n",
    "    print(f\"{k:20s}: {v}\")\n",
    "\n",
    "print(\"\\nOPTIMIZED MODEL PREDICTION:\")\n",
    "opt_pred = optimized(text=sample.text)\n",
    "print(f\"Rationale: {opt_pred.rationale}\")\n",
    "print(\"\\nExtracted fields:\")\n",
    "for k,v in (opt_pred.extracted or {}).items():\n",
    "    print(f\"{k:20s}: {v}\")\n",
    "\n",
    "print(\"\\nGROUND TRUTH:\")\n",
    "print(\"\\nExtracted fields:\")\n",
    "for k,v in sample.target.items():\n",
    "    print(f\"{k:20s}: {v}\")\n"
   ]
  },
  {
   "cell_type": "code",
   "execution_count": 40,
   "id": "b97da160",
   "metadata": {},
   "outputs": [
    {
     "name": "stdout",
     "output_type": "stream",
     "text": [
      "\n",
      "Field Comparison:\n",
      "--------------------------------------------------------------------------------\n",
      "INVOICE_NUMBER      : ✓\n",
      "DATE                : ✗\n",
      "  Ground truth: 02.05.2024\n",
      "  Prediction:   MISSING\n",
      "BILL_TO             : ✗\n",
      "  Ground truth: Rosa Maria Aguado\n",
      "  Prediction:   MISSING\n",
      "COMPANY             : ✗\n",
      "  Ground truth: Aldenaire & Partners\n",
      "  Prediction:   MISSING\n",
      "ADDRESS             : ✗\n",
      "  Ground truth: 123 Anywhere St., Any City, ST 12345\n",
      "  Prediction:   MISSING\n",
      "EMAIL               : ✗\n",
      "  Ground truth: hello@reallygreatsite.com\n",
      "  Prediction:   MISSING\n",
      "BANK_NAME           : ✓\n",
      "BANK_ACCOUNT        : ✗\n",
      "  Ground truth: 123-456-7890\n",
      "  Prediction:   MISSING\n",
      "ITEM_DESCRIPTION    : ✗\n",
      "  Ground truth: Two days onsite\n",
      "  Prediction:   MISSING\n",
      "QTY                 : ✗\n",
      "  Ground truth: 2\n",
      "  Prediction:   MISSING\n",
      "RATE                : ✗\n",
      "  Ground truth: 640\n",
      "  Prediction:   MISSING\n",
      "AMOUNT              : ✗\n",
      "  Ground truth: 1280.00\n",
      "  Prediction:   MISSING\n",
      "SUBTOTAL            : ✗\n",
      "  Ground truth: $ 2820.00\n",
      "  Prediction:   $2820.00\n",
      "TAX                 : ✗\n",
      "  Ground truth: $ 225.60\n",
      "  Prediction:   $225.60\n",
      "TOTAL_AMOUNT        : ✗\n",
      "  Ground truth: $ 3045.60\n",
      "  Prediction:   MISSING\n",
      "PAYMENT_TERMS       : ✓\n",
      "--------------------------------------------------------------------------------\n"
     ]
    }
   ],
   "source": [
    "# Compare predictions with ground truth\n",
    "print(\"\\nField Comparison:\")\n",
    "print(\"-\" * 80)\n",
    "for field in sample.target.keys():\n",
    "    gt_value = sample.target[field]\n",
    "    opt_value = opt_pred.extracted.get(field, \"MISSING\")\n",
    "    match = \"✓\" if gt_value == opt_value else \"✗\"\n",
    "    print(f\"{field:20s}: {match}\")\n",
    "    if match == \"✗\":\n",
    "        print(f\"  Ground truth: {gt_value}\")\n",
    "        print(f\"  Prediction:   {opt_value}\")\n",
    "print(\"-\" * 80)\n"
   ]
  },
  {
   "cell_type": "code",
   "execution_count": 38,
   "id": "4918b7d4",
   "metadata": {},
   "outputs": [
    {
     "name": "stdout",
     "output_type": "stream",
     "text": [
      "\n",
      "Inspecting last prompt:\n",
      "\n",
      "\n",
      "\n",
      "\n",
      "\u001b[34m[2025-09-16T13:50:03.809543]\u001b[0m\n",
      "\n",
      "\u001b[31mSystem message:\u001b[0m\n",
      "\n",
      "Your input fields are:\n",
      "1. `text` (str): Raw invoice text\n",
      "Your output fields are:\n",
      "1. `rationale` (str): Brief reasoning, list detected fields\n",
      "2. `extracted` (dict): JSON dict with only UPPERCASE dataset keys and string values\n",
      "All interactions will be structured in the following way, with the appropriate values filled in.\n",
      "\n",
      "[[ ## text ## ]]\n",
      "{text}\n",
      "\n",
      "[[ ## rationale ## ]]\n",
      "{rationale}\n",
      "\n",
      "[[ ## extracted ## ]]\n",
      "{extracted}        # note: the value you produce must adhere to the JSON schema: {\"type\": \"object\", \"additionalProperties\": true}\n",
      "\n",
      "[[ ## completed ## ]]\n",
      "In adhering to this structure, your objective is: \n",
      "        Extract key-value invoice fields as a JSON dict from free-form invoice text.\n",
      "\n",
      "\n",
      "\u001b[31mUser message:\u001b[0m\n",
      "\n",
      "[[ ## text ## ]]\n",
      "Black and White Minimalist Business Invoice\n",
      "\n",
      "Invoice16 June 2025\n",
      "\n",
      "Invoice No. 12345\n",
      "\n",
      "BILL TO:\n",
      "\n",
      "Marceline Anderson\n",
      "\n",
      "+123-456-7890\n",
      "\n",
      "DESCRIPTION PRICE\n",
      "\n",
      "TAX (20%)SUBTOTAL\n",
      "\n",
      "SUBTOTAL\n",
      "\n",
      "TOTALS\n",
      "\n",
      "Social Media Pack Design\n",
      "\n",
      "Furniture\n",
      "\n",
      "Interior Design\n",
      "\n",
      "Architecture\n",
      "\n",
      "$20.00\n",
      "\n",
      "$560.00\n",
      "\n",
      "$100.00\n",
      "\n",
      "$700.00\n",
      "\n",
      "$1000.00\n",
      "\n",
      "$600.00\n",
      "\n",
      "$3360.00\n",
      "\n",
      "$500.00\n",
      "\n",
      "$700.00\n",
      "\n",
      "$1000.00\n",
      "\n",
      "30x\n",
      "\n",
      "$2800.00\n",
      "\n",
      "5x\n",
      "\n",
      "1x\n",
      "\n",
      "1x\n",
      "\n",
      "Payment Information Samira Hadid\n",
      "\n",
      "123 Anywhere St, Any City, ST 12345\n",
      "+123-456-7890\n",
      "hello@reallygreatsite.com\n",
      "\n",
      "Studio Shodwe\n",
      "\n",
      "Bank: Really Great Bank\n",
      "Account No: 0123 4567 8901\n",
      "\n",
      "\n",
      "\u001b[31mAssistant message:\u001b[0m\n",
      "\n",
      "[[ ## rationale ## ]]\n",
      "Detected clear fields: invoice date (\"16 June 2025\"), invoice number (\"12345\"), bill-to name (\"Marceline Anderson\") and phone (\"+123-456-7890\"), payee/payment contact (\"Samira Hadid\"), payee address (\"123 Anywhere St, Any City, ST 12345\"), payee phone and email (\"+123-456-7890\", \"hello@reallygreatsite.com\"), company (\"Studio Shodwe\"), bank name (\"Really Great Bank\") and account number (\"0123 4567 8901\"), tax rate (20%).\n",
      "\n",
      "The table of items/prices/quantities in the text is fragmented but consistent with four items and unit prices: Social Media Pack Design ($20.00), Furniture ($560.00), Interior Design ($100.00), Architecture ($700.00). Nearby quantities listed (30x, 5x, 1x, 1x) fit these unit prices and produce line totals shown elsewhere ($600.00, $2800.00, $100.00, $700.00). I computed subtotal, tax, and total from those inferred line items (subtotal $4,200.00; tax 20% = $840.00; total = $5,040.00). Where the source contains conflicting/ambiguous standalone numbers (e.g., $3360.00, $1000.00, $500.00), I did not assign them to specific fields because their placement is unclear.\n",
      "\n",
      "Extracted fields below include the confidently detected text values and the inferred itemization and totals (noted as computed in rationale).\n",
      "\n",
      "[[ ## extracted ## ]]\n",
      "{\"INVOICE_DATE\": \"16 June 2025\", \"INVOICE_NUMBER\": \"12345\", \"BILL_TO_NAME\": \"Marceline Anderson\", \"BILL_TO_PHONE\": \"+123-456-7890\", \"COMPANY\": \"Studio Shodwe\", \"PAYEE_NAME\": \"Samira Hadid\", \"PAYEE_ADDRESS\": \"123 Anywhere St, Any City, ST 12345\", \"PAYEE_PHONE\": \"+123-456-7890\", \"PAYEE_EMAIL\": \"hello@reallygreatsite.com\", \"BANK_NAME\": \"Really Great Bank\", \"ACCOUNT_NUMBER\": \"0123 4567 8901\", \"TAX_RATE\": \"20%\", \"CURRENCY\": \"USD\", \"ITEMS\": \"1) Social Media Pack Design — Unit Price $20.00 — Quantity 30 — Line Total $600.00; 2) Furniture — Unit Price $560.00 — Quantity 5 — Line Total $2800.00; 3) Interior Design — Unit Price $100.00 — Quantity 1 — Line Total $100.00; 4) Architecture — Unit Price $700.00 — Quantity 1 — Line Total $700.00\", \"SUBTOTAL\": \"$4,200.00\", \"TAX\": \"$840.00\", \"TOTAL\": \"$5,040.00\"}\n",
      "\n",
      "[[ ## completed ## ]]\n",
      "\n",
      "\n",
      "\u001b[31mUser message:\u001b[0m\n",
      "\n",
      "[[ ## text ## ]]\n",
      "Green Blue Pink Vintage Retro Freelance Invoice\n",
      "\n",
      "NO. DESCRIPTION RATE QTY TOTAL\n",
      "01 Graphic design for website 45 20 900.00\n",
      "02 Graphic design for social content 45 8 360.00\n",
      "03 Account management fee 280 1 280.00\n",
      "04 Two days onsite 640 2 1280.00\n",
      "SUB TOTAL $ 2820.00\n",
      "TAX $ 225.60\n",
      "S&H nil\n",
      "TOTAL $ 3045.60\n",
      "Reese Miller\n",
      "Timmerman Industries\n",
      "hello@reallygreatsite.com\n",
      "123 Anywhere St., Any City, ST 12345\n",
      "CODE: 123-456\n",
      "Notes\n",
      "Lorem ipsum dolor sit amet, consectetur adipiscing elit. Phasellus cursus augue enim, eget rhoncus ante vehicula eu. Fusce lobortis quis odio.\n",
      "DATE\n",
      "Rosa Maria Aguado\n",
      "Aldenaire & Partners\n",
      "hello@reallygreatsite.com\n",
      "123 Anywhere St., Any City, ST 12345\n",
      "CODE: 123-456\n",
      "FROM: TO:\n",
      "NO. 001 02.05.2024\n",
      "Invoice\n",
      "Account Name: Reese Miller\n",
      "Bank: Warner & Spencer\n",
      "Acc: 123-456-7890\n",
      "OR\n",
      "Cheques payable to \"Reese Miller\"\n",
      "Please pay within 60 days\n",
      "Thank you\n",
      "\n",
      "Respond with the corresponding output fields, starting with the field `[[ ## rationale ## ]]`, then `[[ ## extracted ## ]]` (must be formatted as a valid Python dict), and then ending with the marker for `[[ ## completed ## ]]`.\n",
      "\n",
      "\n",
      "\u001b[31mResponse:\u001b[0m\n",
      "\n",
      "\u001b[32m[[ ## rationale ## ]]\n",
      "Detected invoice number (\"NO. 001\"), invoice date (\"02.05.2024\"), supplier/from (Reese Miller; Timmerman Industries; hello@reallygreatsite.com; 123 Anywhere St., Any City, ST 12345; CODE: 123-456), recipient/to (Rosa Maria Aguado; Aldenaire & Partners; same contact lines present), line items (4 rows with rate, qty, total), subtotal ($2820.00), tax ($225.60), shipping/S&H (\"nil\"), total ($3045.60), bank/payment info (Account Name: Reese Miller; Bank: Warner & Spencer; Acc: 123-456-7890), payment terms (\"Please pay within 60 days\"), and notes (Lorem ipsum text). Items parsed from table: Graphic design for website (45 x 20 = 900.00), Graphic design for social content (45 x 8 = 360.00), Account management fee (280 x 1 = 280.00), Two days onsite (640 x 2 = 1280.00).\n",
      "\n",
      "[[ ## extracted ## ]]\n",
      "{\"INVOICE_NUMBER\": \"001\", \"INVOICE_DATE\": \"02.05.2024\", \"FROM_NAME\": \"Reese Miller\", \"FROM_COMPANY\": \"Timmerman Industries\", \"FROM_EMAIL\": \"hello@reallygreatsite.com\", \"FROM_ADDRESS\": \"123 Anywhere St., Any City, ST 12345\", \"FROM_CODE\": \"123-456\", \"TO_NAME\": \"Rosa Maria Aguado\", \"TO_COMPANY\": \"Aldenaire & Partners\", \"TO_EMAIL\": \"hello@reallygreatsite.com\", \"TO_ADDRESS\": \"123 Anywhere St., Any City, ST 12345\", \"TO_CODE\": \"123-456\", \"ITEMS\": \"01 Graphic design for website — Rate 45 — Qty 20 — Total 900.00; 02 Graphic design for social content — Rate 45 — Qty 8 — Total 360.00; 03 Account management fee — Rate 280 — Qty 1 — Total 280.00; 04 Two days onsite — Rate 640 — Qty 2 — Total 1280.00\", \"SUBTOTAL\": \"$2820.00\", \"TAX\": \"$225.60\", \"SHIPPING\": \"nil\", \"TOTAL\": \"$3045.60\", \"BANK_NAME\": \"Warner & Spencer\", \"ACCOUNT_NAME\": \"Reese Miller\", \"ACCOUNT_NUMBER\": \"123-456-7890\", \"PAYMENT_TERMS\": \"Please pay within 60 days\", \"PAYMENT_INSTRUCTIONS\": \"Bank transfer to Warner & Spencer, Acc: 123-456-7890 (Account Name: Reese Miller). Or cheques payable to \\\"Reese Miller\\\"\", \"NOTES\": \"Lorem ipsum dolor sit amet, consectetur adipiscing elit. Phasellus cursus augue enim, eget rhoncus ante vehicula eu. Fusce lobortis quis odio.\"}\n",
      "\n",
      "[[ ## completed ## ]]\u001b[0m\n",
      "\n",
      "\n",
      "\n",
      "\n",
      "\n"
     ]
    }
   ],
   "source": [
    "# Show the last interaction for transparency\n",
    "print(\"\\nInspecting last prompt:\")\n",
    "dspy.inspect_history(n=1)"
   ]
  }
 ],
 "metadata": {
  "kernelspec": {
   "display_name": ".venv",
   "language": "python",
   "name": "python3"
  },
  "language_info": {
   "codemirror_mode": {
    "name": "ipython",
    "version": 3
   },
   "file_extension": ".py",
   "mimetype": "text/x-python",
   "name": "python",
   "nbconvert_exporter": "python",
   "pygments_lexer": "ipython3",
   "version": "3.13.4"
  }
 },
 "nbformat": 4,
 "nbformat_minor": 5
}

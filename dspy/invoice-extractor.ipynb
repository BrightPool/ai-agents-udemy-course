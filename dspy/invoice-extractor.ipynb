{
 "cells": [
  {
   "cell_type": "code",
   "execution_count": 11,
   "id": "75a5b4f3",
   "metadata": {},
   "outputs": [
    {
     "name": "stdout",
     "output_type": "stream",
     "text": [
      "Note: you may need to restart the kernel to use updated packages.\n"
     ]
    }
   ],
   "source": [
    "# Install dependencies (run once per environment)\n",
    "%pip install -q dspy pandas python-dotenv\n",
    "\n",
    "# dataset comes from here: https://www.kaggle.com/datasets/nikitpatel/invoice-ner-dataset?resource=download\n"
   ]
  },
  {
   "cell_type": "code",
   "execution_count": 12,
   "id": "c90a1ac8",
   "metadata": {},
   "outputs": [
    {
     "name": "stdout",
     "output_type": "stream",
     "text": [
      "DSPy configured for invoice extraction.\n"
     ]
    }
   ],
   "source": [
    "# Basic imports and environment setup\n",
    "import os\n",
    "import json\n",
    "import dspy\n",
    "import pandas as pd\n",
    "from dotenv import load_dotenv\n",
    "\n",
    "# Load API keys from .env (OPENAI_API_KEY is expected)\n",
    "load_dotenv()\n",
    "\n",
    "# Configure DSPy default LM similar to other notebooks\n",
    "lm = dspy.LM(\"openai/gpt-5-mini\", api_key=os.getenv(\"OPENAI_API_KEY\"), temperature=1, max_tokens=16000)\n",
    "dspy.configure(lm=lm)\n",
    "\n",
    "print(\"DSPy configured for invoice extraction.\")\n"
   ]
  },
  {
   "cell_type": "code",
   "execution_count": 13,
   "id": "c9e0103d",
   "metadata": {},
   "outputs": [
    {
     "name": "stdout",
     "output_type": "stream",
     "text": [
      "Rows: 67\n",
      "                                               Input  \\\n",
      "0  Cream and White Simple Minimalist Catering Ser...   \n",
      "1  Beige Elegant Professional Business Invoice\\n\\...   \n",
      "\n",
      "                                        Final_Output  \n",
      "0  {\"TOTAL_AMOUNT\": \"$1000\", \"DUE_AMOUNT\": \"$550\"...  \n",
      "1  {\"INVOICE_NUMBER\": \"#01234\", \"BILLED_TO\": \"Est...  \n",
      "Train examples: 30, Valid examples: 10\n"
     ]
    }
   ],
   "source": [
    "# Load dataset and preview a few rows\n",
    "# Prefer absolute path next to this notebook; fallback to project root\n",
    "nb_dir = os.path.dirname(os.path.abspath(\"__file__\")) if \"__file__\" in globals() else os.path.abspath(\"./dspy\")\n",
    "candidates = [\n",
    "    os.path.join(nb_dir, \"invoice_ner_dataset.csv\"),\n",
    "    os.path.abspath(\"./dspy/invoice_ner_dataset.csv\"),\n",
    "    os.path.abspath(\"invoice_ner_dataset.csv\"),\n",
    "]\n",
    "for p in candidates:\n",
    "    if os.path.exists(p):\n",
    "        csv_path = p\n",
    "        break\n",
    "else:\n",
    "    raise FileNotFoundError(\"invoice_ner_dataset.csv not found in expected locations\")\n",
    "\n",
    "raw_df = pd.read_csv(csv_path)\n",
    "print(\"Rows:\", len(raw_df))\n",
    "print(raw_df.head(2))\n",
    "\n",
    "# Parse Final_Output JSON strings into dicts\n",
    "raw_df[\"Final_Output\"] = raw_df[\"Final_Output\"].apply(lambda s: json.loads(s))\n",
    "\n",
    "# Build small train/test splits for quick iteration\n",
    "# Keep it tiny for a simple example; adjust as needed\n",
    "train_df = raw_df.iloc[:30].copy()\n",
    "valid_df = raw_df.iloc[30:40].copy()\n",
    "\n",
    "def to_examples(df):\n",
    "    examples = []\n",
    "    for _, row in df.iterrows():\n",
    "        examples.append(dspy.Example(text=row[\"Input\"], target=row[\"Final_Output\"]).with_inputs(\"text\"))\n",
    "    return examples\n",
    "\n",
    "train_examples = to_examples(train_df)\n",
    "valid_examples = to_examples(valid_df)\n",
    "\n",
    "print(f\"Train examples: {len(train_examples)}, Valid examples: {len(valid_examples)}\")\n"
   ]
  },
  {
   "cell_type": "code",
   "execution_count": 14,
   "id": "262cf4a5",
   "metadata": {},
   "outputs": [
    {
     "name": "stdout",
     "output_type": "stream",
     "text": [
      "Signature and extractor ready.\n"
     ]
    }
   ],
   "source": [
    "# Define a signature for extracting a JSON dict of invoice fields\n",
    "class InvoiceExtraction(dspy.Signature):\n",
    "    \"\"\"\n",
    "    Extract key-value invoice fields as a JSON dict from free-form invoice text.\n",
    "    The output must be valid JSON, parseable into a Python dict[str, str].\n",
    "    Do not invent fields; prefer fields present in the text.\n",
    "    \"\"\"\n",
    "    text: str = dspy.InputField(description=\"Raw invoice text\")\n",
    "    rationale: str = dspy.OutputField(description=\"Brief reasoning, list detected fields\")\n",
    "    extracted: dict = dspy.OutputField(description=\"JSON dict of extracted fields (keys and string values)\")\n",
    "\n",
    "# Base module (simple Predict)\n",
    "extractor = dspy.Predict(InvoiceExtraction)\n",
    "\n",
    "print(\"Signature and extractor ready.\")\n"
   ]
  },
  {
   "cell_type": "code",
   "execution_count": 15,
   "id": "3a618a4c",
   "metadata": {},
   "outputs": [
    {
     "name": "stderr",
     "output_type": "stream",
     "text": [
      "2025/09/16 12:24:27 INFO dspy.evaluate.evaluate: Average Metric: 0.0 / 10 (0.0%)\n"
     ]
    },
    {
     "name": "stdout",
     "output_type": "stream",
     "text": [
      "Initial EM on valid: EvaluationResult(score=0.0, results=<list of 10 results>)\n"
     ]
    }
   ],
   "source": [
    "# Define a simple exact match metric: compare normalized dicts\n",
    "from dspy.evaluate import Evaluate\n",
    "\n",
    "\n",
    "def normalize_dict(d: dict) -> dict:\n",
    "    if d is None:\n",
    "        return {}\n",
    "    # Convert keys to upper snake like in dataset, strip whitespace\n",
    "    def norm_key(k: str) -> str:\n",
    "        return str(k).strip()\n",
    "    def norm_val(v: str) -> str:\n",
    "        return str(v).strip()\n",
    "    return {norm_key(k): norm_val(v) for k, v in d.items()}\n",
    "\n",
    "\n",
    "def em_metric(example: dspy.Example, pred: dspy.Prediction, trace=None) -> float:\n",
    "    gold = normalize_dict(example.target)\n",
    "    got = normalize_dict(getattr(pred, \"extracted\", {}))\n",
    "    return float(got == gold)\n",
    "\n",
    "\n",
    "# Wrap a callable for Evaluate\n",
    "class ExtractCallable:\n",
    "    def __call__(self, text: str):\n",
    "        return extractor(text=text)\n",
    "\n",
    "\n",
    "# Provide the devset at construction per latest API\n",
    "evaluate = Evaluate(devset=valid_examples, metric=em_metric, ordered=True)\n",
    "\n",
    "initial_score = evaluate(ExtractCallable())\n",
    "print(\"Initial EM on valid:\", initial_score)\n"
   ]
  },
  {
   "cell_type": "code",
   "execution_count": 16,
   "id": "0c75157c",
   "metadata": {},
   "outputs": [
    {
     "ename": "ModuleNotFoundError",
     "evalue": "No module named 'dspy.optimizers'",
     "output_type": "error",
     "traceback": [
      "\u001b[31m---------------------------------------------------------------------------\u001b[39m",
      "\u001b[31mModuleNotFoundError\u001b[39m                       Traceback (most recent call last)",
      "\u001b[36mCell\u001b[39m\u001b[36m \u001b[39m\u001b[32mIn[16]\u001b[39m\u001b[32m, line 2\u001b[39m\n\u001b[32m      1\u001b[39m \u001b[38;5;66;03m# Optimize with BootstrapFewShot using a small subset\u001b[39;00m\n\u001b[32m----> \u001b[39m\u001b[32m2\u001b[39m \u001b[38;5;28;01mfrom\u001b[39;00m\u001b[38;5;250m \u001b[39m\u001b[34;01mdspy\u001b[39;00m\u001b[34;01m.\u001b[39;00m\u001b[34;01moptimizers\u001b[39;00m\u001b[38;5;250m \u001b[39m\u001b[38;5;28;01mimport\u001b[39;00m BootstrapFewShot\n\u001b[32m      4\u001b[39m \u001b[38;5;66;03m# Keep k small for speed in demo\u001b[39;00m\n\u001b[32m      5\u001b[39m optimizer = BootstrapFewShot(\n\u001b[32m      6\u001b[39m     metric=em_metric,\n\u001b[32m      7\u001b[39m     max_bootstrapped_demos=\u001b[32m8\u001b[39m,\n\u001b[32m      8\u001b[39m )\n",
      "\u001b[31mModuleNotFoundError\u001b[39m: No module named 'dspy.optimizers'"
     ]
    }
   ],
   "source": [
    "# Optimize with BootstrapFewShot using a small subset\n",
    "from dspy.optimizers import BootstrapFewShot\n",
    "\n",
    "# Keep k small for speed in demo\n",
    "optimizer = BootstrapFewShot(\n",
    "    metric=em_metric,\n",
    "    max_bootstrapped_demos=8,\n",
    ")\n",
    "\n",
    "# Optimizing a ChainOfThought wrapper around our signature generally helps\n",
    "program = dspy.ChainOfThought(InvoiceExtraction)\n",
    "\n",
    "optimized = optimizer.compile(\n",
    "    program=program,\n",
    "    trainset=train_examples,\n",
    "    valset=valid_examples,\n",
    ")\n",
    "\n",
    "# Evaluate optimized program\n",
    "class OptimizedCallable:\n",
    "    def __call__(self, text: str):\n",
    "        return optimized(text=text)\n",
    "\n",
    "opt_score = evaluate(OptimizedCallable())\n",
    "print(\"Optimized EM on valid:\", opt_score)\n"
   ]
  },
  {
   "cell_type": "code",
   "execution_count": null,
   "id": "10a33459",
   "metadata": {},
   "outputs": [],
   "source": [
    "# Quick demo on a random validation example\n",
    "sample = valid_examples[0]\n",
    "print(\"INPUT (truncated):\\n\", sample.text[:600], \"...\\n\")\n",
    "\n",
    "base_pred = extractor(text=sample.text)\n",
    "print(\"Base extracted keys:\", list((base_pred.extracted or {}).keys()))\n",
    "\n",
    "opt_pred = optimized(text=sample.text)\n",
    "print(\"Optimized extracted keys:\", list((opt_pred.extracted or {}).keys()))\n",
    "\n",
    "print(\"\\nGold keys:\", list(sample.target.keys()))\n",
    "\n",
    "# Show the last interaction for transparency\n",
    "print(\"\\nInspecting last prompt:\")\n",
    "dspy.inspect_history(n=1)\n"
   ]
  }
 ],
 "metadata": {
  "kernelspec": {
   "display_name": ".venv",
   "language": "python",
   "name": "python3"
  },
  "language_info": {
   "codemirror_mode": {
    "name": "ipython",
    "version": 3
   },
   "file_extension": ".py",
   "mimetype": "text/x-python",
   "name": "python",
   "nbconvert_exporter": "python",
   "pygments_lexer": "ipython3",
   "version": "3.13.4"
  }
 },
 "nbformat": 4,
 "nbformat_minor": 5
}
